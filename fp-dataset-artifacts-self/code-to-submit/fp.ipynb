{
  "nbformat": 4,
  "nbformat_minor": 0,
  "metadata": {
    "colab": {
      "provenance": [],
      "machine_shape": "hm",
      "gpuType": "V100"
    },
    "kernelspec": {
      "name": "python3",
      "display_name": "Python 3"
    },
    "language_info": {
      "name": "python"
    },
    "accelerator": "GPU"
  },
  "cells": [
    {
      "cell_type": "code",
      "execution_count": null,
      "metadata": {
        "colab": {
          "base_uri": "https://localhost:8080/"
        },
        "id": "XszeugcSmQeq",
        "outputId": "8b320666-4ad4-4dcb-d72f-224a738b147e"
      },
      "outputs": [
        {
          "output_type": "stream",
          "name": "stdout",
          "text": [
            "Cloning into 'fp-dataset-artifacts'...\n",
            "remote: Enumerating objects: 36, done.\u001b[K\n",
            "remote: Counting objects: 100% (11/11), done.\u001b[K\n",
            "remote: Compressing objects: 100% (7/7), done.\u001b[K\n",
            "remote: Total 36 (delta 2), reused 8 (delta 2), pack-reused 25\u001b[K\n",
            "Receiving objects: 100% (36/36), 17.16 KiB | 17.16 MiB/s, done.\n",
            "Resolving deltas: 100% (10/10), done.\n"
          ]
        }
      ],
      "source": [
        "!git clone https://github.com/gregdurrett/fp-dataset-artifacts.git"
      ]
    },
    {
      "cell_type": "code",
      "source": [
        "cd fp-dataset-artifacts/"
      ],
      "metadata": {
        "colab": {
          "base_uri": "https://localhost:8080/"
        },
        "id": "m-kc_yO1mb67",
        "outputId": "4d0761f4-f692-498a-8495-7fda029630c9"
      },
      "execution_count": null,
      "outputs": [
        {
          "output_type": "stream",
          "name": "stdout",
          "text": [
            "/content/fp-dataset-artifacts\n"
          ]
        }
      ]
    },
    {
      "cell_type": "code",
      "source": [
        "pip install --upgrade pip"
      ],
      "metadata": {
        "colab": {
          "base_uri": "https://localhost:8080/"
        },
        "id": "tg5l3v2EmdhB",
        "outputId": "87077851-9e3f-4098-ae0e-971714b9601b"
      },
      "execution_count": null,
      "outputs": [
        {
          "output_type": "stream",
          "name": "stdout",
          "text": [
            "Requirement already satisfied: pip in /usr/local/lib/python3.10/dist-packages (23.1.2)\n",
            "Collecting pip\n",
            "  Downloading pip-23.3.1-py3-none-any.whl (2.1 MB)\n",
            "\u001b[2K     \u001b[90m━━━━━━━━━━━━━━━━━━━━━━━━━━━━━━━━━━━━━━━━\u001b[0m \u001b[32m2.1/2.1 MB\u001b[0m \u001b[31m14.8 MB/s\u001b[0m eta \u001b[36m0:00:00\u001b[0m\n",
            "\u001b[?25hInstalling collected packages: pip\n",
            "  Attempting uninstall: pip\n",
            "    Found existing installation: pip 23.1.2\n",
            "    Uninstalling pip-23.1.2:\n",
            "      Successfully uninstalled pip-23.1.2\n",
            "Successfully installed pip-23.3.1\n"
          ]
        }
      ]
    },
    {
      "cell_type": "code",
      "source": [
        "pip install -r requirements.txt"
      ],
      "metadata": {
        "colab": {
          "base_uri": "https://localhost:8080/"
        },
        "id": "f8wiUbEKme6m",
        "outputId": "ad676940-c668-481f-c217-52b39791aaca"
      },
      "execution_count": null,
      "outputs": [
        {
          "output_type": "stream",
          "name": "stdout",
          "text": [
            "Collecting accelerate (from -r requirements.txt (line 1))\n",
            "  Downloading accelerate-0.24.1-py3-none-any.whl.metadata (18 kB)\n",
            "Collecting datasets (from -r requirements.txt (line 2))\n",
            "  Downloading datasets-2.14.6-py3-none-any.whl.metadata (19 kB)\n",
            "Requirement already satisfied: torch in /usr/local/lib/python3.10/dist-packages (from -r requirements.txt (line 3)) (2.1.0+cu118)\n",
            "Requirement already satisfied: tqdm in /usr/local/lib/python3.10/dist-packages (from -r requirements.txt (line 4)) (4.66.1)\n",
            "Collecting transformers (from -r requirements.txt (line 5))\n",
            "  Downloading transformers-4.35.0-py3-none-any.whl.metadata (123 kB)\n",
            "\u001b[2K     \u001b[90m━━━━━━━━━━━━━━━━━━━━━━━━━━━━━━━━━━━━━━━━\u001b[0m \u001b[32m123.1/123.1 kB\u001b[0m \u001b[31m4.1 MB/s\u001b[0m eta \u001b[36m0:00:00\u001b[0m\n",
            "\u001b[?25hRequirement already satisfied: numpy>=1.17 in /usr/local/lib/python3.10/dist-packages (from accelerate->-r requirements.txt (line 1)) (1.23.5)\n",
            "Requirement already satisfied: packaging>=20.0 in /usr/local/lib/python3.10/dist-packages (from accelerate->-r requirements.txt (line 1)) (23.2)\n",
            "Requirement already satisfied: psutil in /usr/local/lib/python3.10/dist-packages (from accelerate->-r requirements.txt (line 1)) (5.9.5)\n",
            "Requirement already satisfied: pyyaml in /usr/local/lib/python3.10/dist-packages (from accelerate->-r requirements.txt (line 1)) (6.0.1)\n",
            "Collecting huggingface-hub (from accelerate->-r requirements.txt (line 1))\n",
            "  Downloading huggingface_hub-0.18.0-py3-none-any.whl.metadata (13 kB)\n",
            "Requirement already satisfied: pyarrow>=8.0.0 in /usr/local/lib/python3.10/dist-packages (from datasets->-r requirements.txt (line 2)) (9.0.0)\n",
            "Collecting dill<0.3.8,>=0.3.0 (from datasets->-r requirements.txt (line 2))\n",
            "  Downloading dill-0.3.7-py3-none-any.whl.metadata (9.9 kB)\n",
            "Requirement already satisfied: pandas in /usr/local/lib/python3.10/dist-packages (from datasets->-r requirements.txt (line 2)) (1.5.3)\n",
            "Requirement already satisfied: requests>=2.19.0 in /usr/local/lib/python3.10/dist-packages (from datasets->-r requirements.txt (line 2)) (2.31.0)\n",
            "Requirement already satisfied: xxhash in /usr/local/lib/python3.10/dist-packages (from datasets->-r requirements.txt (line 2)) (3.4.1)\n",
            "Collecting multiprocess (from datasets->-r requirements.txt (line 2))\n",
            "  Downloading multiprocess-0.70.15-py310-none-any.whl.metadata (7.2 kB)\n",
            "Requirement already satisfied: fsspec<=2023.10.0,>=2023.1.0 in /usr/local/lib/python3.10/dist-packages (from fsspec[http]<=2023.10.0,>=2023.1.0->datasets->-r requirements.txt (line 2)) (2023.6.0)\n",
            "Requirement already satisfied: aiohttp in /usr/local/lib/python3.10/dist-packages (from datasets->-r requirements.txt (line 2)) (3.8.6)\n",
            "Requirement already satisfied: filelock in /usr/local/lib/python3.10/dist-packages (from torch->-r requirements.txt (line 3)) (3.12.4)\n",
            "Requirement already satisfied: typing-extensions in /usr/local/lib/python3.10/dist-packages (from torch->-r requirements.txt (line 3)) (4.5.0)\n",
            "Requirement already satisfied: sympy in /usr/local/lib/python3.10/dist-packages (from torch->-r requirements.txt (line 3)) (1.12)\n",
            "Requirement already satisfied: networkx in /usr/local/lib/python3.10/dist-packages (from torch->-r requirements.txt (line 3)) (3.2)\n",
            "Requirement already satisfied: jinja2 in /usr/local/lib/python3.10/dist-packages (from torch->-r requirements.txt (line 3)) (3.1.2)\n",
            "Requirement already satisfied: triton==2.1.0 in /usr/local/lib/python3.10/dist-packages (from torch->-r requirements.txt (line 3)) (2.1.0)\n",
            "Requirement already satisfied: regex!=2019.12.17 in /usr/local/lib/python3.10/dist-packages (from transformers->-r requirements.txt (line 5)) (2023.6.3)\n",
            "Collecting tokenizers<0.15,>=0.14 (from transformers->-r requirements.txt (line 5))\n",
            "  Downloading tokenizers-0.14.1-cp310-cp310-manylinux_2_17_x86_64.manylinux2014_x86_64.whl.metadata (6.7 kB)\n",
            "Collecting safetensors>=0.3.1 (from transformers->-r requirements.txt (line 5))\n",
            "  Downloading safetensors-0.4.0-cp310-cp310-manylinux_2_17_x86_64.manylinux2014_x86_64.whl.metadata (3.8 kB)\n",
            "Requirement already satisfied: attrs>=17.3.0 in /usr/local/lib/python3.10/dist-packages (from aiohttp->datasets->-r requirements.txt (line 2)) (23.1.0)\n",
            "Requirement already satisfied: charset-normalizer<4.0,>=2.0 in /usr/local/lib/python3.10/dist-packages (from aiohttp->datasets->-r requirements.txt (line 2)) (3.3.1)\n",
            "Requirement already satisfied: multidict<7.0,>=4.5 in /usr/local/lib/python3.10/dist-packages (from aiohttp->datasets->-r requirements.txt (line 2)) (6.0.4)\n",
            "Requirement already satisfied: async-timeout<5.0,>=4.0.0a3 in /usr/local/lib/python3.10/dist-packages (from aiohttp->datasets->-r requirements.txt (line 2)) (4.0.3)\n",
            "Requirement already satisfied: yarl<2.0,>=1.0 in /usr/local/lib/python3.10/dist-packages (from aiohttp->datasets->-r requirements.txt (line 2)) (1.9.2)\n",
            "Requirement already satisfied: frozenlist>=1.1.1 in /usr/local/lib/python3.10/dist-packages (from aiohttp->datasets->-r requirements.txt (line 2)) (1.4.0)\n",
            "Requirement already satisfied: aiosignal>=1.1.2 in /usr/local/lib/python3.10/dist-packages (from aiohttp->datasets->-r requirements.txt (line 2)) (1.3.1)\n",
            "Requirement already satisfied: idna<4,>=2.5 in /usr/local/lib/python3.10/dist-packages (from requests>=2.19.0->datasets->-r requirements.txt (line 2)) (3.4)\n",
            "Requirement already satisfied: urllib3<3,>=1.21.1 in /usr/local/lib/python3.10/dist-packages (from requests>=2.19.0->datasets->-r requirements.txt (line 2)) (2.0.7)\n",
            "Requirement already satisfied: certifi>=2017.4.17 in /usr/local/lib/python3.10/dist-packages (from requests>=2.19.0->datasets->-r requirements.txt (line 2)) (2023.7.22)\n",
            "Collecting huggingface-hub (from accelerate->-r requirements.txt (line 1))\n",
            "  Downloading huggingface_hub-0.17.3-py3-none-any.whl.metadata (13 kB)\n",
            "Requirement already satisfied: MarkupSafe>=2.0 in /usr/local/lib/python3.10/dist-packages (from jinja2->torch->-r requirements.txt (line 3)) (2.1.3)\n",
            "Requirement already satisfied: python-dateutil>=2.8.1 in /usr/local/lib/python3.10/dist-packages (from pandas->datasets->-r requirements.txt (line 2)) (2.8.2)\n",
            "Requirement already satisfied: pytz>=2020.1 in /usr/local/lib/python3.10/dist-packages (from pandas->datasets->-r requirements.txt (line 2)) (2023.3.post1)\n",
            "Requirement already satisfied: mpmath>=0.19 in /usr/local/lib/python3.10/dist-packages (from sympy->torch->-r requirements.txt (line 3)) (1.3.0)\n",
            "Requirement already satisfied: six>=1.5 in /usr/local/lib/python3.10/dist-packages (from python-dateutil>=2.8.1->pandas->datasets->-r requirements.txt (line 2)) (1.16.0)\n",
            "Downloading accelerate-0.24.1-py3-none-any.whl (261 kB)\n",
            "\u001b[2K   \u001b[90m━━━━━━━━━━━━━━━━━━━━━━━━━━━━━━━━━━━━━━━━\u001b[0m \u001b[32m261.4/261.4 kB\u001b[0m \u001b[31m8.3 MB/s\u001b[0m eta \u001b[36m0:00:00\u001b[0m\n",
            "\u001b[?25hDownloading datasets-2.14.6-py3-none-any.whl (493 kB)\n",
            "\u001b[2K   \u001b[90m━━━━━━━━━━━━━━━━━━━━━━━━━━━━━━━━━━━━━━━━\u001b[0m \u001b[32m493.7/493.7 kB\u001b[0m \u001b[31m12.8 MB/s\u001b[0m eta \u001b[36m0:00:00\u001b[0m\n",
            "\u001b[?25hDownloading transformers-4.35.0-py3-none-any.whl (7.9 MB)\n",
            "\u001b[2K   \u001b[90m━━━━━━━━━━━━━━━━━━━━━━━━━━━━━━━━━━━━━━━━\u001b[0m \u001b[32m7.9/7.9 MB\u001b[0m \u001b[31m42.9 MB/s\u001b[0m eta \u001b[36m0:00:00\u001b[0m\n",
            "\u001b[?25hDownloading dill-0.3.7-py3-none-any.whl (115 kB)\n",
            "\u001b[2K   \u001b[90m━━━━━━━━━━━━━━━━━━━━━━━━━━━━━━━━━━━━━━━━\u001b[0m \u001b[32m115.3/115.3 kB\u001b[0m \u001b[31m8.3 MB/s\u001b[0m eta \u001b[36m0:00:00\u001b[0m\n",
            "\u001b[?25hDownloading safetensors-0.4.0-cp310-cp310-manylinux_2_17_x86_64.manylinux2014_x86_64.whl (1.3 MB)\n",
            "\u001b[2K   \u001b[90m━━━━━━━━━━━━━━━━━━━━━━━━━━━━━━━━━━━━━━━━\u001b[0m \u001b[32m1.3/1.3 MB\u001b[0m \u001b[31m51.6 MB/s\u001b[0m eta \u001b[36m0:00:00\u001b[0m\n",
            "\u001b[?25hDownloading tokenizers-0.14.1-cp310-cp310-manylinux_2_17_x86_64.manylinux2014_x86_64.whl (3.8 MB)\n",
            "\u001b[2K   \u001b[90m━━━━━━━━━━━━━━━━━━━━━━━━━━━━━━━━━━━━━━━━\u001b[0m \u001b[32m3.8/3.8 MB\u001b[0m \u001b[31m79.8 MB/s\u001b[0m eta \u001b[36m0:00:00\u001b[0m\n",
            "\u001b[?25hDownloading huggingface_hub-0.17.3-py3-none-any.whl (295 kB)\n",
            "\u001b[2K   \u001b[90m━━━━━━━━━━━━━━━━━━━━━━━━━━━━━━━━━━━━━━━━\u001b[0m \u001b[32m295.0/295.0 kB\u001b[0m \u001b[31m20.2 MB/s\u001b[0m eta \u001b[36m0:00:00\u001b[0m\n",
            "\u001b[?25hDownloading multiprocess-0.70.15-py310-none-any.whl (134 kB)\n",
            "\u001b[2K   \u001b[90m━━━━━━━━━━━━━━━━━━━━━━━━━━━━━━━━━━━━━━━━\u001b[0m \u001b[32m134.8/134.8 kB\u001b[0m \u001b[31m10.6 MB/s\u001b[0m eta \u001b[36m0:00:00\u001b[0m\n",
            "\u001b[?25hInstalling collected packages: safetensors, dill, multiprocess, huggingface-hub, tokenizers, accelerate, transformers, datasets\n",
            "Successfully installed accelerate-0.24.1 datasets-2.14.6 dill-0.3.7 huggingface-hub-0.17.3 multiprocess-0.70.15 safetensors-0.4.0 tokenizers-0.14.1 transformers-4.35.0\n",
            "\u001b[33mWARNING: Running pip as the 'root' user can result in broken permissions and conflicting behaviour with the system package manager. It is recommended to use a virtual environment instead: https://pip.pypa.io/warnings/venv\u001b[0m\u001b[33m\n",
            "\u001b[0m"
          ]
        }
      ]
    },
    {
      "cell_type": "code",
      "source": [
        "pip install -r requirements.txt"
      ],
      "metadata": {
        "colab": {
          "base_uri": "https://localhost:8080/"
        },
        "id": "rqDWrhI3mtfK",
        "outputId": "cc9ea528-5d2a-42ad-a82e-035f97fc981f"
      },
      "execution_count": null,
      "outputs": [
        {
          "output_type": "stream",
          "name": "stdout",
          "text": [
            "Requirement already satisfied: accelerate in /usr/local/lib/python3.10/dist-packages (from -r requirements.txt (line 1)) (0.24.1)\n",
            "Requirement already satisfied: datasets in /usr/local/lib/python3.10/dist-packages (from -r requirements.txt (line 2)) (2.14.6)\n",
            "Requirement already satisfied: torch in /usr/local/lib/python3.10/dist-packages (from -r requirements.txt (line 3)) (2.1.0+cu118)\n",
            "Requirement already satisfied: tqdm in /usr/local/lib/python3.10/dist-packages (from -r requirements.txt (line 4)) (4.66.1)\n",
            "Requirement already satisfied: transformers in /usr/local/lib/python3.10/dist-packages (from -r requirements.txt (line 5)) (4.35.0)\n",
            "Requirement already satisfied: numpy>=1.17 in /usr/local/lib/python3.10/dist-packages (from accelerate->-r requirements.txt (line 1)) (1.23.5)\n",
            "Requirement already satisfied: packaging>=20.0 in /usr/local/lib/python3.10/dist-packages (from accelerate->-r requirements.txt (line 1)) (23.2)\n",
            "Requirement already satisfied: psutil in /usr/local/lib/python3.10/dist-packages (from accelerate->-r requirements.txt (line 1)) (5.9.5)\n",
            "Requirement already satisfied: pyyaml in /usr/local/lib/python3.10/dist-packages (from accelerate->-r requirements.txt (line 1)) (6.0.1)\n",
            "Requirement already satisfied: huggingface-hub in /usr/local/lib/python3.10/dist-packages (from accelerate->-r requirements.txt (line 1)) (0.17.3)\n",
            "Requirement already satisfied: pyarrow>=8.0.0 in /usr/local/lib/python3.10/dist-packages (from datasets->-r requirements.txt (line 2)) (9.0.0)\n",
            "Requirement already satisfied: dill<0.3.8,>=0.3.0 in /usr/local/lib/python3.10/dist-packages (from datasets->-r requirements.txt (line 2)) (0.3.7)\n",
            "Requirement already satisfied: pandas in /usr/local/lib/python3.10/dist-packages (from datasets->-r requirements.txt (line 2)) (1.5.3)\n",
            "Requirement already satisfied: requests>=2.19.0 in /usr/local/lib/python3.10/dist-packages (from datasets->-r requirements.txt (line 2)) (2.31.0)\n",
            "Requirement already satisfied: xxhash in /usr/local/lib/python3.10/dist-packages (from datasets->-r requirements.txt (line 2)) (3.4.1)\n",
            "Requirement already satisfied: multiprocess in /usr/local/lib/python3.10/dist-packages (from datasets->-r requirements.txt (line 2)) (0.70.15)\n",
            "Requirement already satisfied: fsspec<=2023.10.0,>=2023.1.0 in /usr/local/lib/python3.10/dist-packages (from fsspec[http]<=2023.10.0,>=2023.1.0->datasets->-r requirements.txt (line 2)) (2023.6.0)\n",
            "Requirement already satisfied: aiohttp in /usr/local/lib/python3.10/dist-packages (from datasets->-r requirements.txt (line 2)) (3.8.6)\n",
            "Requirement already satisfied: filelock in /usr/local/lib/python3.10/dist-packages (from torch->-r requirements.txt (line 3)) (3.12.4)\n",
            "Requirement already satisfied: typing-extensions in /usr/local/lib/python3.10/dist-packages (from torch->-r requirements.txt (line 3)) (4.5.0)\n",
            "Requirement already satisfied: sympy in /usr/local/lib/python3.10/dist-packages (from torch->-r requirements.txt (line 3)) (1.12)\n",
            "Requirement already satisfied: networkx in /usr/local/lib/python3.10/dist-packages (from torch->-r requirements.txt (line 3)) (3.2)\n",
            "Requirement already satisfied: jinja2 in /usr/local/lib/python3.10/dist-packages (from torch->-r requirements.txt (line 3)) (3.1.2)\n",
            "Requirement already satisfied: triton==2.1.0 in /usr/local/lib/python3.10/dist-packages (from torch->-r requirements.txt (line 3)) (2.1.0)\n",
            "Requirement already satisfied: regex!=2019.12.17 in /usr/local/lib/python3.10/dist-packages (from transformers->-r requirements.txt (line 5)) (2023.6.3)\n",
            "Requirement already satisfied: tokenizers<0.15,>=0.14 in /usr/local/lib/python3.10/dist-packages (from transformers->-r requirements.txt (line 5)) (0.14.1)\n",
            "Requirement already satisfied: safetensors>=0.3.1 in /usr/local/lib/python3.10/dist-packages (from transformers->-r requirements.txt (line 5)) (0.4.0)\n",
            "Requirement already satisfied: attrs>=17.3.0 in /usr/local/lib/python3.10/dist-packages (from aiohttp->datasets->-r requirements.txt (line 2)) (23.1.0)\n",
            "Requirement already satisfied: charset-normalizer<4.0,>=2.0 in /usr/local/lib/python3.10/dist-packages (from aiohttp->datasets->-r requirements.txt (line 2)) (3.3.1)\n",
            "Requirement already satisfied: multidict<7.0,>=4.5 in /usr/local/lib/python3.10/dist-packages (from aiohttp->datasets->-r requirements.txt (line 2)) (6.0.4)\n",
            "Requirement already satisfied: async-timeout<5.0,>=4.0.0a3 in /usr/local/lib/python3.10/dist-packages (from aiohttp->datasets->-r requirements.txt (line 2)) (4.0.3)\n",
            "Requirement already satisfied: yarl<2.0,>=1.0 in /usr/local/lib/python3.10/dist-packages (from aiohttp->datasets->-r requirements.txt (line 2)) (1.9.2)\n",
            "Requirement already satisfied: frozenlist>=1.1.1 in /usr/local/lib/python3.10/dist-packages (from aiohttp->datasets->-r requirements.txt (line 2)) (1.4.0)\n",
            "Requirement already satisfied: aiosignal>=1.1.2 in /usr/local/lib/python3.10/dist-packages (from aiohttp->datasets->-r requirements.txt (line 2)) (1.3.1)\n",
            "Requirement already satisfied: idna<4,>=2.5 in /usr/local/lib/python3.10/dist-packages (from requests>=2.19.0->datasets->-r requirements.txt (line 2)) (3.4)\n",
            "Requirement already satisfied: urllib3<3,>=1.21.1 in /usr/local/lib/python3.10/dist-packages (from requests>=2.19.0->datasets->-r requirements.txt (line 2)) (2.0.7)\n",
            "Requirement already satisfied: certifi>=2017.4.17 in /usr/local/lib/python3.10/dist-packages (from requests>=2.19.0->datasets->-r requirements.txt (line 2)) (2023.7.22)\n",
            "Requirement already satisfied: MarkupSafe>=2.0 in /usr/local/lib/python3.10/dist-packages (from jinja2->torch->-r requirements.txt (line 3)) (2.1.3)\n",
            "Requirement already satisfied: python-dateutil>=2.8.1 in /usr/local/lib/python3.10/dist-packages (from pandas->datasets->-r requirements.txt (line 2)) (2.8.2)\n",
            "Requirement already satisfied: pytz>=2020.1 in /usr/local/lib/python3.10/dist-packages (from pandas->datasets->-r requirements.txt (line 2)) (2023.3.post1)\n",
            "Requirement already satisfied: mpmath>=0.19 in /usr/local/lib/python3.10/dist-packages (from sympy->torch->-r requirements.txt (line 3)) (1.3.0)\n",
            "Requirement already satisfied: six>=1.5 in /usr/local/lib/python3.10/dist-packages (from python-dateutil>=2.8.1->pandas->datasets->-r requirements.txt (line 2)) (1.16.0)\n",
            "\u001b[33mWARNING: Running pip as the 'root' user can result in broken permissions and conflicting behaviour with the system package manager. It is recommended to use a virtual environment instead: https://pip.pypa.io/warnings/venv\u001b[0m\u001b[33m\n",
            "\u001b[0m"
          ]
        }
      ]
    },
    {
      "cell_type": "code",
      "source": [
        "!python3 --version"
      ],
      "metadata": {
        "colab": {
          "base_uri": "https://localhost:8080/"
        },
        "id": "p9cWnXuxoVaM",
        "outputId": "3525e1d5-ed56-4ebf-e2bf-2886817b8358"
      },
      "execution_count": null,
      "outputs": [
        {
          "output_type": "stream",
          "name": "stdout",
          "text": [
            "Python 3.10.12\n"
          ]
        }
      ]
    },
    {
      "cell_type": "code",
      "source": [
        "!python run.py --do_train --task nli --dataset snli --output_dir ./trained_model/"
      ],
      "metadata": {
        "colab": {
          "base_uri": "https://localhost:8080/"
        },
        "id": "G8rWS6f0odvh",
        "outputId": "16814c3e-f1d3-493a-95b4-573ef4fe56a5"
      },
      "execution_count": null,
      "outputs": [
        {
          "output_type": "stream",
          "name": "stdout",
          "text": [
            "2023-11-03 14:44:07.353676: E tensorflow/compiler/xla/stream_executor/cuda/cuda_dnn.cc:9342] Unable to register cuDNN factory: Attempting to register factory for plugin cuDNN when one has already been registered\n",
            "2023-11-03 14:44:07.353730: E tensorflow/compiler/xla/stream_executor/cuda/cuda_fft.cc:609] Unable to register cuFFT factory: Attempting to register factory for plugin cuFFT when one has already been registered\n",
            "2023-11-03 14:44:07.353769: E tensorflow/compiler/xla/stream_executor/cuda/cuda_blas.cc:1518] Unable to register cuBLAS factory: Attempting to register factory for plugin cuBLAS when one has already been registered\n",
            "2023-11-03 14:44:08.733837: W tensorflow/compiler/tf2tensorrt/utils/py_utils.cc:38] TF-TRT Warning: Could not find TensorRT\n",
            "Downloading builder script: 100% 3.82k/3.82k [00:00<00:00, 22.0MB/s]\n",
            "Downloading metadata: 100% 1.90k/1.90k [00:00<00:00, 13.3MB/s]\n",
            "Downloading readme: 100% 14.1k/14.1k [00:00<00:00, 37.3MB/s]\n",
            "Downloading: 100% 1.93k/1.93k [00:00<00:00, 10.5MB/s]\n",
            "Downloading: 100% 1.26M/1.26M [00:00<00:00, 3.00MB/s]\n",
            "Downloading: 100% 65.9M/65.9M [00:02<00:00, 31.2MB/s]\n",
            "Downloading: 100% 1.26M/1.26M [00:00<00:00, 3.05MB/s]\n",
            "Downloading (…)lve/main/config.json: 100% 665/665 [00:00<00:00, 3.79MB/s]\n",
            "Downloading pytorch_model.bin: 100% 54.2M/54.2M [00:00<00:00, 172MB/s]\n",
            "Some weights of ElectraForSequenceClassification were not initialized from the model checkpoint at google/electra-small-discriminator and are newly initialized: ['classifier.dense.weight', 'classifier.out_proj.bias', 'classifier.dense.bias', 'classifier.out_proj.weight']\n",
            "You should probably TRAIN this model on a down-stream task to be able to use it for predictions and inference.\n",
            "Downloading (…)okenizer_config.json: 100% 29.0/29.0 [00:00<00:00, 181kB/s]\n",
            "Downloading (…)solve/main/vocab.txt: 100% 232k/232k [00:00<00:00, 17.4MB/s]\n",
            "Downloading (…)/main/tokenizer.json: 100% 466k/466k [00:00<00:00, 5.24MB/s]\n",
            "Preprocessing data... (this takes a little bit, should only happen once per dataset)\n",
            "Filter: 100% 10000/10000 [00:00<00:00, 96426.99 examples/s]\n",
            "Filter: 100% 550152/550152 [00:02<00:00, 248252.31 examples/s]\n",
            "Filter: 100% 10000/10000 [00:00<00:00, 247226.94 examples/s]\n",
            "Map (num_proc=2): 100% 549367/549367 [00:46<00:00, 11820.00 examples/s]\n",
            "  0% 0/206013 [00:00<?, ?it/s]You're using a ElectraTokenizerFast tokenizer. Please note that with a fast tokenizer, using the `__call__` method is faster than using a method to encode the text followed by a call to the `pad` method to get a padded encoding.\n",
            "{'loss': 0.9012, 'learning_rate': 4.987864843480751e-05, 'epoch': 0.01}\n",
            "{'loss': 0.7232, 'learning_rate': 4.975729686961503e-05, 'epoch': 0.01}\n",
            "{'loss': 0.6755, 'learning_rate': 4.963594530442254e-05, 'epoch': 0.02}\n",
            "{'loss': 0.6546, 'learning_rate': 4.951459373923005e-05, 'epoch': 0.03}\n",
            "{'loss': 0.6313, 'learning_rate': 4.9393242174037564e-05, 'epoch': 0.04}\n",
            "{'loss': 0.6154, 'learning_rate': 4.927189060884507e-05, 'epoch': 0.04}\n",
            "{'loss': 0.6208, 'learning_rate': 4.9150539043652585e-05, 'epoch': 0.05}\n",
            "{'loss': 0.6029, 'learning_rate': 4.90291874784601e-05, 'epoch': 0.06}\n",
            "{'loss': 0.6255, 'learning_rate': 4.890783591326761e-05, 'epoch': 0.07}\n",
            "{'loss': 0.5891, 'learning_rate': 4.8786484348075126e-05, 'epoch': 0.07}\n",
            "{'loss': 0.5933, 'learning_rate': 4.866513278288264e-05, 'epoch': 0.08}\n",
            "{'loss': 0.572, 'learning_rate': 4.8543781217690146e-05, 'epoch': 0.09}\n",
            "{'loss': 0.5842, 'learning_rate': 4.842242965249766e-05, 'epoch': 0.09}\n",
            "{'loss': 0.5668, 'learning_rate': 4.8301078087305174e-05, 'epoch': 0.1}\n",
            "{'loss': 0.5436, 'learning_rate': 4.817972652211268e-05, 'epoch': 0.11}\n",
            "{'loss': 0.5498, 'learning_rate': 4.80583749569202e-05, 'epoch': 0.12}\n",
            "{'loss': 0.5484, 'learning_rate': 4.793702339172771e-05, 'epoch': 0.12}\n",
            "{'loss': 0.5334, 'learning_rate': 4.781567182653522e-05, 'epoch': 0.13}\n",
            "{'loss': 0.5573, 'learning_rate': 4.7694320261342736e-05, 'epoch': 0.14}\n",
            "{'loss': 0.5425, 'learning_rate': 4.757296869615024e-05, 'epoch': 0.15}\n",
            "{'loss': 0.5341, 'learning_rate': 4.7451617130957756e-05, 'epoch': 0.15}\n",
            "{'loss': 0.5536, 'learning_rate': 4.733026556576527e-05, 'epoch': 0.16}\n",
            "{'loss': 0.5484, 'learning_rate': 4.720891400057278e-05, 'epoch': 0.17}\n",
            "{'loss': 0.5259, 'learning_rate': 4.70875624353803e-05, 'epoch': 0.17}\n",
            "{'loss': 0.5336, 'learning_rate': 4.6966210870187804e-05, 'epoch': 0.18}\n",
            "{'loss': 0.5354, 'learning_rate': 4.684485930499532e-05, 'epoch': 0.19}\n",
            "{'loss': 0.523, 'learning_rate': 4.672350773980283e-05, 'epoch': 0.2}\n",
            "{'loss': 0.503, 'learning_rate': 4.660215617461034e-05, 'epoch': 0.2}\n",
            "{'loss': 0.5275, 'learning_rate': 4.648080460941785e-05, 'epoch': 0.21}\n",
            "{'loss': 0.5336, 'learning_rate': 4.6359453044225366e-05, 'epoch': 0.22}\n",
            "{'loss': 0.5, 'learning_rate': 4.623810147903288e-05, 'epoch': 0.23}\n",
            "{'loss': 0.526, 'learning_rate': 4.611674991384039e-05, 'epoch': 0.23}\n",
            "{'loss': 0.5039, 'learning_rate': 4.599539834864791e-05, 'epoch': 0.24}\n",
            "{'loss': 0.5182, 'learning_rate': 4.5874046783455414e-05, 'epoch': 0.25}\n",
            "{'loss': 0.5315, 'learning_rate': 4.575269521826293e-05, 'epoch': 0.25}\n",
            "{'loss': 0.5114, 'learning_rate': 4.563134365307044e-05, 'epoch': 0.26}\n",
            "{'loss': 0.4949, 'learning_rate': 4.550999208787795e-05, 'epoch': 0.27}\n",
            "{'loss': 0.4959, 'learning_rate': 4.538864052268547e-05, 'epoch': 0.28}\n",
            "{'loss': 0.4967, 'learning_rate': 4.5267288957492976e-05, 'epoch': 0.28}\n",
            "{'loss': 0.5087, 'learning_rate': 4.514593739230048e-05, 'epoch': 0.29}\n",
            "{'loss': 0.4865, 'learning_rate': 4.5024585827108e-05, 'epoch': 0.3}\n",
            "{'loss': 0.4927, 'learning_rate': 4.490323426191551e-05, 'epoch': 0.31}\n",
            "{'loss': 0.4971, 'learning_rate': 4.4781882696723024e-05, 'epoch': 0.31}\n",
            "{'loss': 0.489, 'learning_rate': 4.466053113153054e-05, 'epoch': 0.32}\n",
            "{'loss': 0.4983, 'learning_rate': 4.4539179566338044e-05, 'epoch': 0.33}\n",
            "{'loss': 0.4785, 'learning_rate': 4.4417828001145565e-05, 'epoch': 0.33}\n",
            "{'loss': 0.5033, 'learning_rate': 4.429647643595307e-05, 'epoch': 0.34}\n",
            "{'loss': 0.4888, 'learning_rate': 4.4175124870760585e-05, 'epoch': 0.35}\n",
            "{'loss': 0.4812, 'learning_rate': 4.40537733055681e-05, 'epoch': 0.36}\n",
            "{'loss': 0.505, 'learning_rate': 4.393242174037561e-05, 'epoch': 0.36}\n",
            "{'loss': 0.4818, 'learning_rate': 4.381107017518312e-05, 'epoch': 0.37}\n",
            "{'loss': 0.4808, 'learning_rate': 4.368971860999063e-05, 'epoch': 0.38}\n",
            "{'loss': 0.4971, 'learning_rate': 4.356836704479815e-05, 'epoch': 0.39}\n",
            "{'loss': 0.4681, 'learning_rate': 4.3447015479605654e-05, 'epoch': 0.39}\n",
            "{'loss': 0.4885, 'learning_rate': 4.3325663914413174e-05, 'epoch': 0.4}\n",
            "{'loss': 0.4678, 'learning_rate': 4.320431234922068e-05, 'epoch': 0.41}\n",
            "{'loss': 0.4781, 'learning_rate': 4.3082960784028195e-05, 'epoch': 0.42}\n",
            "{'loss': 0.4911, 'learning_rate': 4.296160921883571e-05, 'epoch': 0.42}\n",
            "{'loss': 0.501, 'learning_rate': 4.2840257653643216e-05, 'epoch': 0.43}\n",
            "{'loss': 0.4861, 'learning_rate': 4.2718906088450736e-05, 'epoch': 0.44}\n",
            "{'loss': 0.4769, 'learning_rate': 4.259755452325824e-05, 'epoch': 0.44}\n",
            "{'loss': 0.46, 'learning_rate': 4.247620295806575e-05, 'epoch': 0.45}\n",
            "{'loss': 0.4692, 'learning_rate': 4.235485139287327e-05, 'epoch': 0.46}\n",
            "{'loss': 0.482, 'learning_rate': 4.223349982768078e-05, 'epoch': 0.47}\n",
            "{'loss': 0.4818, 'learning_rate': 4.211214826248829e-05, 'epoch': 0.47}\n",
            "{'loss': 0.4627, 'learning_rate': 4.1990796697295805e-05, 'epoch': 0.48}\n",
            "{'loss': 0.4629, 'learning_rate': 4.186944513210331e-05, 'epoch': 0.49}\n",
            "{'loss': 0.4685, 'learning_rate': 4.1748093566910825e-05, 'epoch': 0.5}\n",
            "{'loss': 0.4723, 'learning_rate': 4.162674200171834e-05, 'epoch': 0.5}\n",
            "{'loss': 0.4461, 'learning_rate': 4.150539043652585e-05, 'epoch': 0.51}\n",
            "{'loss': 0.4695, 'learning_rate': 4.1384038871333367e-05, 'epoch': 0.52}\n",
            "{'loss': 0.4888, 'learning_rate': 4.126268730614088e-05, 'epoch': 0.52}\n",
            "{'loss': 0.4576, 'learning_rate': 4.114133574094839e-05, 'epoch': 0.53}\n",
            "{'loss': 0.4607, 'learning_rate': 4.10199841757559e-05, 'epoch': 0.54}\n",
            "{'loss': 0.4861, 'learning_rate': 4.0898632610563415e-05, 'epoch': 0.55}\n",
            "{'loss': 0.4642, 'learning_rate': 4.077728104537092e-05, 'epoch': 0.55}\n",
            "{'loss': 0.4576, 'learning_rate': 4.065592948017844e-05, 'epoch': 0.56}\n",
            "{'loss': 0.4664, 'learning_rate': 4.053457791498595e-05, 'epoch': 0.57}\n",
            "{'loss': 0.4695, 'learning_rate': 4.041322634979346e-05, 'epoch': 0.58}\n",
            "{'loss': 0.4767, 'learning_rate': 4.0291874784600976e-05, 'epoch': 0.58}\n",
            "{'loss': 0.4457, 'learning_rate': 4.017052321940848e-05, 'epoch': 0.59}\n",
            "{'loss': 0.4699, 'learning_rate': 4.0049171654216e-05, 'epoch': 0.6}\n",
            "{'loss': 0.4306, 'learning_rate': 3.992782008902351e-05, 'epoch': 0.6}\n",
            "{'loss': 0.4408, 'learning_rate': 3.980646852383102e-05, 'epoch': 0.61}\n",
            "{'loss': 0.4537, 'learning_rate': 3.968511695863854e-05, 'epoch': 0.62}\n",
            "{'loss': 0.4472, 'learning_rate': 3.9563765393446045e-05, 'epoch': 0.63}\n",
            "{'loss': 0.4648, 'learning_rate': 3.944241382825356e-05, 'epoch': 0.63}\n",
            "{'loss': 0.4521, 'learning_rate': 3.932106226306107e-05, 'epoch': 0.64}\n",
            "{'loss': 0.4497, 'learning_rate': 3.9199710697868586e-05, 'epoch': 0.65}\n",
            "{'loss': 0.4513, 'learning_rate': 3.907835913267609e-05, 'epoch': 0.66}\n",
            "{'loss': 0.4507, 'learning_rate': 3.8957007567483607e-05, 'epoch': 0.66}\n",
            "{'loss': 0.4542, 'learning_rate': 3.883565600229112e-05, 'epoch': 0.67}\n",
            "{'loss': 0.4608, 'learning_rate': 3.8714304437098634e-05, 'epoch': 0.68}\n",
            "{'loss': 0.4424, 'learning_rate': 3.859295287190615e-05, 'epoch': 0.68}\n",
            "{'loss': 0.45, 'learning_rate': 3.8471601306713655e-05, 'epoch': 0.69}\n",
            "{'loss': 0.451, 'learning_rate': 3.835024974152117e-05, 'epoch': 0.7}\n",
            "{'loss': 0.4531, 'learning_rate': 3.822889817632868e-05, 'epoch': 0.71}\n",
            "{'loss': 0.4587, 'learning_rate': 3.810754661113619e-05, 'epoch': 0.71}\n",
            "{'loss': 0.4308, 'learning_rate': 3.798619504594371e-05, 'epoch': 0.72}\n",
            "{'loss': 0.4625, 'learning_rate': 3.7864843480751216e-05, 'epoch': 0.73}\n",
            "{'loss': 0.4647, 'learning_rate': 3.774349191555872e-05, 'epoch': 0.74}\n",
            "{'loss': 0.449, 'learning_rate': 3.7622140350366244e-05, 'epoch': 0.74}\n",
            "{'loss': 0.4696, 'learning_rate': 3.750078878517375e-05, 'epoch': 0.75}\n",
            "{'loss': 0.4357, 'learning_rate': 3.7379437219981264e-05, 'epoch': 0.76}\n",
            "{'loss': 0.4567, 'learning_rate': 3.725808565478878e-05, 'epoch': 0.76}\n",
            "{'loss': 0.4765, 'learning_rate': 3.7136734089596285e-05, 'epoch': 0.77}\n",
            "{'loss': 0.4771, 'learning_rate': 3.7015382524403805e-05, 'epoch': 0.78}\n",
            "{'loss': 0.4434, 'learning_rate': 3.689403095921131e-05, 'epoch': 0.79}\n",
            "{'loss': 0.4429, 'learning_rate': 3.6772679394018826e-05, 'epoch': 0.79}\n",
            "{'loss': 0.4685, 'learning_rate': 3.665132782882634e-05, 'epoch': 0.8}\n",
            "{'loss': 0.4468, 'learning_rate': 3.6529976263633853e-05, 'epoch': 0.81}\n",
            "{'loss': 0.4512, 'learning_rate': 3.640862469844136e-05, 'epoch': 0.82}\n",
            "{'loss': 0.4475, 'learning_rate': 3.6287273133248874e-05, 'epoch': 0.82}\n",
            "{'loss': 0.4256, 'learning_rate': 3.616592156805639e-05, 'epoch': 0.83}\n",
            "{'loss': 0.4468, 'learning_rate': 3.6044570002863895e-05, 'epoch': 0.84}\n",
            "{'loss': 0.4383, 'learning_rate': 3.5923218437671415e-05, 'epoch': 0.84}\n",
            "{'loss': 0.4448, 'learning_rate': 3.580186687247892e-05, 'epoch': 0.85}\n",
            "{'loss': 0.4435, 'learning_rate': 3.5680515307286436e-05, 'epoch': 0.86}\n",
            "{'loss': 0.4413, 'learning_rate': 3.555916374209395e-05, 'epoch': 0.87}\n",
            "{'loss': 0.4587, 'learning_rate': 3.5437812176901456e-05, 'epoch': 0.87}\n",
            "{'loss': 0.4576, 'learning_rate': 3.531646061170898e-05, 'epoch': 0.88}\n",
            "{'loss': 0.429, 'learning_rate': 3.5195109046516484e-05, 'epoch': 0.89}\n",
            "{'loss': 0.4302, 'learning_rate': 3.507375748132399e-05, 'epoch': 0.9}\n",
            "{'loss': 0.4327, 'learning_rate': 3.495240591613151e-05, 'epoch': 0.9}\n",
            "{'loss': 0.4274, 'learning_rate': 3.483105435093902e-05, 'epoch': 0.91}\n",
            "{'loss': 0.4225, 'learning_rate': 3.470970278574653e-05, 'epoch': 0.92}\n",
            "{'loss': 0.4541, 'learning_rate': 3.4588351220554045e-05, 'epoch': 0.92}\n",
            "{'loss': 0.4173, 'learning_rate': 3.446699965536155e-05, 'epoch': 0.93}\n",
            "{'loss': 0.4314, 'learning_rate': 3.4345648090169066e-05, 'epoch': 0.94}\n",
            "{'loss': 0.4341, 'learning_rate': 3.422429652497658e-05, 'epoch': 0.95}\n",
            "{'loss': 0.4292, 'learning_rate': 3.4102944959784094e-05, 'epoch': 0.95}\n",
            "{'loss': 0.439, 'learning_rate': 3.398159339459161e-05, 'epoch': 0.96}\n",
            "{'loss': 0.4486, 'learning_rate': 3.386024182939912e-05, 'epoch': 0.97}\n",
            "{'loss': 0.4401, 'learning_rate': 3.373889026420663e-05, 'epoch': 0.98}\n",
            "{'loss': 0.4552, 'learning_rate': 3.361753869901414e-05, 'epoch': 0.98}\n",
            "{'loss': 0.4442, 'learning_rate': 3.3496187133821655e-05, 'epoch': 0.99}\n",
            "{'loss': 0.4176, 'learning_rate': 3.337483556862916e-05, 'epoch': 1.0}\n",
            "{'loss': 0.4185, 'learning_rate': 3.325348400343668e-05, 'epoch': 1.0}\n",
            "{'loss': 0.4062, 'learning_rate': 3.313213243824419e-05, 'epoch': 1.01}\n",
            "{'loss': 0.4094, 'learning_rate': 3.30107808730517e-05, 'epoch': 1.02}\n",
            "{'loss': 0.4087, 'learning_rate': 3.288942930785922e-05, 'epoch': 1.03}\n",
            "{'loss': 0.4085, 'learning_rate': 3.2768077742666724e-05, 'epoch': 1.03}\n",
            "{'loss': 0.4003, 'learning_rate': 3.264672617747424e-05, 'epoch': 1.04}\n",
            "{'loss': 0.3986, 'learning_rate': 3.252537461228175e-05, 'epoch': 1.05}\n",
            "{'loss': 0.4147, 'learning_rate': 3.240402304708926e-05, 'epoch': 1.06}\n",
            "{'loss': 0.4103, 'learning_rate': 3.228267148189678e-05, 'epoch': 1.06}\n",
            "{'loss': 0.4104, 'learning_rate': 3.2161319916704286e-05, 'epoch': 1.07}\n",
            "{'loss': 0.3959, 'learning_rate': 3.20399683515118e-05, 'epoch': 1.08}\n",
            "{'loss': 0.3968, 'learning_rate': 3.191861678631931e-05, 'epoch': 1.08}\n",
            "{'loss': 0.4133, 'learning_rate': 3.179726522112683e-05, 'epoch': 1.09}\n",
            "{'loss': 0.3943, 'learning_rate': 3.1675913655934334e-05, 'epoch': 1.1}\n",
            "{'loss': 0.402, 'learning_rate': 3.155456209074185e-05, 'epoch': 1.11}\n",
            "{'loss': 0.411, 'learning_rate': 3.143321052554936e-05, 'epoch': 1.11}\n",
            "{'loss': 0.4232, 'learning_rate': 3.131185896035687e-05, 'epoch': 1.12}\n",
            "{'loss': 0.3945, 'learning_rate': 3.119050739516439e-05, 'epoch': 1.13}\n",
            "{'loss': 0.418, 'learning_rate': 3.1069155829971895e-05, 'epoch': 1.14}\n",
            "{'loss': 0.4108, 'learning_rate': 3.094780426477941e-05, 'epoch': 1.14}\n",
            "{'loss': 0.4035, 'learning_rate': 3.082645269958692e-05, 'epoch': 1.15}\n",
            "{'loss': 0.4162, 'learning_rate': 3.070510113439443e-05, 'epoch': 1.16}\n",
            "{'loss': 0.4181, 'learning_rate': 3.058374956920195e-05, 'epoch': 1.16}\n",
            "{'loss': 0.4068, 'learning_rate': 3.0462398004009457e-05, 'epoch': 1.17}\n",
            "{'loss': 0.3996, 'learning_rate': 3.0341046438816967e-05, 'epoch': 1.18}\n",
            "{'loss': 0.4178, 'learning_rate': 3.021969487362448e-05, 'epoch': 1.19}\n",
            "{'loss': 0.4124, 'learning_rate': 3.009834330843199e-05, 'epoch': 1.19}\n",
            "{'loss': 0.4252, 'learning_rate': 2.997699174323951e-05, 'epoch': 1.2}\n",
            "{'loss': 0.4052, 'learning_rate': 2.985564017804702e-05, 'epoch': 1.21}\n",
            "{'loss': 0.4149, 'learning_rate': 2.9734288612854526e-05, 'epoch': 1.22}\n",
            "{'loss': 0.4133, 'learning_rate': 2.9612937047662043e-05, 'epoch': 1.22}\n",
            "{'loss': 0.3878, 'learning_rate': 2.9491585482469553e-05, 'epoch': 1.23}\n",
            "{'loss': 0.398, 'learning_rate': 2.9370233917277067e-05, 'epoch': 1.24}\n",
            "{'loss': 0.4058, 'learning_rate': 2.9248882352084577e-05, 'epoch': 1.25}\n",
            "{'loss': 0.415, 'learning_rate': 2.9127530786892094e-05, 'epoch': 1.25}\n",
            "{'loss': 0.4273, 'learning_rate': 2.9006179221699604e-05, 'epoch': 1.26}\n",
            "{'loss': 0.3971, 'learning_rate': 2.888482765650711e-05, 'epoch': 1.27}\n",
            "{'loss': 0.4003, 'learning_rate': 2.876347609131463e-05, 'epoch': 1.27}\n",
            "{'loss': 0.3966, 'learning_rate': 2.864212452612214e-05, 'epoch': 1.28}\n",
            "{'loss': 0.411, 'learning_rate': 2.8520772960929652e-05, 'epoch': 1.29}\n",
            "{'loss': 0.4037, 'learning_rate': 2.8399421395737163e-05, 'epoch': 1.3}\n",
            "{'loss': 0.3903, 'learning_rate': 2.8278069830544673e-05, 'epoch': 1.3}\n",
            "{'loss': 0.4102, 'learning_rate': 2.815671826535219e-05, 'epoch': 1.31}\n",
            "{'loss': 0.4111, 'learning_rate': 2.8035366700159697e-05, 'epoch': 1.32}\n",
            "{'loss': 0.4179, 'learning_rate': 2.7914015134967214e-05, 'epoch': 1.33}\n",
            "{'loss': 0.417, 'learning_rate': 2.7792663569774724e-05, 'epoch': 1.33}\n",
            "{'loss': 0.3977, 'learning_rate': 2.7671312004582235e-05, 'epoch': 1.34}\n",
            "{'loss': 0.4084, 'learning_rate': 2.754996043938975e-05, 'epoch': 1.35}\n",
            "{'loss': 0.3826, 'learning_rate': 2.742860887419726e-05, 'epoch': 1.35}\n",
            "{'loss': 0.4201, 'learning_rate': 2.7307257309004776e-05, 'epoch': 1.36}\n",
            "{'loss': 0.4121, 'learning_rate': 2.7185905743812283e-05, 'epoch': 1.37}\n",
            "{'loss': 0.4019, 'learning_rate': 2.70645541786198e-05, 'epoch': 1.38}\n",
            "{'loss': 0.4055, 'learning_rate': 2.694320261342731e-05, 'epoch': 1.38}\n",
            "{'loss': 0.3929, 'learning_rate': 2.682185104823482e-05, 'epoch': 1.39}\n",
            "{'loss': 0.4154, 'learning_rate': 2.6700499483042334e-05, 'epoch': 1.4}\n",
            "{'loss': 0.3891, 'learning_rate': 2.6579147917849845e-05, 'epoch': 1.41}\n",
            "{'loss': 0.4119, 'learning_rate': 2.645779635265736e-05, 'epoch': 1.41}\n",
            "{'loss': 0.4008, 'learning_rate': 2.633644478746487e-05, 'epoch': 1.42}\n",
            "{'loss': 0.3879, 'learning_rate': 2.621509322227238e-05, 'epoch': 1.43}\n",
            "{'loss': 0.4072, 'learning_rate': 2.6093741657079896e-05, 'epoch': 1.43}\n",
            "{'loss': 0.4024, 'learning_rate': 2.5972390091887406e-05, 'epoch': 1.44}\n",
            "{'loss': 0.4144, 'learning_rate': 2.585103852669492e-05, 'epoch': 1.45}\n",
            "{'loss': 0.3886, 'learning_rate': 2.572968696150243e-05, 'epoch': 1.46}\n",
            "{'loss': 0.4114, 'learning_rate': 2.560833539630994e-05, 'epoch': 1.46}\n",
            "{'loss': 0.431, 'learning_rate': 2.5486983831117454e-05, 'epoch': 1.47}\n",
            "{'loss': 0.3746, 'learning_rate': 2.5365632265924965e-05, 'epoch': 1.48}\n",
            "{'loss': 0.4147, 'learning_rate': 2.524428070073248e-05, 'epoch': 1.49}\n",
            "{'loss': 0.4134, 'learning_rate': 2.5122929135539992e-05, 'epoch': 1.49}\n",
            "{'loss': 0.4033, 'learning_rate': 2.5001577570347502e-05, 'epoch': 1.5}\n",
            "{'loss': 0.4109, 'learning_rate': 2.4880226005155016e-05, 'epoch': 1.51}\n",
            "{'loss': 0.3911, 'learning_rate': 2.475887443996253e-05, 'epoch': 1.51}\n",
            "{'loss': 0.4203, 'learning_rate': 2.463752287477004e-05, 'epoch': 1.52}\n",
            "{'loss': 0.4043, 'learning_rate': 2.451617130957755e-05, 'epoch': 1.53}\n",
            "{'loss': 0.3871, 'learning_rate': 2.4394819744385064e-05, 'epoch': 1.54}\n",
            "{'loss': 0.3836, 'learning_rate': 2.4273468179192578e-05, 'epoch': 1.54}\n",
            "{'loss': 0.386, 'learning_rate': 2.4152116614000088e-05, 'epoch': 1.55}\n",
            "{'loss': 0.4104, 'learning_rate': 2.40307650488076e-05, 'epoch': 1.56}\n",
            "{'loss': 0.391, 'learning_rate': 2.3909413483615112e-05, 'epoch': 1.57}\n",
            "{'loss': 0.3734, 'learning_rate': 2.3788061918422626e-05, 'epoch': 1.57}\n",
            "{'loss': 0.4006, 'learning_rate': 2.3666710353230136e-05, 'epoch': 1.58}\n",
            "{'loss': 0.3976, 'learning_rate': 2.354535878803765e-05, 'epoch': 1.59}\n",
            "{'loss': 0.4044, 'learning_rate': 2.3424007222845163e-05, 'epoch': 1.59}\n",
            "{'loss': 0.3739, 'learning_rate': 2.3302655657652674e-05, 'epoch': 1.6}\n",
            "{'loss': 0.3993, 'learning_rate': 2.3181304092460184e-05, 'epoch': 1.61}\n",
            "{'loss': 0.405, 'learning_rate': 2.3059952527267698e-05, 'epoch': 1.62}\n",
            "{'loss': 0.401, 'learning_rate': 2.293860096207521e-05, 'epoch': 1.62}\n",
            "{'loss': 0.3688, 'learning_rate': 2.2817249396882722e-05, 'epoch': 1.63}\n",
            "{'loss': 0.3962, 'learning_rate': 2.2695897831690235e-05, 'epoch': 1.64}\n",
            "{'loss': 0.4001, 'learning_rate': 2.2574546266497746e-05, 'epoch': 1.65}\n",
            "{'loss': 0.3898, 'learning_rate': 2.245319470130526e-05, 'epoch': 1.65}\n",
            "{'loss': 0.3951, 'learning_rate': 2.233184313611277e-05, 'epoch': 1.66}\n",
            "{'loss': 0.3739, 'learning_rate': 2.2210491570920283e-05, 'epoch': 1.67}\n",
            "{'loss': 0.3945, 'learning_rate': 2.2089140005727797e-05, 'epoch': 1.67}\n",
            "{'loss': 0.3969, 'learning_rate': 2.1967788440535304e-05, 'epoch': 1.68}\n",
            "{'loss': 0.382, 'learning_rate': 2.1846436875342818e-05, 'epoch': 1.69}\n",
            "{'loss': 0.3864, 'learning_rate': 2.172508531015033e-05, 'epoch': 1.7}\n",
            "{'loss': 0.3923, 'learning_rate': 2.1603733744957845e-05, 'epoch': 1.7}\n",
            "{'loss': 0.4073, 'learning_rate': 2.1482382179765355e-05, 'epoch': 1.71}\n",
            "{'loss': 0.4036, 'learning_rate': 2.136103061457287e-05, 'epoch': 1.72}\n",
            "{'loss': 0.3937, 'learning_rate': 2.123967904938038e-05, 'epoch': 1.73}\n",
            "{'loss': 0.3745, 'learning_rate': 2.111832748418789e-05, 'epoch': 1.73}\n",
            "{'loss': 0.4201, 'learning_rate': 2.0996975918995403e-05, 'epoch': 1.74}\n",
            "{'loss': 0.3683, 'learning_rate': 2.0875624353802917e-05, 'epoch': 1.75}\n",
            "{'loss': 0.376, 'learning_rate': 2.075427278861043e-05, 'epoch': 1.75}\n",
            "{'loss': 0.3831, 'learning_rate': 2.063292122341794e-05, 'epoch': 1.76}\n",
            "{'loss': 0.4012, 'learning_rate': 2.051156965822545e-05, 'epoch': 1.77}\n",
            "{'loss': 0.3836, 'learning_rate': 2.0390218093032965e-05, 'epoch': 1.78}\n",
            "{'loss': 0.3932, 'learning_rate': 2.0268866527840475e-05, 'epoch': 1.78}\n",
            "{'loss': 0.397, 'learning_rate': 2.014751496264799e-05, 'epoch': 1.79}\n",
            "{'loss': 0.397, 'learning_rate': 2.0026163397455503e-05, 'epoch': 1.8}\n",
            "{'loss': 0.3639, 'learning_rate': 1.9904811832263013e-05, 'epoch': 1.81}\n",
            "{'loss': 0.3882, 'learning_rate': 1.9783460267070523e-05, 'epoch': 1.81}\n",
            "{'loss': 0.3794, 'learning_rate': 1.9662108701878037e-05, 'epoch': 1.82}\n",
            "{'loss': 0.4002, 'learning_rate': 1.954075713668555e-05, 'epoch': 1.83}\n",
            "{'loss': 0.3963, 'learning_rate': 1.941940557149306e-05, 'epoch': 1.83}\n",
            "{'loss': 0.3718, 'learning_rate': 1.9298054006300575e-05, 'epoch': 1.84}\n",
            "{'loss': 0.3913, 'learning_rate': 1.9176702441108085e-05, 'epoch': 1.85}\n",
            "{'loss': 0.3912, 'learning_rate': 1.90553508759156e-05, 'epoch': 1.86}\n",
            "{'loss': 0.3737, 'learning_rate': 1.893399931072311e-05, 'epoch': 1.86}\n",
            "{'loss': 0.3942, 'learning_rate': 1.8812647745530623e-05, 'epoch': 1.87}\n",
            "{'loss': 0.3901, 'learning_rate': 1.8691296180338137e-05, 'epoch': 1.88}\n",
            "{'loss': 0.3997, 'learning_rate': 1.8569944615145647e-05, 'epoch': 1.89}\n",
            "{'loss': 0.3836, 'learning_rate': 1.8448593049953157e-05, 'epoch': 1.89}\n",
            "{'loss': 0.3834, 'learning_rate': 1.832724148476067e-05, 'epoch': 1.9}\n",
            "{'loss': 0.3768, 'learning_rate': 1.8205889919568185e-05, 'epoch': 1.91}\n",
            "{'loss': 0.3943, 'learning_rate': 1.8084538354375695e-05, 'epoch': 1.91}\n",
            "{'loss': 0.3997, 'learning_rate': 1.796318678918321e-05, 'epoch': 1.92}\n",
            "{'loss': 0.3584, 'learning_rate': 1.784183522399072e-05, 'epoch': 1.93}\n",
            "{'loss': 0.3817, 'learning_rate': 1.7720483658798233e-05, 'epoch': 1.94}\n",
            "{'loss': 0.3932, 'learning_rate': 1.7599132093605743e-05, 'epoch': 1.94}\n",
            "{'loss': 0.3861, 'learning_rate': 1.7477780528413257e-05, 'epoch': 1.95}\n",
            "{'loss': 0.4018, 'learning_rate': 1.735642896322077e-05, 'epoch': 1.96}\n",
            "{'loss': 0.3959, 'learning_rate': 1.723507739802828e-05, 'epoch': 1.97}\n",
            "{'loss': 0.3833, 'learning_rate': 1.711372583283579e-05, 'epoch': 1.97}\n",
            "{'loss': 0.3898, 'learning_rate': 1.6992374267643305e-05, 'epoch': 1.98}\n",
            "{'loss': 0.3705, 'learning_rate': 1.687102270245082e-05, 'epoch': 1.99}\n",
            "{'loss': 0.3743, 'learning_rate': 1.674967113725833e-05, 'epoch': 2.0}\n",
            "{'loss': 0.371, 'learning_rate': 1.6628319572065842e-05, 'epoch': 2.0}\n",
            "{'loss': 0.3559, 'learning_rate': 1.6506968006873353e-05, 'epoch': 2.01}\n",
            "{'loss': 0.3627, 'learning_rate': 1.6385616441680866e-05, 'epoch': 2.02}\n",
            "{'loss': 0.3289, 'learning_rate': 1.6264264876488377e-05, 'epoch': 2.02}\n",
            "{'loss': 0.3518, 'learning_rate': 1.614291331129589e-05, 'epoch': 2.03}\n",
            "{'loss': 0.3536, 'learning_rate': 1.6021561746103404e-05, 'epoch': 2.04}\n",
            "{'loss': 0.3498, 'learning_rate': 1.5900210180910914e-05, 'epoch': 2.05}\n",
            "{'loss': 0.349, 'learning_rate': 1.5778858615718425e-05, 'epoch': 2.05}\n",
            "{'loss': 0.3675, 'learning_rate': 1.565750705052594e-05, 'epoch': 2.06}\n",
            "{'loss': 0.3625, 'learning_rate': 1.5536155485333452e-05, 'epoch': 2.07}\n",
            "{'loss': 0.3353, 'learning_rate': 1.5414803920140962e-05, 'epoch': 2.08}\n",
            "{'loss': 0.3624, 'learning_rate': 1.5293452354948476e-05, 'epoch': 2.08}\n",
            "{'loss': 0.351, 'learning_rate': 1.5172100789755986e-05, 'epoch': 2.09}\n",
            "{'loss': 0.3324, 'learning_rate': 1.5050749224563498e-05, 'epoch': 2.1}\n",
            "{'loss': 0.3409, 'learning_rate': 1.492939765937101e-05, 'epoch': 2.1}\n",
            "{'loss': 0.3743, 'learning_rate': 1.4808046094178524e-05, 'epoch': 2.11}\n",
            "{'loss': 0.3639, 'learning_rate': 1.4686694528986036e-05, 'epoch': 2.12}\n",
            "{'loss': 0.3617, 'learning_rate': 1.456534296379355e-05, 'epoch': 2.13}\n",
            "{'loss': 0.3468, 'learning_rate': 1.4443991398601058e-05, 'epoch': 2.13}\n",
            "{'loss': 0.3622, 'learning_rate': 1.4322639833408572e-05, 'epoch': 2.14}\n",
            "{'loss': 0.3552, 'learning_rate': 1.4201288268216084e-05, 'epoch': 2.15}\n",
            "{'loss': 0.3593, 'learning_rate': 1.4079936703023596e-05, 'epoch': 2.16}\n",
            "{'loss': 0.356, 'learning_rate': 1.395858513783111e-05, 'epoch': 2.16}\n",
            "{'loss': 0.3587, 'learning_rate': 1.383723357263862e-05, 'epoch': 2.17}\n",
            "{'loss': 0.3575, 'learning_rate': 1.3715882007446132e-05, 'epoch': 2.18}\n",
            "{'loss': 0.3334, 'learning_rate': 1.3594530442253644e-05, 'epoch': 2.18}\n",
            "{'loss': 0.3696, 'learning_rate': 1.3473178877061158e-05, 'epoch': 2.19}\n",
            "{'loss': 0.36, 'learning_rate': 1.335182731186867e-05, 'epoch': 2.2}\n",
            "{'loss': 0.358, 'learning_rate': 1.3230475746676182e-05, 'epoch': 2.21}\n",
            "{'loss': 0.3394, 'learning_rate': 1.3109124181483692e-05, 'epoch': 2.21}\n",
            "{'loss': 0.3493, 'learning_rate': 1.2987772616291204e-05, 'epoch': 2.22}\n",
            "{'loss': 0.3331, 'learning_rate': 1.2866421051098718e-05, 'epoch': 2.23}\n",
            "{'loss': 0.3521, 'learning_rate': 1.274506948590623e-05, 'epoch': 2.24}\n",
            "{'loss': 0.3656, 'learning_rate': 1.2623717920713744e-05, 'epoch': 2.24}\n",
            "{'loss': 0.3474, 'learning_rate': 1.2502366355521252e-05, 'epoch': 2.25}\n",
            "{'loss': 0.3636, 'learning_rate': 1.2381014790328768e-05, 'epoch': 2.26}\n",
            "{'loss': 0.3658, 'learning_rate': 1.2259663225136278e-05, 'epoch': 2.26}\n",
            "{'loss': 0.3562, 'learning_rate': 1.213831165994379e-05, 'epoch': 2.27}\n",
            "{'loss': 0.347, 'learning_rate': 1.2016960094751304e-05, 'epoch': 2.28}\n",
            "{'loss': 0.3746, 'learning_rate': 1.1895608529558814e-05, 'epoch': 2.29}\n",
            "{'loss': 0.368, 'learning_rate': 1.1774256964366328e-05, 'epoch': 2.29}\n",
            "{'loss': 0.3398, 'learning_rate': 1.1652905399173838e-05, 'epoch': 2.3}\n",
            "{'loss': 0.3431, 'learning_rate': 1.1531553833981352e-05, 'epoch': 2.31}\n",
            "{'loss': 0.3591, 'learning_rate': 1.1410202268788864e-05, 'epoch': 2.32}\n",
            "{'loss': 0.3568, 'learning_rate': 1.1288850703596376e-05, 'epoch': 2.32}\n",
            "{'loss': 0.3627, 'learning_rate': 1.1167499138403888e-05, 'epoch': 2.33}\n",
            "{'loss': 0.3571, 'learning_rate': 1.10461475732114e-05, 'epoch': 2.34}\n",
            "{'loss': 0.3353, 'learning_rate': 1.0924796008018912e-05, 'epoch': 2.34}\n",
            "{'loss': 0.3537, 'learning_rate': 1.0803444442826424e-05, 'epoch': 2.35}\n",
            "{'loss': 0.3445, 'learning_rate': 1.0682092877633937e-05, 'epoch': 2.36}\n",
            "{'loss': 0.3394, 'learning_rate': 1.0560741312441448e-05, 'epoch': 2.37}\n",
            "{'loss': 0.3415, 'learning_rate': 1.0439389747248961e-05, 'epoch': 2.37}\n",
            "{'loss': 0.3641, 'learning_rate': 1.0318038182056472e-05, 'epoch': 2.38}\n",
            "{'loss': 0.3561, 'learning_rate': 1.0196686616863985e-05, 'epoch': 2.39}\n",
            "{'loss': 0.3386, 'learning_rate': 1.0075335051671497e-05, 'epoch': 2.4}\n",
            "{'loss': 0.3655, 'learning_rate': 9.95398348647901e-06, 'epoch': 2.4}\n",
            "{'loss': 0.3626, 'learning_rate': 9.832631921286521e-06, 'epoch': 2.41}\n",
            "{'loss': 0.3356, 'learning_rate': 9.711280356094033e-06, 'epoch': 2.42}\n",
            "{'loss': 0.3476, 'learning_rate': 9.589928790901545e-06, 'epoch': 2.42}\n",
            "{'loss': 0.339, 'learning_rate': 9.468577225709057e-06, 'epoch': 2.43}\n",
            "{'loss': 0.3527, 'learning_rate': 9.347225660516571e-06, 'epoch': 2.44}\n",
            "{'loss': 0.3507, 'learning_rate': 9.225874095324081e-06, 'epoch': 2.45}\n",
            "{'loss': 0.3272, 'learning_rate': 9.104522530131595e-06, 'epoch': 2.45}\n",
            "{'loss': 0.3519, 'learning_rate': 8.983170964939107e-06, 'epoch': 2.46}\n",
            "{'loss': 0.3713, 'learning_rate': 8.861819399746617e-06, 'epoch': 2.47}\n",
            "{'loss': 0.3547, 'learning_rate': 8.740467834554131e-06, 'epoch': 2.48}\n",
            "{'loss': 0.3409, 'learning_rate': 8.619116269361641e-06, 'epoch': 2.48}\n",
            "{'loss': 0.3345, 'learning_rate': 8.497764704169155e-06, 'epoch': 2.49}\n",
            "{'loss': 0.3612, 'learning_rate': 8.376413138976667e-06, 'epoch': 2.5}\n",
            "{'loss': 0.3409, 'learning_rate': 8.255061573784179e-06, 'epoch': 2.5}\n",
            "{'loss': 0.3584, 'learning_rate': 8.133710008591691e-06, 'epoch': 2.51}\n",
            "{'loss': 0.3345, 'learning_rate': 8.012358443399203e-06, 'epoch': 2.52}\n",
            "{'loss': 0.3485, 'learning_rate': 7.891006878206715e-06, 'epoch': 2.53}\n",
            "{'loss': 0.3474, 'learning_rate': 7.769655313014227e-06, 'epoch': 2.53}\n",
            "{'loss': 0.3464, 'learning_rate': 7.64830374782174e-06, 'epoch': 2.54}\n",
            "{'loss': 0.3422, 'learning_rate': 7.526952182629252e-06, 'epoch': 2.55}\n",
            "{'loss': 0.3517, 'learning_rate': 7.405600617436764e-06, 'epoch': 2.56}\n",
            "{'loss': 0.3405, 'learning_rate': 7.284249052244275e-06, 'epoch': 2.56}\n",
            "{'loss': 0.3453, 'learning_rate': 7.162897487051788e-06, 'epoch': 2.57}\n",
            "{'loss': 0.3489, 'learning_rate': 7.041545921859301e-06, 'epoch': 2.58}\n",
            "{'loss': 0.377, 'learning_rate': 6.920194356666812e-06, 'epoch': 2.58}\n",
            "{'loss': 0.3347, 'learning_rate': 6.798842791474325e-06, 'epoch': 2.59}\n",
            "{'loss': 0.3348, 'learning_rate': 6.677491226281838e-06, 'epoch': 2.6}\n",
            "{'loss': 0.3389, 'learning_rate': 6.556139661089349e-06, 'epoch': 2.61}\n",
            "{'loss': 0.335, 'learning_rate': 6.434788095896861e-06, 'epoch': 2.61}\n",
            "{'loss': 0.355, 'learning_rate': 6.313436530704374e-06, 'epoch': 2.62}\n",
            "{'loss': 0.335, 'learning_rate': 6.192084965511886e-06, 'epoch': 2.63}\n",
            "{'loss': 0.3285, 'learning_rate': 6.070733400319398e-06, 'epoch': 2.64}\n",
            "{'loss': 0.3407, 'learning_rate': 5.94938183512691e-06, 'epoch': 2.64}\n",
            "{'loss': 0.3397, 'learning_rate': 5.828030269934422e-06, 'epoch': 2.65}\n",
            "{'loss': 0.3753, 'learning_rate': 5.7066787047419345e-06, 'epoch': 2.66}\n",
            "{'loss': 0.3543, 'learning_rate': 5.5853271395494466e-06, 'epoch': 2.66}\n",
            "{'loss': 0.3458, 'learning_rate': 5.4639755743569586e-06, 'epoch': 2.67}\n",
            "{'loss': 0.3326, 'learning_rate': 5.34262400916447e-06, 'epoch': 2.68}\n",
            "{'loss': 0.3442, 'learning_rate': 5.2212724439719826e-06, 'epoch': 2.69}\n",
            "{'loss': 0.323, 'learning_rate': 5.0999208787794946e-06, 'epoch': 2.69}\n",
            "{'loss': 0.3451, 'learning_rate': 4.9785693135870066e-06, 'epoch': 2.7}\n",
            "{'loss': 0.3512, 'learning_rate': 4.857217748394519e-06, 'epoch': 2.71}\n",
            "{'loss': 0.3675, 'learning_rate': 4.7358661832020314e-06, 'epoch': 2.72}\n",
            "{'loss': 0.3618, 'learning_rate': 4.6145146180095434e-06, 'epoch': 2.72}\n",
            "{'loss': 0.3475, 'learning_rate': 4.4931630528170554e-06, 'epoch': 2.73}\n",
            "{'loss': 0.3615, 'learning_rate': 4.3718114876245674e-06, 'epoch': 2.74}\n",
            "{'loss': 0.3732, 'learning_rate': 4.2504599224320794e-06, 'epoch': 2.74}\n",
            "{'loss': 0.3279, 'learning_rate': 4.1291083572395914e-06, 'epoch': 2.75}\n",
            "{'loss': 0.3555, 'learning_rate': 4.007756792047104e-06, 'epoch': 2.76}\n",
            "{'loss': 0.3433, 'learning_rate': 3.886405226854616e-06, 'epoch': 2.77}\n",
            "{'loss': 0.3666, 'learning_rate': 3.7650536616621283e-06, 'epoch': 2.77}\n",
            "{'loss': 0.3402, 'learning_rate': 3.6437020964696403e-06, 'epoch': 2.78}\n",
            "{'loss': 0.3415, 'learning_rate': 3.5223505312771527e-06, 'epoch': 2.79}\n",
            "{'loss': 0.3468, 'learning_rate': 3.4009989660846647e-06, 'epoch': 2.8}\n",
            "{'loss': 0.3299, 'learning_rate': 3.2796474008921767e-06, 'epoch': 2.8}\n",
            "{'loss': 0.3251, 'learning_rate': 3.158295835699689e-06, 'epoch': 2.81}\n",
            "{'loss': 0.3802, 'learning_rate': 3.036944270507201e-06, 'epoch': 2.82}\n",
            "{'loss': 0.3411, 'learning_rate': 2.915592705314713e-06, 'epoch': 2.83}\n",
            "{'loss': 0.329, 'learning_rate': 2.7942411401222256e-06, 'epoch': 2.83}\n",
            "{'loss': 0.3336, 'learning_rate': 2.6728895749297376e-06, 'epoch': 2.84}\n",
            "{'loss': 0.3203, 'learning_rate': 2.5515380097372496e-06, 'epoch': 2.85}\n",
            "{'loss': 0.3611, 'learning_rate': 2.4301864445447616e-06, 'epoch': 2.85}\n",
            "{'loss': 0.3343, 'learning_rate': 2.308834879352274e-06, 'epoch': 2.86}\n",
            "{'loss': 0.3581, 'learning_rate': 2.1874833141597865e-06, 'epoch': 2.87}\n",
            "{'loss': 0.3265, 'learning_rate': 2.066131748967298e-06, 'epoch': 2.88}\n",
            "{'loss': 0.3482, 'learning_rate': 1.9447801837748105e-06, 'epoch': 2.88}\n",
            "{'loss': 0.3353, 'learning_rate': 1.8234286185823225e-06, 'epoch': 2.89}\n",
            "{'loss': 0.3496, 'learning_rate': 1.7020770533898347e-06, 'epoch': 2.9}\n",
            "{'loss': 0.3313, 'learning_rate': 1.5807254881973467e-06, 'epoch': 2.91}\n",
            "{'loss': 0.3832, 'learning_rate': 1.459373923004859e-06, 'epoch': 2.91}\n",
            "{'loss': 0.3501, 'learning_rate': 1.3380223578123711e-06, 'epoch': 2.92}\n",
            "{'loss': 0.3372, 'learning_rate': 1.2166707926198831e-06, 'epoch': 2.93}\n",
            "{'loss': 0.3324, 'learning_rate': 1.0953192274273953e-06, 'epoch': 2.93}\n",
            "{'loss': 0.3473, 'learning_rate': 9.739676622349076e-07, 'epoch': 2.94}\n",
            "{'loss': 0.3282, 'learning_rate': 8.526160970424198e-07, 'epoch': 2.95}\n",
            "{'loss': 0.3249, 'learning_rate': 7.312645318499318e-07, 'epoch': 2.96}\n",
            "{'loss': 0.3555, 'learning_rate': 6.09912966657444e-07, 'epoch': 2.96}\n",
            "{'loss': 0.34, 'learning_rate': 4.885614014649561e-07, 'epoch': 2.97}\n",
            "{'loss': 0.3455, 'learning_rate': 3.6720983627246827e-07, 'epoch': 2.98}\n",
            "{'loss': 0.3466, 'learning_rate': 2.4585827107998043e-07, 'epoch': 2.99}\n",
            "{'loss': 0.3683, 'learning_rate': 1.2450670588749254e-07, 'epoch': 2.99}\n",
            "{'loss': 0.3433, 'learning_rate': 3.155140695004684e-09, 'epoch': 3.0}\n",
            "{'train_runtime': 8707.0754, 'train_samples_per_second': 189.283, 'train_steps_per_second': 23.66, 'train_loss': 0.41260129619747504, 'epoch': 3.0}\n",
            "100% 206013/206013 [2:25:07<00:00, 23.66it/s]\n"
          ]
        }
      ]
    },
    {
      "cell_type": "code",
      "source": [
        "!python run.py --do_eval --task nli --dataset snli --model ./trained_model/ --output_dir ./eval_output"
      ],
      "metadata": {
        "colab": {
          "base_uri": "https://localhost:8080/"
        },
        "id": "lAahAppGQ128",
        "outputId": "788b90e2-7a09-43a9-b549-0a6c1a2ab1c3"
      },
      "execution_count": null,
      "outputs": [
        {
          "output_type": "stream",
          "name": "stdout",
          "text": [
            "2023-11-03 17:38:16.570542: E tensorflow/compiler/xla/stream_executor/cuda/cuda_dnn.cc:9342] Unable to register cuDNN factory: Attempting to register factory for plugin cuDNN when one has already been registered\n",
            "2023-11-03 17:38:16.570599: E tensorflow/compiler/xla/stream_executor/cuda/cuda_fft.cc:609] Unable to register cuFFT factory: Attempting to register factory for plugin cuFFT when one has already been registered\n",
            "2023-11-03 17:38:16.570634: E tensorflow/compiler/xla/stream_executor/cuda/cuda_blas.cc:1518] Unable to register cuBLAS factory: Attempting to register factory for plugin cuBLAS when one has already been registered\n",
            "2023-11-03 17:38:18.421562: W tensorflow/compiler/tf2tensorrt/utils/py_utils.cc:38] TF-TRT Warning: Could not find TensorRT\n",
            "Preprocessing data... (this takes a little bit, should only happen once per dataset)\n",
            "Map (num_proc=2): 100% 9842/9842 [00:01<00:00, 7352.21 examples/s]\n",
            "You're using a ElectraTokenizerFast tokenizer. Please note that with a fast tokenizer, using the `__call__` method is faster than using a method to encode the text followed by a call to the `pad` method to get a padded encoding.\n",
            "100% 1231/1231 [00:18<00:00, 65.70it/s]\n",
            "Evaluation results:\n",
            "{'eval_loss': 0.38627293705940247, 'eval_accuracy': 0.8922983407974243, 'eval_runtime': 19.2249, 'eval_samples_per_second': 511.94, 'eval_steps_per_second': 64.032}\n"
          ]
        }
      ]
    },
    {
      "cell_type": "code",
      "source": [
        "!zip -r /content/huggingface.zip huggingface/"
      ],
      "metadata": {
        "colab": {
          "base_uri": "https://localhost:8080/"
        },
        "id": "-9nqg1xETSW_",
        "outputId": "65a7e5bb-0eb7-46c0-8e0d-0ca47dd72f38"
      },
      "execution_count": null,
      "outputs": [
        {
          "output_type": "stream",
          "name": "stdout",
          "text": [
            "  adding: huggingface/ (stored 0%)\n",
            "  adding: huggingface/modules/ (stored 0%)\n",
            "  adding: huggingface/modules/datasets_modules/ (stored 0%)\n",
            "  adding: huggingface/modules/datasets_modules/datasets/ (stored 0%)\n",
            "  adding: huggingface/modules/datasets_modules/datasets/snli.lock (stored 0%)\n",
            "  adding: huggingface/modules/datasets_modules/datasets/__init__.py (stored 0%)\n",
            "  adding: huggingface/modules/datasets_modules/datasets/__pycache__/ (stored 0%)\n",
            "  adding: huggingface/modules/datasets_modules/datasets/__pycache__/__init__.cpython-310.pyc (deflated 31%)\n",
            "  adding: huggingface/modules/datasets_modules/datasets/snli/ (stored 0%)\n",
            "  adding: huggingface/modules/datasets_modules/datasets/snli/__init__.py (stored 0%)\n",
            "  adding: huggingface/modules/datasets_modules/datasets/snli/__pycache__/ (stored 0%)\n",
            "  adding: huggingface/modules/datasets_modules/datasets/snli/__pycache__/__init__.cpython-310.pyc (deflated 30%)\n",
            "  adding: huggingface/modules/datasets_modules/datasets/snli/1f60b67533b65ae0275561ff7828aad5ee4282d0e6f844fd148d05d3c6ea251b/ (stored 0%)\n",
            "  adding: huggingface/modules/datasets_modules/datasets/snli/1f60b67533b65ae0275561ff7828aad5ee4282d0e6f844fd148d05d3c6ea251b/README.md (deflated 62%)\n",
            "  adding: huggingface/modules/datasets_modules/datasets/snli/1f60b67533b65ae0275561ff7828aad5ee4282d0e6f844fd148d05d3c6ea251b/snli.py (deflated 58%)\n",
            "  adding: huggingface/modules/datasets_modules/datasets/snli/1f60b67533b65ae0275561ff7828aad5ee4282d0e6f844fd148d05d3c6ea251b/dataset_infos.json (deflated 51%)\n",
            "  adding: huggingface/modules/datasets_modules/datasets/snli/1f60b67533b65ae0275561ff7828aad5ee4282d0e6f844fd148d05d3c6ea251b/__init__.py (stored 0%)\n",
            "  adding: huggingface/modules/datasets_modules/datasets/snli/1f60b67533b65ae0275561ff7828aad5ee4282d0e6f844fd148d05d3c6ea251b/snli.json (deflated 37%)\n",
            "  adding: huggingface/modules/datasets_modules/datasets/snli/1f60b67533b65ae0275561ff7828aad5ee4282d0e6f844fd148d05d3c6ea251b/__pycache__/ (stored 0%)\n",
            "  adding: huggingface/modules/datasets_modules/datasets/snli/1f60b67533b65ae0275561ff7828aad5ee4282d0e6f844fd148d05d3c6ea251b/__pycache__/__init__.cpython-310.pyc (deflated 24%)\n",
            "  adding: huggingface/modules/datasets_modules/datasets/snli/1f60b67533b65ae0275561ff7828aad5ee4282d0e6f844fd148d05d3c6ea251b/__pycache__/snli.cpython-310.pyc (deflated 39%)\n",
            "  adding: huggingface/modules/datasets_modules/__init__.py (stored 0%)\n",
            "  adding: huggingface/modules/datasets_modules/__pycache__/ (stored 0%)\n",
            "  adding: huggingface/modules/datasets_modules/__pycache__/__init__.cpython-310.pyc (deflated 28%)\n",
            "  adding: huggingface/modules/__init__.py (stored 0%)\n",
            "  adding: huggingface/hub/ (stored 0%)\n",
            "  adding: huggingface/hub/models--google--electra-small-discriminator/ (stored 0%)\n",
            "  adding: huggingface/hub/models--google--electra-small-discriminator/refs/ (stored 0%)\n",
            "  adding: huggingface/hub/models--google--electra-small-discriminator/refs/main (stored 0%)\n",
            "  adding: huggingface/hub/models--google--electra-small-discriminator/snapshots/ (stored 0%)\n",
            "  adding: huggingface/hub/models--google--electra-small-discriminator/snapshots/153f486d928bcfc213932f8fc91fc2e3c41af769/ (stored 0%)\n",
            "  adding: huggingface/hub/models--google--electra-small-discriminator/snapshots/153f486d928bcfc213932f8fc91fc2e3c41af769/config.json (deflated 51%)\n",
            "  adding: huggingface/hub/models--google--electra-small-discriminator/snapshots/153f486d928bcfc213932f8fc91fc2e3c41af769/vocab.txt (deflated 53%)\n",
            "  adding: huggingface/hub/models--google--electra-small-discriminator/snapshots/153f486d928bcfc213932f8fc91fc2e3c41af769/tokenizer.json (deflated 59%)\n",
            "  adding: huggingface/hub/models--google--electra-small-discriminator/snapshots/153f486d928bcfc213932f8fc91fc2e3c41af769/tokenizer_config.json (stored 0%)\n",
            "  adding: huggingface/hub/models--google--electra-small-discriminator/snapshots/153f486d928bcfc213932f8fc91fc2e3c41af769/pytorch_model.bin (deflated 7%)\n",
            "  adding: huggingface/hub/models--google--electra-small-discriminator/blobs/ (stored 0%)\n",
            "  adding: huggingface/hub/models--google--electra-small-discriminator/blobs/8004e531658bc0bcbaf66a7d20b0ff8bc08acc8b (deflated 51%)\n",
            "  adding: huggingface/hub/models--google--electra-small-discriminator/blobs/949a6f013d67eb8a5b4b5b46026217b888021b88 (deflated 59%)\n",
            "  adding: huggingface/hub/models--google--electra-small-discriminator/blobs/85d8fcaf0d292587124e2a2dcbe490118fcdd5c8 (stored 0%)\n",
            "  adding: huggingface/hub/models--google--electra-small-discriminator/blobs/fb140275c155a9c7c5a3b3e0e77a9e839594a938 (deflated 53%)\n",
            "  adding: huggingface/hub/models--google--electra-small-discriminator/blobs/735154b1a8a78ba97da3c8c53c2e3d1d58b8dec5fa5caf0e144661c8bbe0e787 (deflated 7%)\n",
            "  adding: huggingface/hub/models--google--electra-small-discriminator/.no_exist/ (stored 0%)\n",
            "  adding: huggingface/hub/models--google--electra-small-discriminator/.no_exist/153f486d928bcfc213932f8fc91fc2e3c41af769/ (stored 0%)\n",
            "  adding: huggingface/hub/models--google--electra-small-discriminator/.no_exist/153f486d928bcfc213932f8fc91fc2e3c41af769/special_tokens_map.json (stored 0%)\n",
            "  adding: huggingface/hub/models--google--electra-small-discriminator/.no_exist/153f486d928bcfc213932f8fc91fc2e3c41af769/model.safetensors (stored 0%)\n",
            "  adding: huggingface/hub/models--google--electra-small-discriminator/.no_exist/153f486d928bcfc213932f8fc91fc2e3c41af769/model.safetensors.index.json (stored 0%)\n",
            "  adding: huggingface/hub/models--google--electra-small-discriminator/.no_exist/153f486d928bcfc213932f8fc91fc2e3c41af769/added_tokens.json (stored 0%)\n",
            "  adding: huggingface/hub/version.txt (stored 0%)\n",
            "  adding: huggingface/datasets/ (stored 0%)\n",
            "  adding: huggingface/datasets/_root_.cache_huggingface_datasets_snli_plain_text_1.0.0_1f60b67533b65ae0275561ff7828aad5ee4282d0e6f844fd148d05d3c6ea251b.lock (stored 0%)\n",
            "  adding: huggingface/datasets/downloads/ (stored 0%)\n",
            "  adding: huggingface/datasets/downloads/e157ba42cfdf23e41f77696d41884676df3fa77322fc5f619ccdda1e0ab8131a.a88980f957e314e808c665b847185984f5f66ec662929d35db5414f3c0f33d08.lock (stored 0%)\n",
            "  adding: huggingface/datasets/downloads/86329aac5c7e9e8c647e8222ae58a56d78d8e732bf3247a8625b62774ab9c718.f39cdc981a04e8e99f36c751f118ff3775bcdb0b023e326afd18f3119c74c69d.py.json (deflated 10%)\n",
            "  adding: huggingface/datasets/downloads/4e1099d2097ba1a8f38618d7dd4dbf8a730f8f82148adf66e27ee56223cc925b.lock (stored 0%)\n",
            "  adding: huggingface/datasets/downloads/86329aac5c7e9e8c647e8222ae58a56d78d8e732bf3247a8625b62774ab9c718.f39cdc981a04e8e99f36c751f118ff3775bcdb0b023e326afd18f3119c74c69d.py.lock (stored 0%)\n",
            "  adding: huggingface/datasets/downloads/86329aac5c7e9e8c647e8222ae58a56d78d8e732bf3247a8625b62774ab9c718.f39cdc981a04e8e99f36c751f118ff3775bcdb0b023e326afd18f3119c74c69d.py (deflated 58%)\n",
            "  adding: huggingface/datasets/downloads/e314f314e1932d6bfcc64707ec5faa71c70ce1876f61a6938e8a77d03af8e953.9901c2df7afffdd307e949346677b9c24078fcd1ee33f9e46cd8f0abb0a3dc31.lock (stored 0%)\n",
            "  adding: huggingface/datasets/downloads/5e10e23a1db8375c6fccebefdb2195f7925cfca3dd0344ed624d90de8ea587ff.edea728f2967c81b245ed3ff79c4897795dd1a8d91736f976f36f5c53dafb815.json (deflated 6%)\n",
            "  adding: huggingface/datasets/downloads/7e1053da63cca2fb23d5f288b9561c4ee5047b8932e7a50fd011b23de8b87bb4.json (deflated 16%)\n",
            "  adding: huggingface/datasets/downloads/e157ba42cfdf23e41f77696d41884676df3fa77322fc5f619ccdda1e0ab8131a.a88980f957e314e808c665b847185984f5f66ec662929d35db5414f3c0f33d08 (deflated 51%)\n",
            "  adding: huggingface/datasets/downloads/9d4ff7597a2db664636641afb73a0bb0e759e4ccceb36bb2419b721960eea3d4.json (deflated 16%)\n",
            "  adding: huggingface/datasets/downloads/e157ba42cfdf23e41f77696d41884676df3fa77322fc5f619ccdda1e0ab8131a.a88980f957e314e808c665b847185984f5f66ec662929d35db5414f3c0f33d08.json (deflated 15%)\n",
            "  adding: huggingface/datasets/downloads/e314f314e1932d6bfcc64707ec5faa71c70ce1876f61a6938e8a77d03af8e953.9901c2df7afffdd307e949346677b9c24078fcd1ee33f9e46cd8f0abb0a3dc31.json (deflated 17%)\n",
            "  adding: huggingface/datasets/downloads/5e10e23a1db8375c6fccebefdb2195f7925cfca3dd0344ed624d90de8ea587ff.edea728f2967c81b245ed3ff79c4897795dd1a8d91736f976f36f5c53dafb815.lock (stored 0%)\n",
            "  adding: huggingface/datasets/downloads/9d4ff7597a2db664636641afb73a0bb0e759e4ccceb36bb2419b721960eea3d4.lock (stored 0%)\n",
            "  adding: huggingface/datasets/downloads/5e10e23a1db8375c6fccebefdb2195f7925cfca3dd0344ed624d90de8ea587ff.edea728f2967c81b245ed3ff79c4897795dd1a8d91736f976f36f5c53dafb815 (deflated 62%)\n",
            "  adding: huggingface/datasets/downloads/4e1099d2097ba1a8f38618d7dd4dbf8a730f8f82148adf66e27ee56223cc925b.json (deflated 17%)\n",
            "  adding: huggingface/datasets/downloads/7e1053da63cca2fb23d5f288b9561c4ee5047b8932e7a50fd011b23de8b87bb4.lock (stored 0%)\n",
            "  adding: huggingface/datasets/snli/ (stored 0%)\n",
            "  adding: huggingface/datasets/snli/plain_text/ (stored 0%)\n",
            "  adding: huggingface/datasets/snli/plain_text/1.0.0/ (stored 0%)\n",
            "  adding: huggingface/datasets/snli/plain_text/1.0.0/1f60b67533b65ae0275561ff7828aad5ee4282d0e6f844fd148d05d3c6ea251b.incomplete_info.lock (stored 0%)\n",
            "  adding: huggingface/datasets/snli/plain_text/1.0.0/1f60b67533b65ae0275561ff7828aad5ee4282d0e6f844fd148d05d3c6ea251b_builder.lock (stored 0%)\n",
            "  adding: huggingface/datasets/snli/plain_text/1.0.0/1f60b67533b65ae0275561ff7828aad5ee4282d0e6f844fd148d05d3c6ea251b/ (stored 0%)\n",
            "  adding: huggingface/datasets/snli/plain_text/1.0.0/1f60b67533b65ae0275561ff7828aad5ee4282d0e6f844fd148d05d3c6ea251b/cache-92d7acc5db0a8347_00000_of_00002.arrow (deflated 95%)\n",
            "  adding: huggingface/datasets/snli/plain_text/1.0.0/1f60b67533b65ae0275561ff7828aad5ee4282d0e6f844fd148d05d3c6ea251b/cache-bee9992a41e3d30d_00000_of_00002.arrow (deflated 96%)\n",
            "  adding: huggingface/datasets/snli/plain_text/1.0.0/1f60b67533b65ae0275561ff7828aad5ee4282d0e6f844fd148d05d3c6ea251b/snli-train.arrow (deflated 81%)\n",
            "  adding: huggingface/datasets/snli/plain_text/1.0.0/1f60b67533b65ae0275561ff7828aad5ee4282d0e6f844fd148d05d3c6ea251b/cache-a57ac8d784c9adda.arrow (deflated 81%)\n",
            "  adding: huggingface/datasets/snli/plain_text/1.0.0/1f60b67533b65ae0275561ff7828aad5ee4282d0e6f844fd148d05d3c6ea251b/snli-test.arrow (deflated 79%)\n",
            "  adding: huggingface/datasets/snli/plain_text/1.0.0/1f60b67533b65ae0275561ff7828aad5ee4282d0e6f844fd148d05d3c6ea251b/snli-validation.arrow (deflated 79%)\n",
            "  adding: huggingface/datasets/snli/plain_text/1.0.0/1f60b67533b65ae0275561ff7828aad5ee4282d0e6f844fd148d05d3c6ea251b/cache-6d5521c63b6a89b3.arrow (deflated 81%)\n",
            "  adding: huggingface/datasets/snli/plain_text/1.0.0/1f60b67533b65ae0275561ff7828aad5ee4282d0e6f844fd148d05d3c6ea251b/cache-bee9992a41e3d30d_00001_of_00002.arrow (deflated 96%)\n",
            "  adding: huggingface/datasets/snli/plain_text/1.0.0/1f60b67533b65ae0275561ff7828aad5ee4282d0e6f844fd148d05d3c6ea251b/dataset_info.json (deflated 50%)\n",
            "  adding: huggingface/datasets/snli/plain_text/1.0.0/1f60b67533b65ae0275561ff7828aad5ee4282d0e6f844fd148d05d3c6ea251b/cache-92d7acc5db0a8347_00001_of_00002.arrow (deflated 95%)\n",
            "  adding: huggingface/datasets/snli/plain_text/1.0.0/1f60b67533b65ae0275561ff7828aad5ee4282d0e6f844fd148d05d3c6ea251b/cache-8349767195038af6.arrow (deflated 81%)\n"
          ]
        }
      ]
    },
    {
      "cell_type": "code",
      "source": [
        "!zip -r eval_output.zip fp-dataset-artifacts/eval_output/"
      ],
      "metadata": {
        "colab": {
          "base_uri": "https://localhost:8080/"
        },
        "id": "yjWrKuOLTkpk",
        "outputId": "ab5f68dc-8717-43bd-9db0-cb310a60a719"
      },
      "execution_count": null,
      "outputs": [
        {
          "output_type": "stream",
          "name": "stdout",
          "text": [
            "  adding: fp-dataset-artifacts/eval_output/ (stored 0%)\n",
            "  adding: fp-dataset-artifacts/eval_output/runs/ (stored 0%)\n",
            "  adding: fp-dataset-artifacts/eval_output/runs/Nov03_17-38-19_4801c043d0cb/ (stored 0%)\n",
            "  adding: fp-dataset-artifacts/eval_output/runs/Nov03_17-38-19_4801c043d0cb/events.out.tfevents.1699033127.4801c043d0cb.45428.0 (deflated 23%)\n",
            "  adding: fp-dataset-artifacts/eval_output/eval_metrics.json (deflated 30%)\n",
            "  adding: fp-dataset-artifacts/eval_output/eval_predictions.jsonl (deflated 77%)\n"
          ]
        }
      ]
    },
    {
      "cell_type": "code",
      "source": [
        "mkdir trained_model_no_ckpt"
      ],
      "metadata": {
        "id": "0Ip2YZoBUr85"
      },
      "execution_count": null,
      "outputs": []
    },
    {
      "cell_type": "code",
      "source": [
        "cp -r fp-dataset-artifacts/trained_model/runs ./trained_model_no_ckpt"
      ],
      "metadata": {
        "id": "t55HAUeMUvr_"
      },
      "execution_count": null,
      "outputs": []
    },
    {
      "cell_type": "code",
      "source": [
        "cp -r fp-dataset-artifacts/trained_model/*.json ./trained_model_no_ckpt"
      ],
      "metadata": {
        "id": "pfMQ8-fSU5du"
      },
      "execution_count": null,
      "outputs": []
    },
    {
      "cell_type": "code",
      "source": [
        "cp -r fp-dataset-artifacts/trained_model/*.safetensors ./trained_model_no_ckpt"
      ],
      "metadata": {
        "id": "UeY8kP3uVEcO"
      },
      "execution_count": null,
      "outputs": []
    },
    {
      "cell_type": "code",
      "source": [
        "cp -r fp-dataset-artifacts/trained_model/*.bin ./trained_model_no_ckpt"
      ],
      "metadata": {
        "id": "a0bvK4mXVH6D"
      },
      "execution_count": null,
      "outputs": []
    },
    {
      "cell_type": "code",
      "source": [
        "cp -r fp-dataset-artifacts/trained_model/*.txt ./trained_model_no_ckpt"
      ],
      "metadata": {
        "id": "JYDEoJ3eVKrP"
      },
      "execution_count": null,
      "outputs": []
    },
    {
      "cell_type": "code",
      "source": [
        "ls -lrta"
      ],
      "metadata": {
        "colab": {
          "base_uri": "https://localhost:8080/"
        },
        "id": "Y3djBGwhWu_z",
        "outputId": "fedfdd61-50c0-4908-de7e-7a3d03b34d0d"
      },
      "execution_count": null,
      "outputs": [
        {
          "output_type": "stream",
          "name": "stdout",
          "text": [
            "total 55572\n",
            "drwxr-xr-x   3 root root     4096 Nov  3 14:45 \u001b[0m\u001b[01;34mruns\u001b[0m/\n",
            "drwxr-xr-x   2 root root     4096 Nov  3 14:45 \u001b[01;34mcheckpoint-500\u001b[0m/\n",
            "drwxr-xr-x   2 root root     4096 Nov  3 14:46 \u001b[01;34mcheckpoint-1000\u001b[0m/\n",
            "drwxr-xr-x   2 root root     4096 Nov  3 14:46 \u001b[01;34mcheckpoint-1500\u001b[0m/\n",
            "drwxr-xr-x   2 root root     4096 Nov  3 14:46 \u001b[01;34mcheckpoint-2000\u001b[0m/\n",
            "drwxr-xr-x   2 root root     4096 Nov  3 14:47 \u001b[01;34mcheckpoint-2500\u001b[0m/\n",
            "drwxr-xr-x   2 root root     4096 Nov  3 14:47 \u001b[01;34mcheckpoint-3000\u001b[0m/\n",
            "drwxr-xr-x   2 root root     4096 Nov  3 14:47 \u001b[01;34mcheckpoint-3500\u001b[0m/\n",
            "drwxr-xr-x   2 root root     4096 Nov  3 14:48 \u001b[01;34mcheckpoint-4000\u001b[0m/\n",
            "drwxr-xr-x   2 root root     4096 Nov  3 14:48 \u001b[01;34mcheckpoint-4500\u001b[0m/\n",
            "drwxr-xr-x   2 root root     4096 Nov  3 14:48 \u001b[01;34mcheckpoint-5000\u001b[0m/\n",
            "drwxr-xr-x   2 root root     4096 Nov  3 14:49 \u001b[01;34mcheckpoint-5500\u001b[0m/\n",
            "drwxr-xr-x   2 root root     4096 Nov  3 14:49 \u001b[01;34mcheckpoint-6000\u001b[0m/\n",
            "drwxr-xr-x   2 root root     4096 Nov  3 14:50 \u001b[01;34mcheckpoint-6500\u001b[0m/\n",
            "drwxr-xr-x   2 root root     4096 Nov  3 14:50 \u001b[01;34mcheckpoint-7000\u001b[0m/\n",
            "drwxr-xr-x   2 root root     4096 Nov  3 14:50 \u001b[01;34mcheckpoint-7500\u001b[0m/\n",
            "drwxr-xr-x   2 root root     4096 Nov  3 14:51 \u001b[01;34mcheckpoint-8000\u001b[0m/\n",
            "drwxr-xr-x   2 root root     4096 Nov  3 14:51 \u001b[01;34mcheckpoint-8500\u001b[0m/\n",
            "drwxr-xr-x   2 root root     4096 Nov  3 14:51 \u001b[01;34mcheckpoint-9000\u001b[0m/\n",
            "drwxr-xr-x   2 root root     4096 Nov  3 14:52 \u001b[01;34mcheckpoint-9500\u001b[0m/\n",
            "drwxr-xr-x   2 root root     4096 Nov  3 14:52 \u001b[01;34mcheckpoint-10000\u001b[0m/\n",
            "drwxr-xr-x   2 root root     4096 Nov  3 14:52 \u001b[01;34mcheckpoint-10500\u001b[0m/\n",
            "drwxr-xr-x   2 root root     4096 Nov  3 14:53 \u001b[01;34mcheckpoint-11000\u001b[0m/\n",
            "drwxr-xr-x   2 root root     4096 Nov  3 14:53 \u001b[01;34mcheckpoint-11500\u001b[0m/\n",
            "drwxr-xr-x   2 root root     4096 Nov  3 14:53 \u001b[01;34mcheckpoint-12000\u001b[0m/\n",
            "drwxr-xr-x   2 root root     4096 Nov  3 14:54 \u001b[01;34mcheckpoint-12500\u001b[0m/\n",
            "drwxr-xr-x   2 root root     4096 Nov  3 14:54 \u001b[01;34mcheckpoint-13000\u001b[0m/\n",
            "drwxr-xr-x   2 root root     4096 Nov  3 14:55 \u001b[01;34mcheckpoint-13500\u001b[0m/\n",
            "drwxr-xr-x   2 root root     4096 Nov  3 14:55 \u001b[01;34mcheckpoint-14000\u001b[0m/\n",
            "drwxr-xr-x   2 root root     4096 Nov  3 14:55 \u001b[01;34mcheckpoint-14500\u001b[0m/\n",
            "drwxr-xr-x   2 root root     4096 Nov  3 14:56 \u001b[01;34mcheckpoint-15000\u001b[0m/\n",
            "drwxr-xr-x   2 root root     4096 Nov  3 14:56 \u001b[01;34mcheckpoint-15500\u001b[0m/\n",
            "drwxr-xr-x   2 root root     4096 Nov  3 14:56 \u001b[01;34mcheckpoint-16000\u001b[0m/\n",
            "drwxr-xr-x   2 root root     4096 Nov  3 14:57 \u001b[01;34mcheckpoint-16500\u001b[0m/\n",
            "drwxr-xr-x   2 root root     4096 Nov  3 14:57 \u001b[01;34mcheckpoint-17000\u001b[0m/\n",
            "drwxr-xr-x   2 root root     4096 Nov  3 14:57 \u001b[01;34mcheckpoint-17500\u001b[0m/\n",
            "drwxr-xr-x   2 root root     4096 Nov  3 14:58 \u001b[01;34mcheckpoint-18000\u001b[0m/\n",
            "drwxr-xr-x   2 root root     4096 Nov  3 14:58 \u001b[01;34mcheckpoint-18500\u001b[0m/\n",
            "drwxr-xr-x   2 root root     4096 Nov  3 14:58 \u001b[01;34mcheckpoint-19000\u001b[0m/\n",
            "drwxr-xr-x   2 root root     4096 Nov  3 14:59 \u001b[01;34mcheckpoint-19500\u001b[0m/\n",
            "drwxr-xr-x   2 root root     4096 Nov  3 14:59 \u001b[01;34mcheckpoint-20000\u001b[0m/\n",
            "drwxr-xr-x   2 root root     4096 Nov  3 15:00 \u001b[01;34mcheckpoint-20500\u001b[0m/\n",
            "drwxr-xr-x   2 root root     4096 Nov  3 15:00 \u001b[01;34mcheckpoint-21000\u001b[0m/\n",
            "drwxr-xr-x   2 root root     4096 Nov  3 15:00 \u001b[01;34mcheckpoint-21500\u001b[0m/\n",
            "drwxr-xr-x   2 root root     4096 Nov  3 15:01 \u001b[01;34mcheckpoint-22000\u001b[0m/\n",
            "drwxr-xr-x   2 root root     4096 Nov  3 15:01 \u001b[01;34mcheckpoint-22500\u001b[0m/\n",
            "drwxr-xr-x   2 root root     4096 Nov  3 15:01 \u001b[01;34mcheckpoint-23000\u001b[0m/\n",
            "drwxr-xr-x   2 root root     4096 Nov  3 15:02 \u001b[01;34mcheckpoint-23500\u001b[0m/\n",
            "drwxr-xr-x   2 root root     4096 Nov  3 15:02 \u001b[01;34mcheckpoint-24000\u001b[0m/\n",
            "drwxr-xr-x   2 root root     4096 Nov  3 15:02 \u001b[01;34mcheckpoint-24500\u001b[0m/\n",
            "drwxr-xr-x   2 root root     4096 Nov  3 15:03 \u001b[01;34mcheckpoint-25000\u001b[0m/\n",
            "drwxr-xr-x   2 root root     4096 Nov  3 15:03 \u001b[01;34mcheckpoint-25500\u001b[0m/\n",
            "drwxr-xr-x   2 root root     4096 Nov  3 15:03 \u001b[01;34mcheckpoint-26000\u001b[0m/\n",
            "drwxr-xr-x   2 root root     4096 Nov  3 15:04 \u001b[01;34mcheckpoint-26500\u001b[0m/\n",
            "drwxr-xr-x   2 root root     4096 Nov  3 15:04 \u001b[01;34mcheckpoint-27000\u001b[0m/\n",
            "drwxr-xr-x   2 root root     4096 Nov  3 15:04 \u001b[01;34mcheckpoint-27500\u001b[0m/\n",
            "drwxr-xr-x   2 root root     4096 Nov  3 15:05 \u001b[01;34mcheckpoint-28000\u001b[0m/\n",
            "drwxr-xr-x   2 root root     4096 Nov  3 15:05 \u001b[01;34mcheckpoint-28500\u001b[0m/\n",
            "drwxr-xr-x   2 root root     4096 Nov  3 15:05 \u001b[01;34mcheckpoint-29000\u001b[0m/\n",
            "drwxr-xr-x   2 root root     4096 Nov  3 15:06 \u001b[01;34mcheckpoint-29500\u001b[0m/\n",
            "drwxr-xr-x   2 root root     4096 Nov  3 15:06 \u001b[01;34mcheckpoint-30000\u001b[0m/\n",
            "drwxr-xr-x   2 root root     4096 Nov  3 15:06 \u001b[01;34mcheckpoint-30500\u001b[0m/\n",
            "drwxr-xr-x   2 root root     4096 Nov  3 15:07 \u001b[01;34mcheckpoint-31000\u001b[0m/\n",
            "drwxr-xr-x   2 root root     4096 Nov  3 15:07 \u001b[01;34mcheckpoint-31500\u001b[0m/\n",
            "drwxr-xr-x   2 root root     4096 Nov  3 15:08 \u001b[01;34mcheckpoint-32000\u001b[0m/\n",
            "drwxr-xr-x   2 root root     4096 Nov  3 15:08 \u001b[01;34mcheckpoint-32500\u001b[0m/\n",
            "drwxr-xr-x   2 root root     4096 Nov  3 15:08 \u001b[01;34mcheckpoint-33000\u001b[0m/\n",
            "drwxr-xr-x   2 root root     4096 Nov  3 15:09 \u001b[01;34mcheckpoint-33500\u001b[0m/\n",
            "drwxr-xr-x   2 root root     4096 Nov  3 15:09 \u001b[01;34mcheckpoint-34000\u001b[0m/\n",
            "drwxr-xr-x   2 root root     4096 Nov  3 15:09 \u001b[01;34mcheckpoint-34500\u001b[0m/\n",
            "drwxr-xr-x   2 root root     4096 Nov  3 15:10 \u001b[01;34mcheckpoint-35000\u001b[0m/\n",
            "drwxr-xr-x   2 root root     4096 Nov  3 15:10 \u001b[01;34mcheckpoint-35500\u001b[0m/\n",
            "drwxr-xr-x   2 root root     4096 Nov  3 15:10 \u001b[01;34mcheckpoint-36000\u001b[0m/\n",
            "drwxr-xr-x   2 root root     4096 Nov  3 15:11 \u001b[01;34mcheckpoint-36500\u001b[0m/\n",
            "drwxr-xr-x   2 root root     4096 Nov  3 15:11 \u001b[01;34mcheckpoint-37000\u001b[0m/\n",
            "drwxr-xr-x   2 root root     4096 Nov  3 15:11 \u001b[01;34mcheckpoint-37500\u001b[0m/\n",
            "drwxr-xr-x   2 root root     4096 Nov  3 15:12 \u001b[01;34mcheckpoint-38000\u001b[0m/\n",
            "drwxr-xr-x   2 root root     4096 Nov  3 15:12 \u001b[01;34mcheckpoint-38500\u001b[0m/\n",
            "drwxr-xr-x   2 root root     4096 Nov  3 15:13 \u001b[01;34mcheckpoint-39000\u001b[0m/\n",
            "drwxr-xr-x   2 root root     4096 Nov  3 15:13 \u001b[01;34mcheckpoint-39500\u001b[0m/\n",
            "drwxr-xr-x   2 root root     4096 Nov  3 15:13 \u001b[01;34mcheckpoint-40000\u001b[0m/\n",
            "drwxr-xr-x   2 root root     4096 Nov  3 15:14 \u001b[01;34mcheckpoint-40500\u001b[0m/\n",
            "drwxr-xr-x   2 root root     4096 Nov  3 15:14 \u001b[01;34mcheckpoint-41000\u001b[0m/\n",
            "drwxr-xr-x   2 root root     4096 Nov  3 15:14 \u001b[01;34mcheckpoint-41500\u001b[0m/\n",
            "drwxr-xr-x   2 root root     4096 Nov  3 15:15 \u001b[01;34mcheckpoint-42000\u001b[0m/\n",
            "drwxr-xr-x   2 root root     4096 Nov  3 15:15 \u001b[01;34mcheckpoint-42500\u001b[0m/\n",
            "drwxr-xr-x   2 root root     4096 Nov  3 15:16 \u001b[01;34mcheckpoint-43000\u001b[0m/\n",
            "drwxr-xr-x   2 root root     4096 Nov  3 15:16 \u001b[01;34mcheckpoint-43500\u001b[0m/\n",
            "drwxr-xr-x   2 root root     4096 Nov  3 15:16 \u001b[01;34mcheckpoint-44000\u001b[0m/\n",
            "drwxr-xr-x   2 root root     4096 Nov  3 15:17 \u001b[01;34mcheckpoint-44500\u001b[0m/\n",
            "drwxr-xr-x   2 root root     4096 Nov  3 15:17 \u001b[01;34mcheckpoint-45000\u001b[0m/\n",
            "drwxr-xr-x   2 root root     4096 Nov  3 15:17 \u001b[01;34mcheckpoint-45500\u001b[0m/\n",
            "drwxr-xr-x   2 root root     4096 Nov  3 15:18 \u001b[01;34mcheckpoint-46000\u001b[0m/\n",
            "drwxr-xr-x   2 root root     4096 Nov  3 15:18 \u001b[01;34mcheckpoint-46500\u001b[0m/\n",
            "drwxr-xr-x   2 root root     4096 Nov  3 15:19 \u001b[01;34mcheckpoint-47000\u001b[0m/\n",
            "drwxr-xr-x   2 root root     4096 Nov  3 15:19 \u001b[01;34mcheckpoint-47500\u001b[0m/\n",
            "drwxr-xr-x   2 root root     4096 Nov  3 15:19 \u001b[01;34mcheckpoint-48000\u001b[0m/\n",
            "drwxr-xr-x   2 root root     4096 Nov  3 15:20 \u001b[01;34mcheckpoint-48500\u001b[0m/\n",
            "drwxr-xr-x   2 root root     4096 Nov  3 15:20 \u001b[01;34mcheckpoint-49000\u001b[0m/\n",
            "drwxr-xr-x   2 root root     4096 Nov  3 15:20 \u001b[01;34mcheckpoint-49500\u001b[0m/\n",
            "drwxr-xr-x   2 root root     4096 Nov  3 15:21 \u001b[01;34mcheckpoint-50000\u001b[0m/\n",
            "drwxr-xr-x   2 root root     4096 Nov  3 15:21 \u001b[01;34mcheckpoint-50500\u001b[0m/\n",
            "drwxr-xr-x   2 root root     4096 Nov  3 15:21 \u001b[01;34mcheckpoint-51000\u001b[0m/\n",
            "drwxr-xr-x   2 root root     4096 Nov  3 15:22 \u001b[01;34mcheckpoint-51500\u001b[0m/\n",
            "drwxr-xr-x   2 root root     4096 Nov  3 15:22 \u001b[01;34mcheckpoint-52000\u001b[0m/\n",
            "drwxr-xr-x   2 root root     4096 Nov  3 15:23 \u001b[01;34mcheckpoint-52500\u001b[0m/\n",
            "drwxr-xr-x   2 root root     4096 Nov  3 15:23 \u001b[01;34mcheckpoint-53000\u001b[0m/\n",
            "drwxr-xr-x   2 root root     4096 Nov  3 15:23 \u001b[01;34mcheckpoint-53500\u001b[0m/\n",
            "drwxr-xr-x   2 root root     4096 Nov  3 15:24 \u001b[01;34mcheckpoint-54000\u001b[0m/\n",
            "drwxr-xr-x   2 root root     4096 Nov  3 15:24 \u001b[01;34mcheckpoint-54500\u001b[0m/\n",
            "drwxr-xr-x   2 root root     4096 Nov  3 15:24 \u001b[01;34mcheckpoint-55000\u001b[0m/\n",
            "drwxr-xr-x   2 root root     4096 Nov  3 15:25 \u001b[01;34mcheckpoint-55500\u001b[0m/\n",
            "drwxr-xr-x   2 root root     4096 Nov  3 15:25 \u001b[01;34mcheckpoint-56000\u001b[0m/\n",
            "drwxr-xr-x   2 root root     4096 Nov  3 15:25 \u001b[01;34mcheckpoint-56500\u001b[0m/\n",
            "drwxr-xr-x   2 root root     4096 Nov  3 15:26 \u001b[01;34mcheckpoint-57000\u001b[0m/\n",
            "drwxr-xr-x   2 root root     4096 Nov  3 15:26 \u001b[01;34mcheckpoint-57500\u001b[0m/\n",
            "drwxr-xr-x   2 root root     4096 Nov  3 15:26 \u001b[01;34mcheckpoint-58000\u001b[0m/\n",
            "drwxr-xr-x   2 root root     4096 Nov  3 15:27 \u001b[01;34mcheckpoint-58500\u001b[0m/\n",
            "drwxr-xr-x   2 root root     4096 Nov  3 15:27 \u001b[01;34mcheckpoint-59000\u001b[0m/\n",
            "drwxr-xr-x   2 root root     4096 Nov  3 15:27 \u001b[01;34mcheckpoint-59500\u001b[0m/\n",
            "drwxr-xr-x   2 root root     4096 Nov  3 15:28 \u001b[01;34mcheckpoint-60000\u001b[0m/\n",
            "drwxr-xr-x   2 root root     4096 Nov  3 15:28 \u001b[01;34mcheckpoint-60500\u001b[0m/\n",
            "drwxr-xr-x   2 root root     4096 Nov  3 15:28 \u001b[01;34mcheckpoint-61000\u001b[0m/\n",
            "drwxr-xr-x   2 root root     4096 Nov  3 15:29 \u001b[01;34mcheckpoint-61500\u001b[0m/\n",
            "drwxr-xr-x   2 root root     4096 Nov  3 15:29 \u001b[01;34mcheckpoint-62000\u001b[0m/\n",
            "drwxr-xr-x   2 root root     4096 Nov  3 15:30 \u001b[01;34mcheckpoint-62500\u001b[0m/\n",
            "drwxr-xr-x   2 root root     4096 Nov  3 15:30 \u001b[01;34mcheckpoint-63000\u001b[0m/\n",
            "drwxr-xr-x   2 root root     4096 Nov  3 15:30 \u001b[01;34mcheckpoint-63500\u001b[0m/\n",
            "drwxr-xr-x   2 root root     4096 Nov  3 15:31 \u001b[01;34mcheckpoint-64000\u001b[0m/\n",
            "drwxr-xr-x   2 root root     4096 Nov  3 15:31 \u001b[01;34mcheckpoint-64500\u001b[0m/\n",
            "drwxr-xr-x   2 root root     4096 Nov  3 15:31 \u001b[01;34mcheckpoint-65000\u001b[0m/\n",
            "drwxr-xr-x   2 root root     4096 Nov  3 15:32 \u001b[01;34mcheckpoint-65500\u001b[0m/\n",
            "drwxr-xr-x   2 root root     4096 Nov  3 15:32 \u001b[01;34mcheckpoint-66000\u001b[0m/\n",
            "drwxr-xr-x   2 root root     4096 Nov  3 15:32 \u001b[01;34mcheckpoint-66500\u001b[0m/\n",
            "drwxr-xr-x   2 root root     4096 Nov  3 15:33 \u001b[01;34mcheckpoint-67000\u001b[0m/\n",
            "drwxr-xr-x   2 root root     4096 Nov  3 15:33 \u001b[01;34mcheckpoint-67500\u001b[0m/\n",
            "drwxr-xr-x   2 root root     4096 Nov  3 15:33 \u001b[01;34mcheckpoint-68000\u001b[0m/\n",
            "drwxr-xr-x   2 root root     4096 Nov  3 15:34 \u001b[01;34mcheckpoint-68500\u001b[0m/\n",
            "drwxr-xr-x   2 root root     4096 Nov  3 15:34 \u001b[01;34mcheckpoint-69000\u001b[0m/\n",
            "drwxr-xr-x   2 root root     4096 Nov  3 15:34 \u001b[01;34mcheckpoint-69500\u001b[0m/\n",
            "drwxr-xr-x   2 root root     4096 Nov  3 15:35 \u001b[01;34mcheckpoint-70000\u001b[0m/\n",
            "drwxr-xr-x   2 root root     4096 Nov  3 15:35 \u001b[01;34mcheckpoint-70500\u001b[0m/\n",
            "drwxr-xr-x   2 root root     4096 Nov  3 15:35 \u001b[01;34mcheckpoint-71000\u001b[0m/\n",
            "drwxr-xr-x   2 root root     4096 Nov  3 15:36 \u001b[01;34mcheckpoint-71500\u001b[0m/\n",
            "drwxr-xr-x   2 root root     4096 Nov  3 15:36 \u001b[01;34mcheckpoint-72000\u001b[0m/\n",
            "drwxr-xr-x   2 root root     4096 Nov  3 15:36 \u001b[01;34mcheckpoint-72500\u001b[0m/\n",
            "drwxr-xr-x   2 root root     4096 Nov  3 15:37 \u001b[01;34mcheckpoint-73000\u001b[0m/\n",
            "drwxr-xr-x   2 root root     4096 Nov  3 15:37 \u001b[01;34mcheckpoint-73500\u001b[0m/\n",
            "drwxr-xr-x   2 root root     4096 Nov  3 15:38 \u001b[01;34mcheckpoint-74000\u001b[0m/\n",
            "drwxr-xr-x   2 root root     4096 Nov  3 15:38 \u001b[01;34mcheckpoint-74500\u001b[0m/\n",
            "drwxr-xr-x   2 root root     4096 Nov  3 15:38 \u001b[01;34mcheckpoint-75000\u001b[0m/\n",
            "drwxr-xr-x   2 root root     4096 Nov  3 15:39 \u001b[01;34mcheckpoint-75500\u001b[0m/\n",
            "drwxr-xr-x   2 root root     4096 Nov  3 15:39 \u001b[01;34mcheckpoint-76000\u001b[0m/\n",
            "drwxr-xr-x   2 root root     4096 Nov  3 15:39 \u001b[01;34mcheckpoint-76500\u001b[0m/\n",
            "drwxr-xr-x   2 root root     4096 Nov  3 15:40 \u001b[01;34mcheckpoint-77000\u001b[0m/\n",
            "drwxr-xr-x   2 root root     4096 Nov  3 15:40 \u001b[01;34mcheckpoint-77500\u001b[0m/\n",
            "drwxr-xr-x   2 root root     4096 Nov  3 15:40 \u001b[01;34mcheckpoint-78000\u001b[0m/\n",
            "drwxr-xr-x   2 root root     4096 Nov  3 15:41 \u001b[01;34mcheckpoint-78500\u001b[0m/\n",
            "drwxr-xr-x   2 root root     4096 Nov  3 15:41 \u001b[01;34mcheckpoint-79000\u001b[0m/\n",
            "drwxr-xr-x   2 root root     4096 Nov  3 15:41 \u001b[01;34mcheckpoint-79500\u001b[0m/\n",
            "drwxr-xr-x   2 root root     4096 Nov  3 15:42 \u001b[01;34mcheckpoint-80000\u001b[0m/\n",
            "drwxr-xr-x   2 root root     4096 Nov  3 15:42 \u001b[01;34mcheckpoint-80500\u001b[0m/\n",
            "drwxr-xr-x   2 root root     4096 Nov  3 15:42 \u001b[01;34mcheckpoint-81000\u001b[0m/\n",
            "drwxr-xr-x   2 root root     4096 Nov  3 15:43 \u001b[01;34mcheckpoint-81500\u001b[0m/\n",
            "drwxr-xr-x   2 root root     4096 Nov  3 15:43 \u001b[01;34mcheckpoint-82000\u001b[0m/\n",
            "drwxr-xr-x   2 root root     4096 Nov  3 15:43 \u001b[01;34mcheckpoint-82500\u001b[0m/\n",
            "drwxr-xr-x   2 root root     4096 Nov  3 15:44 \u001b[01;34mcheckpoint-83000\u001b[0m/\n",
            "drwxr-xr-x   2 root root     4096 Nov  3 15:44 \u001b[01;34mcheckpoint-83500\u001b[0m/\n",
            "drwxr-xr-x   2 root root     4096 Nov  3 15:44 \u001b[01;34mcheckpoint-84000\u001b[0m/\n",
            "drwxr-xr-x   2 root root     4096 Nov  3 15:45 \u001b[01;34mcheckpoint-84500\u001b[0m/\n",
            "drwxr-xr-x   2 root root     4096 Nov  3 15:45 \u001b[01;34mcheckpoint-85000\u001b[0m/\n",
            "drwxr-xr-x   2 root root     4096 Nov  3 15:45 \u001b[01;34mcheckpoint-85500\u001b[0m/\n",
            "drwxr-xr-x   2 root root     4096 Nov  3 15:46 \u001b[01;34mcheckpoint-86000\u001b[0m/\n",
            "drwxr-xr-x   2 root root     4096 Nov  3 15:46 \u001b[01;34mcheckpoint-86500\u001b[0m/\n",
            "drwxr-xr-x   2 root root     4096 Nov  3 15:47 \u001b[01;34mcheckpoint-87000\u001b[0m/\n",
            "drwxr-xr-x   2 root root     4096 Nov  3 15:47 \u001b[01;34mcheckpoint-87500\u001b[0m/\n",
            "drwxr-xr-x   2 root root     4096 Nov  3 15:47 \u001b[01;34mcheckpoint-88000\u001b[0m/\n",
            "drwxr-xr-x   2 root root     4096 Nov  3 15:48 \u001b[01;34mcheckpoint-88500\u001b[0m/\n",
            "drwxr-xr-x   2 root root     4096 Nov  3 15:48 \u001b[01;34mcheckpoint-89000\u001b[0m/\n",
            "drwxr-xr-x   2 root root     4096 Nov  3 15:48 \u001b[01;34mcheckpoint-89500\u001b[0m/\n",
            "drwxr-xr-x   2 root root     4096 Nov  3 15:49 \u001b[01;34mcheckpoint-90000\u001b[0m/\n",
            "drwxr-xr-x   2 root root     4096 Nov  3 15:49 \u001b[01;34mcheckpoint-90500\u001b[0m/\n",
            "drwxr-xr-x   2 root root     4096 Nov  3 15:49 \u001b[01;34mcheckpoint-91000\u001b[0m/\n",
            "drwxr-xr-x   2 root root     4096 Nov  3 15:50 \u001b[01;34mcheckpoint-91500\u001b[0m/\n",
            "drwxr-xr-x   2 root root     4096 Nov  3 15:50 \u001b[01;34mcheckpoint-92000\u001b[0m/\n",
            "drwxr-xr-x   2 root root     4096 Nov  3 15:50 \u001b[01;34mcheckpoint-92500\u001b[0m/\n",
            "drwxr-xr-x   2 root root     4096 Nov  3 15:51 \u001b[01;34mcheckpoint-93000\u001b[0m/\n",
            "drwxr-xr-x   2 root root     4096 Nov  3 15:51 \u001b[01;34mcheckpoint-93500\u001b[0m/\n",
            "drwxr-xr-x   2 root root     4096 Nov  3 15:51 \u001b[01;34mcheckpoint-94000\u001b[0m/\n",
            "drwxr-xr-x   2 root root     4096 Nov  3 15:52 \u001b[01;34mcheckpoint-94500\u001b[0m/\n",
            "drwxr-xr-x   2 root root     4096 Nov  3 15:52 \u001b[01;34mcheckpoint-95000\u001b[0m/\n",
            "drwxr-xr-x   2 root root     4096 Nov  3 15:52 \u001b[01;34mcheckpoint-95500\u001b[0m/\n",
            "drwxr-xr-x   2 root root     4096 Nov  3 15:53 \u001b[01;34mcheckpoint-96000\u001b[0m/\n",
            "drwxr-xr-x   2 root root     4096 Nov  3 15:53 \u001b[01;34mcheckpoint-96500\u001b[0m/\n",
            "drwxr-xr-x   2 root root     4096 Nov  3 15:54 \u001b[01;34mcheckpoint-97000\u001b[0m/\n",
            "drwxr-xr-x   2 root root     4096 Nov  3 15:54 \u001b[01;34mcheckpoint-97500\u001b[0m/\n",
            "drwxr-xr-x   2 root root     4096 Nov  3 15:54 \u001b[01;34mcheckpoint-98000\u001b[0m/\n",
            "drwxr-xr-x   2 root root     4096 Nov  3 15:55 \u001b[01;34mcheckpoint-98500\u001b[0m/\n",
            "drwxr-xr-x   2 root root     4096 Nov  3 15:55 \u001b[01;34mcheckpoint-99000\u001b[0m/\n",
            "drwxr-xr-x   2 root root     4096 Nov  3 15:55 \u001b[01;34mcheckpoint-99500\u001b[0m/\n",
            "drwxr-xr-x   2 root root     4096 Nov  3 15:56 \u001b[01;34mcheckpoint-100000\u001b[0m/\n",
            "drwxr-xr-x   2 root root     4096 Nov  3 15:56 \u001b[01;34mcheckpoint-100500\u001b[0m/\n",
            "drwxr-xr-x   2 root root     4096 Nov  3 15:56 \u001b[01;34mcheckpoint-101000\u001b[0m/\n",
            "drwxr-xr-x   2 root root     4096 Nov  3 15:57 \u001b[01;34mcheckpoint-101500\u001b[0m/\n",
            "drwxr-xr-x   2 root root     4096 Nov  3 15:57 \u001b[01;34mcheckpoint-102000\u001b[0m/\n",
            "drwxr-xr-x   2 root root     4096 Nov  3 15:57 \u001b[01;34mcheckpoint-102500\u001b[0m/\n",
            "drwxr-xr-x   2 root root     4096 Nov  3 15:58 \u001b[01;34mcheckpoint-103000\u001b[0m/\n",
            "drwxr-xr-x   2 root root     4096 Nov  3 15:58 \u001b[01;34mcheckpoint-103500\u001b[0m/\n",
            "drwxr-xr-x   2 root root     4096 Nov  3 15:58 \u001b[01;34mcheckpoint-104000\u001b[0m/\n",
            "drwxr-xr-x   2 root root     4096 Nov  3 15:59 \u001b[01;34mcheckpoint-104500\u001b[0m/\n",
            "drwxr-xr-x   2 root root     4096 Nov  3 15:59 \u001b[01;34mcheckpoint-105000\u001b[0m/\n",
            "drwxr-xr-x   2 root root     4096 Nov  3 15:59 \u001b[01;34mcheckpoint-105500\u001b[0m/\n",
            "drwxr-xr-x   2 root root     4096 Nov  3 16:00 \u001b[01;34mcheckpoint-106000\u001b[0m/\n",
            "drwxr-xr-x   2 root root     4096 Nov  3 16:00 \u001b[01;34mcheckpoint-106500\u001b[0m/\n",
            "drwxr-xr-x   2 root root     4096 Nov  3 16:01 \u001b[01;34mcheckpoint-107000\u001b[0m/\n",
            "drwxr-xr-x   2 root root     4096 Nov  3 16:01 \u001b[01;34mcheckpoint-107500\u001b[0m/\n",
            "drwxr-xr-x   2 root root     4096 Nov  3 16:01 \u001b[01;34mcheckpoint-108000\u001b[0m/\n",
            "drwxr-xr-x   2 root root     4096 Nov  3 16:02 \u001b[01;34mcheckpoint-108500\u001b[0m/\n",
            "drwxr-xr-x   2 root root     4096 Nov  3 16:02 \u001b[01;34mcheckpoint-109000\u001b[0m/\n",
            "drwxr-xr-x   2 root root     4096 Nov  3 16:02 \u001b[01;34mcheckpoint-109500\u001b[0m/\n",
            "drwxr-xr-x   2 root root     4096 Nov  3 16:03 \u001b[01;34mcheckpoint-110000\u001b[0m/\n",
            "drwxr-xr-x   2 root root     4096 Nov  3 16:03 \u001b[01;34mcheckpoint-110500\u001b[0m/\n",
            "drwxr-xr-x   2 root root     4096 Nov  3 16:03 \u001b[01;34mcheckpoint-111000\u001b[0m/\n",
            "drwxr-xr-x   2 root root     4096 Nov  3 16:04 \u001b[01;34mcheckpoint-111500\u001b[0m/\n",
            "drwxr-xr-x   2 root root     4096 Nov  3 16:04 \u001b[01;34mcheckpoint-112000\u001b[0m/\n",
            "drwxr-xr-x   2 root root     4096 Nov  3 16:04 \u001b[01;34mcheckpoint-112500\u001b[0m/\n",
            "drwxr-xr-x   2 root root     4096 Nov  3 16:05 \u001b[01;34mcheckpoint-113000\u001b[0m/\n",
            "drwxr-xr-x   2 root root     4096 Nov  3 16:05 \u001b[01;34mcheckpoint-113500\u001b[0m/\n",
            "drwxr-xr-x   2 root root     4096 Nov  3 16:05 \u001b[01;34mcheckpoint-114000\u001b[0m/\n",
            "drwxr-xr-x   2 root root     4096 Nov  3 16:06 \u001b[01;34mcheckpoint-114500\u001b[0m/\n",
            "drwxr-xr-x   2 root root     4096 Nov  3 16:06 \u001b[01;34mcheckpoint-115000\u001b[0m/\n",
            "drwxr-xr-x   2 root root     4096 Nov  3 16:06 \u001b[01;34mcheckpoint-115500\u001b[0m/\n",
            "drwxr-xr-x   2 root root     4096 Nov  3 16:07 \u001b[01;34mcheckpoint-116000\u001b[0m/\n",
            "drwxr-xr-x   2 root root     4096 Nov  3 16:07 \u001b[01;34mcheckpoint-116500\u001b[0m/\n",
            "drwxr-xr-x   2 root root     4096 Nov  3 16:08 \u001b[01;34mcheckpoint-117000\u001b[0m/\n",
            "drwxr-xr-x   2 root root     4096 Nov  3 16:08 \u001b[01;34mcheckpoint-117500\u001b[0m/\n",
            "drwxr-xr-x   2 root root     4096 Nov  3 16:08 \u001b[01;34mcheckpoint-118000\u001b[0m/\n",
            "drwxr-xr-x   2 root root     4096 Nov  3 16:09 \u001b[01;34mcheckpoint-118500\u001b[0m/\n",
            "drwxr-xr-x   2 root root     4096 Nov  3 16:09 \u001b[01;34mcheckpoint-119000\u001b[0m/\n",
            "drwxr-xr-x   2 root root     4096 Nov  3 16:09 \u001b[01;34mcheckpoint-119500\u001b[0m/\n",
            "drwxr-xr-x   2 root root     4096 Nov  3 16:10 \u001b[01;34mcheckpoint-120000\u001b[0m/\n",
            "drwxr-xr-x   2 root root     4096 Nov  3 16:10 \u001b[01;34mcheckpoint-120500\u001b[0m/\n",
            "drwxr-xr-x   2 root root     4096 Nov  3 16:10 \u001b[01;34mcheckpoint-121000\u001b[0m/\n",
            "drwxr-xr-x   2 root root     4096 Nov  3 16:11 \u001b[01;34mcheckpoint-121500\u001b[0m/\n",
            "drwxr-xr-x   2 root root     4096 Nov  3 16:11 \u001b[01;34mcheckpoint-122000\u001b[0m/\n",
            "drwxr-xr-x   2 root root     4096 Nov  3 16:11 \u001b[01;34mcheckpoint-122500\u001b[0m/\n",
            "drwxr-xr-x   2 root root     4096 Nov  3 16:12 \u001b[01;34mcheckpoint-123000\u001b[0m/\n",
            "drwxr-xr-x   2 root root     4096 Nov  3 16:12 \u001b[01;34mcheckpoint-123500\u001b[0m/\n",
            "drwxr-xr-x   2 root root     4096 Nov  3 16:12 \u001b[01;34mcheckpoint-124000\u001b[0m/\n",
            "drwxr-xr-x   2 root root     4096 Nov  3 16:13 \u001b[01;34mcheckpoint-124500\u001b[0m/\n",
            "drwxr-xr-x   2 root root     4096 Nov  3 16:13 \u001b[01;34mcheckpoint-125000\u001b[0m/\n",
            "drwxr-xr-x   2 root root     4096 Nov  3 16:13 \u001b[01;34mcheckpoint-125500\u001b[0m/\n",
            "drwxr-xr-x   2 root root     4096 Nov  3 16:14 \u001b[01;34mcheckpoint-126000\u001b[0m/\n",
            "drwxr-xr-x   2 root root     4096 Nov  3 16:14 \u001b[01;34mcheckpoint-126500\u001b[0m/\n",
            "drwxr-xr-x   2 root root     4096 Nov  3 16:14 \u001b[01;34mcheckpoint-127000\u001b[0m/\n",
            "drwxr-xr-x   2 root root     4096 Nov  3 16:15 \u001b[01;34mcheckpoint-127500\u001b[0m/\n",
            "drwxr-xr-x   2 root root     4096 Nov  3 16:15 \u001b[01;34mcheckpoint-128000\u001b[0m/\n",
            "drwxr-xr-x   2 root root     4096 Nov  3 16:16 \u001b[01;34mcheckpoint-128500\u001b[0m/\n",
            "drwxr-xr-x   2 root root     4096 Nov  3 16:16 \u001b[01;34mcheckpoint-129000\u001b[0m/\n",
            "drwxr-xr-x   2 root root     4096 Nov  3 16:16 \u001b[01;34mcheckpoint-129500\u001b[0m/\n",
            "drwxr-xr-x   2 root root     4096 Nov  3 16:17 \u001b[01;34mcheckpoint-130000\u001b[0m/\n",
            "drwxr-xr-x   2 root root     4096 Nov  3 16:17 \u001b[01;34mcheckpoint-130500\u001b[0m/\n",
            "drwxr-xr-x   2 root root     4096 Nov  3 16:17 \u001b[01;34mcheckpoint-131000\u001b[0m/\n",
            "drwxr-xr-x   2 root root     4096 Nov  3 16:18 \u001b[01;34mcheckpoint-131500\u001b[0m/\n",
            "drwxr-xr-x   2 root root     4096 Nov  3 16:18 \u001b[01;34mcheckpoint-132000\u001b[0m/\n",
            "drwxr-xr-x   2 root root     4096 Nov  3 16:18 \u001b[01;34mcheckpoint-132500\u001b[0m/\n",
            "drwxr-xr-x   2 root root     4096 Nov  3 16:19 \u001b[01;34mcheckpoint-133000\u001b[0m/\n",
            "drwxr-xr-x   2 root root     4096 Nov  3 16:19 \u001b[01;34mcheckpoint-133500\u001b[0m/\n",
            "drwxr-xr-x   2 root root     4096 Nov  3 16:19 \u001b[01;34mcheckpoint-134000\u001b[0m/\n",
            "drwxr-xr-x   2 root root     4096 Nov  3 16:20 \u001b[01;34mcheckpoint-134500\u001b[0m/\n",
            "drwxr-xr-x   2 root root     4096 Nov  3 16:20 \u001b[01;34mcheckpoint-135000\u001b[0m/\n",
            "drwxr-xr-x   2 root root     4096 Nov  3 16:21 \u001b[01;34mcheckpoint-135500\u001b[0m/\n",
            "drwxr-xr-x   2 root root     4096 Nov  3 16:21 \u001b[01;34mcheckpoint-136000\u001b[0m/\n",
            "drwxr-xr-x   2 root root     4096 Nov  3 16:21 \u001b[01;34mcheckpoint-136500\u001b[0m/\n",
            "drwxr-xr-x   2 root root     4096 Nov  3 16:22 \u001b[01;34mcheckpoint-137000\u001b[0m/\n",
            "drwxr-xr-x   2 root root     4096 Nov  3 16:22 \u001b[01;34mcheckpoint-137500\u001b[0m/\n",
            "drwxr-xr-x   2 root root     4096 Nov  3 16:22 \u001b[01;34mcheckpoint-138000\u001b[0m/\n",
            "drwxr-xr-x   2 root root     4096 Nov  3 16:23 \u001b[01;34mcheckpoint-138500\u001b[0m/\n",
            "drwxr-xr-x   2 root root     4096 Nov  3 16:23 \u001b[01;34mcheckpoint-139000\u001b[0m/\n",
            "drwxr-xr-x   2 root root     4096 Nov  3 16:23 \u001b[01;34mcheckpoint-139500\u001b[0m/\n",
            "drwxr-xr-x   2 root root     4096 Nov  3 16:24 \u001b[01;34mcheckpoint-140000\u001b[0m/\n",
            "drwxr-xr-x   2 root root     4096 Nov  3 16:24 \u001b[01;34mcheckpoint-140500\u001b[0m/\n",
            "drwxr-xr-x   2 root root     4096 Nov  3 16:24 \u001b[01;34mcheckpoint-141000\u001b[0m/\n",
            "drwxr-xr-x   2 root root     4096 Nov  3 16:25 \u001b[01;34mcheckpoint-141500\u001b[0m/\n",
            "drwxr-xr-x   2 root root     4096 Nov  3 16:25 \u001b[01;34mcheckpoint-142000\u001b[0m/\n",
            "drwxr-xr-x   2 root root     4096 Nov  3 16:25 \u001b[01;34mcheckpoint-142500\u001b[0m/\n",
            "drwxr-xr-x   2 root root     4096 Nov  3 16:26 \u001b[01;34mcheckpoint-143000\u001b[0m/\n",
            "drwxr-xr-x   2 root root     4096 Nov  3 16:26 \u001b[01;34mcheckpoint-143500\u001b[0m/\n",
            "drwxr-xr-x   2 root root     4096 Nov  3 16:26 \u001b[01;34mcheckpoint-144000\u001b[0m/\n",
            "drwxr-xr-x   2 root root     4096 Nov  3 16:27 \u001b[01;34mcheckpoint-144500\u001b[0m/\n",
            "drwxr-xr-x   2 root root     4096 Nov  3 16:27 \u001b[01;34mcheckpoint-145000\u001b[0m/\n",
            "drwxr-xr-x   2 root root     4096 Nov  3 16:28 \u001b[01;34mcheckpoint-145500\u001b[0m/\n",
            "drwxr-xr-x   2 root root     4096 Nov  3 16:28 \u001b[01;34mcheckpoint-146000\u001b[0m/\n",
            "drwxr-xr-x   2 root root     4096 Nov  3 16:28 \u001b[01;34mcheckpoint-146500\u001b[0m/\n",
            "drwxr-xr-x   2 root root     4096 Nov  3 16:29 \u001b[01;34mcheckpoint-147000\u001b[0m/\n",
            "drwxr-xr-x   2 root root     4096 Nov  3 16:29 \u001b[01;34mcheckpoint-147500\u001b[0m/\n",
            "drwxr-xr-x   2 root root     4096 Nov  3 16:29 \u001b[01;34mcheckpoint-148000\u001b[0m/\n",
            "drwxr-xr-x   2 root root     4096 Nov  3 16:30 \u001b[01;34mcheckpoint-148500\u001b[0m/\n",
            "drwxr-xr-x   2 root root     4096 Nov  3 16:30 \u001b[01;34mcheckpoint-149000\u001b[0m/\n",
            "drwxr-xr-x   2 root root     4096 Nov  3 16:30 \u001b[01;34mcheckpoint-149500\u001b[0m/\n",
            "drwxr-xr-x   2 root root     4096 Nov  3 16:31 \u001b[01;34mcheckpoint-150000\u001b[0m/\n",
            "drwxr-xr-x   2 root root     4096 Nov  3 16:31 \u001b[01;34mcheckpoint-150500\u001b[0m/\n",
            "drwxr-xr-x   2 root root     4096 Nov  3 16:31 \u001b[01;34mcheckpoint-151000\u001b[0m/\n",
            "drwxr-xr-x   2 root root     4096 Nov  3 16:32 \u001b[01;34mcheckpoint-151500\u001b[0m/\n",
            "drwxr-xr-x   2 root root     4096 Nov  3 16:32 \u001b[01;34mcheckpoint-152000\u001b[0m/\n",
            "drwxr-xr-x   2 root root     4096 Nov  3 16:32 \u001b[01;34mcheckpoint-152500\u001b[0m/\n",
            "drwxr-xr-x   2 root root     4096 Nov  3 16:33 \u001b[01;34mcheckpoint-153000\u001b[0m/\n",
            "drwxr-xr-x   2 root root     4096 Nov  3 16:33 \u001b[01;34mcheckpoint-153500\u001b[0m/\n",
            "drwxr-xr-x   2 root root     4096 Nov  3 16:33 \u001b[01;34mcheckpoint-154000\u001b[0m/\n",
            "drwxr-xr-x   2 root root     4096 Nov  3 16:34 \u001b[01;34mcheckpoint-154500\u001b[0m/\n",
            "drwxr-xr-x   2 root root     4096 Nov  3 16:34 \u001b[01;34mcheckpoint-155000\u001b[0m/\n",
            "drwxr-xr-x   2 root root     4096 Nov  3 16:34 \u001b[01;34mcheckpoint-155500\u001b[0m/\n",
            "drwxr-xr-x   2 root root     4096 Nov  3 16:35 \u001b[01;34mcheckpoint-156000\u001b[0m/\n",
            "drwxr-xr-x   2 root root     4096 Nov  3 16:35 \u001b[01;34mcheckpoint-156500\u001b[0m/\n",
            "drwxr-xr-x   2 root root     4096 Nov  3 16:35 \u001b[01;34mcheckpoint-157000\u001b[0m/\n",
            "drwxr-xr-x   2 root root     4096 Nov  3 16:36 \u001b[01;34mcheckpoint-157500\u001b[0m/\n",
            "drwxr-xr-x   2 root root     4096 Nov  3 16:36 \u001b[01;34mcheckpoint-158000\u001b[0m/\n",
            "drwxr-xr-x   2 root root     4096 Nov  3 16:37 \u001b[01;34mcheckpoint-158500\u001b[0m/\n",
            "drwxr-xr-x   2 root root     4096 Nov  3 16:37 \u001b[01;34mcheckpoint-159000\u001b[0m/\n",
            "drwxr-xr-x   2 root root     4096 Nov  3 16:37 \u001b[01;34mcheckpoint-159500\u001b[0m/\n",
            "drwxr-xr-x   2 root root     4096 Nov  3 16:38 \u001b[01;34mcheckpoint-160000\u001b[0m/\n",
            "drwxr-xr-x   2 root root     4096 Nov  3 16:38 \u001b[01;34mcheckpoint-160500\u001b[0m/\n",
            "drwxr-xr-x   2 root root     4096 Nov  3 16:38 \u001b[01;34mcheckpoint-161000\u001b[0m/\n",
            "drwxr-xr-x   2 root root     4096 Nov  3 16:39 \u001b[01;34mcheckpoint-161500\u001b[0m/\n",
            "drwxr-xr-x   2 root root     4096 Nov  3 16:39 \u001b[01;34mcheckpoint-162000\u001b[0m/\n",
            "drwxr-xr-x   2 root root     4096 Nov  3 16:39 \u001b[01;34mcheckpoint-162500\u001b[0m/\n",
            "drwxr-xr-x   2 root root     4096 Nov  3 16:40 \u001b[01;34mcheckpoint-163000\u001b[0m/\n",
            "drwxr-xr-x   2 root root     4096 Nov  3 16:40 \u001b[01;34mcheckpoint-163500\u001b[0m/\n",
            "drwxr-xr-x   2 root root     4096 Nov  3 16:40 \u001b[01;34mcheckpoint-164000\u001b[0m/\n",
            "drwxr-xr-x   2 root root     4096 Nov  3 16:41 \u001b[01;34mcheckpoint-164500\u001b[0m/\n",
            "drwxr-xr-x   2 root root     4096 Nov  3 16:41 \u001b[01;34mcheckpoint-165000\u001b[0m/\n",
            "drwxr-xr-x   2 root root     4096 Nov  3 16:41 \u001b[01;34mcheckpoint-165500\u001b[0m/\n",
            "drwxr-xr-x   2 root root     4096 Nov  3 16:42 \u001b[01;34mcheckpoint-166000\u001b[0m/\n",
            "drwxr-xr-x   2 root root     4096 Nov  3 16:42 \u001b[01;34mcheckpoint-166500\u001b[0m/\n",
            "drwxr-xr-x   2 root root     4096 Nov  3 16:42 \u001b[01;34mcheckpoint-167000\u001b[0m/\n",
            "drwxr-xr-x   2 root root     4096 Nov  3 16:43 \u001b[01;34mcheckpoint-167500\u001b[0m/\n",
            "drwxr-xr-x   2 root root     4096 Nov  3 16:43 \u001b[01;34mcheckpoint-168000\u001b[0m/\n",
            "drwxr-xr-x   2 root root     4096 Nov  3 16:44 \u001b[01;34mcheckpoint-168500\u001b[0m/\n",
            "drwxr-xr-x   2 root root     4096 Nov  3 16:44 \u001b[01;34mcheckpoint-169000\u001b[0m/\n",
            "drwxr-xr-x   2 root root     4096 Nov  3 16:44 \u001b[01;34mcheckpoint-169500\u001b[0m/\n",
            "drwxr-xr-x   2 root root     4096 Nov  3 16:45 \u001b[01;34mcheckpoint-170000\u001b[0m/\n",
            "drwxr-xr-x   2 root root     4096 Nov  3 16:45 \u001b[01;34mcheckpoint-170500\u001b[0m/\n",
            "drwxr-xr-x   2 root root     4096 Nov  3 16:45 \u001b[01;34mcheckpoint-171000\u001b[0m/\n",
            "drwxr-xr-x   2 root root     4096 Nov  3 16:46 \u001b[01;34mcheckpoint-171500\u001b[0m/\n",
            "drwxr-xr-x   2 root root     4096 Nov  3 16:46 \u001b[01;34mcheckpoint-172000\u001b[0m/\n",
            "drwxr-xr-x   2 root root     4096 Nov  3 16:46 \u001b[01;34mcheckpoint-172500\u001b[0m/\n",
            "drwxr-xr-x   2 root root     4096 Nov  3 16:47 \u001b[01;34mcheckpoint-173000\u001b[0m/\n",
            "drwxr-xr-x   2 root root     4096 Nov  3 16:47 \u001b[01;34mcheckpoint-173500\u001b[0m/\n",
            "drwxr-xr-x   2 root root     4096 Nov  3 16:47 \u001b[01;34mcheckpoint-174000\u001b[0m/\n",
            "drwxr-xr-x   2 root root     4096 Nov  3 16:48 \u001b[01;34mcheckpoint-174500\u001b[0m/\n",
            "drwxr-xr-x   2 root root     4096 Nov  3 16:48 \u001b[01;34mcheckpoint-175000\u001b[0m/\n",
            "drwxr-xr-x   2 root root     4096 Nov  3 16:48 \u001b[01;34mcheckpoint-175500\u001b[0m/\n",
            "drwxr-xr-x   2 root root     4096 Nov  3 16:49 \u001b[01;34mcheckpoint-176000\u001b[0m/\n",
            "drwxr-xr-x   2 root root     4096 Nov  3 16:49 \u001b[01;34mcheckpoint-176500\u001b[0m/\n",
            "drwxr-xr-x   2 root root     4096 Nov  3 16:49 \u001b[01;34mcheckpoint-177000\u001b[0m/\n",
            "drwxr-xr-x   2 root root     4096 Nov  3 16:50 \u001b[01;34mcheckpoint-177500\u001b[0m/\n",
            "drwxr-xr-x   2 root root     4096 Nov  3 16:50 \u001b[01;34mcheckpoint-178000\u001b[0m/\n",
            "drwxr-xr-x   2 root root     4096 Nov  3 16:51 \u001b[01;34mcheckpoint-178500\u001b[0m/\n",
            "drwxr-xr-x   2 root root     4096 Nov  3 16:51 \u001b[01;34mcheckpoint-179000\u001b[0m/\n",
            "drwxr-xr-x   2 root root     4096 Nov  3 16:51 \u001b[01;34mcheckpoint-179500\u001b[0m/\n",
            "drwxr-xr-x   2 root root     4096 Nov  3 16:52 \u001b[01;34mcheckpoint-180000\u001b[0m/\n",
            "drwxr-xr-x   2 root root     4096 Nov  3 16:52 \u001b[01;34mcheckpoint-180500\u001b[0m/\n",
            "drwxr-xr-x   2 root root     4096 Nov  3 16:52 \u001b[01;34mcheckpoint-181000\u001b[0m/\n",
            "drwxr-xr-x   2 root root     4096 Nov  3 16:53 \u001b[01;34mcheckpoint-181500\u001b[0m/\n",
            "drwxr-xr-x   2 root root     4096 Nov  3 16:53 \u001b[01;34mcheckpoint-182000\u001b[0m/\n",
            "drwxr-xr-x   2 root root     4096 Nov  3 16:53 \u001b[01;34mcheckpoint-182500\u001b[0m/\n",
            "drwxr-xr-x   2 root root     4096 Nov  3 16:54 \u001b[01;34mcheckpoint-183000\u001b[0m/\n",
            "drwxr-xr-x   2 root root     4096 Nov  3 16:54 \u001b[01;34mcheckpoint-183500\u001b[0m/\n",
            "drwxr-xr-x   2 root root     4096 Nov  3 16:54 \u001b[01;34mcheckpoint-184000\u001b[0m/\n",
            "drwxr-xr-x   2 root root     4096 Nov  3 16:55 \u001b[01;34mcheckpoint-184500\u001b[0m/\n",
            "drwxr-xr-x   2 root root     4096 Nov  3 16:55 \u001b[01;34mcheckpoint-185000\u001b[0m/\n",
            "drwxr-xr-x   2 root root     4096 Nov  3 16:56 \u001b[01;34mcheckpoint-185500\u001b[0m/\n",
            "drwxr-xr-x   2 root root     4096 Nov  3 16:56 \u001b[01;34mcheckpoint-186000\u001b[0m/\n",
            "drwxr-xr-x   2 root root     4096 Nov  3 16:56 \u001b[01;34mcheckpoint-186500\u001b[0m/\n",
            "drwxr-xr-x   2 root root     4096 Nov  3 16:57 \u001b[01;34mcheckpoint-187000\u001b[0m/\n",
            "drwxr-xr-x   2 root root     4096 Nov  3 16:57 \u001b[01;34mcheckpoint-187500\u001b[0m/\n",
            "drwxr-xr-x   2 root root     4096 Nov  3 16:57 \u001b[01;34mcheckpoint-188000\u001b[0m/\n",
            "drwxr-xr-x   2 root root     4096 Nov  3 16:58 \u001b[01;34mcheckpoint-188500\u001b[0m/\n",
            "drwxr-xr-x   2 root root     4096 Nov  3 16:58 \u001b[01;34mcheckpoint-189000\u001b[0m/\n",
            "drwxr-xr-x   2 root root     4096 Nov  3 16:58 \u001b[01;34mcheckpoint-189500\u001b[0m/\n",
            "drwxr-xr-x   2 root root     4096 Nov  3 16:59 \u001b[01;34mcheckpoint-190000\u001b[0m/\n",
            "drwxr-xr-x   2 root root     4096 Nov  3 16:59 \u001b[01;34mcheckpoint-190500\u001b[0m/\n",
            "drwxr-xr-x   2 root root     4096 Nov  3 16:59 \u001b[01;34mcheckpoint-191000\u001b[0m/\n",
            "drwxr-xr-x   2 root root     4096 Nov  3 17:00 \u001b[01;34mcheckpoint-191500\u001b[0m/\n",
            "drwxr-xr-x   2 root root     4096 Nov  3 17:00 \u001b[01;34mcheckpoint-192000\u001b[0m/\n",
            "drwxr-xr-x   2 root root     4096 Nov  3 17:00 \u001b[01;34mcheckpoint-192500\u001b[0m/\n",
            "drwxr-xr-x   2 root root     4096 Nov  3 17:01 \u001b[01;34mcheckpoint-193000\u001b[0m/\n",
            "drwxr-xr-x   2 root root     4096 Nov  3 17:01 \u001b[01;34mcheckpoint-193500\u001b[0m/\n",
            "drwxr-xr-x   2 root root     4096 Nov  3 17:01 \u001b[01;34mcheckpoint-194000\u001b[0m/\n",
            "drwxr-xr-x   2 root root     4096 Nov  3 17:02 \u001b[01;34mcheckpoint-194500\u001b[0m/\n",
            "drwxr-xr-x   2 root root     4096 Nov  3 17:02 \u001b[01;34mcheckpoint-195000\u001b[0m/\n",
            "drwxr-xr-x   2 root root     4096 Nov  3 17:02 \u001b[01;34mcheckpoint-195500\u001b[0m/\n",
            "drwxr-xr-x   2 root root     4096 Nov  3 17:03 \u001b[01;34mcheckpoint-196000\u001b[0m/\n",
            "drwxr-xr-x   2 root root     4096 Nov  3 17:03 \u001b[01;34mcheckpoint-196500\u001b[0m/\n",
            "drwxr-xr-x   2 root root     4096 Nov  3 17:03 \u001b[01;34mcheckpoint-197000\u001b[0m/\n",
            "drwxr-xr-x   2 root root     4096 Nov  3 17:04 \u001b[01;34mcheckpoint-197500\u001b[0m/\n",
            "drwxr-xr-x   2 root root     4096 Nov  3 17:04 \u001b[01;34mcheckpoint-198000\u001b[0m/\n",
            "drwxr-xr-x   2 root root     4096 Nov  3 17:04 \u001b[01;34mcheckpoint-198500\u001b[0m/\n",
            "drwxr-xr-x   2 root root     4096 Nov  3 17:05 \u001b[01;34mcheckpoint-199000\u001b[0m/\n",
            "drwxr-xr-x   2 root root     4096 Nov  3 17:05 \u001b[01;34mcheckpoint-199500\u001b[0m/\n",
            "drwxr-xr-x   2 root root     4096 Nov  3 17:06 \u001b[01;34mcheckpoint-200000\u001b[0m/\n",
            "drwxr-xr-x   2 root root     4096 Nov  3 17:06 \u001b[01;34mcheckpoint-200500\u001b[0m/\n",
            "drwxr-xr-x   2 root root     4096 Nov  3 17:06 \u001b[01;34mcheckpoint-201000\u001b[0m/\n",
            "drwxr-xr-x   2 root root     4096 Nov  3 17:07 \u001b[01;34mcheckpoint-201500\u001b[0m/\n",
            "drwxr-xr-x   2 root root     4096 Nov  3 17:07 \u001b[01;34mcheckpoint-202000\u001b[0m/\n",
            "drwxr-xr-x   2 root root     4096 Nov  3 17:07 \u001b[01;34mcheckpoint-202500\u001b[0m/\n",
            "drwxr-xr-x   2 root root     4096 Nov  3 17:08 \u001b[01;34mcheckpoint-203000\u001b[0m/\n",
            "drwxr-xr-x   2 root root     4096 Nov  3 17:08 \u001b[01;34mcheckpoint-203500\u001b[0m/\n",
            "drwxr-xr-x   2 root root     4096 Nov  3 17:08 \u001b[01;34mcheckpoint-204000\u001b[0m/\n",
            "drwxr-xr-x   2 root root     4096 Nov  3 17:09 \u001b[01;34mcheckpoint-204500\u001b[0m/\n",
            "drwxr-xr-x   2 root root     4096 Nov  3 17:09 \u001b[01;34mcheckpoint-205000\u001b[0m/\n",
            "drwxr-xr-x   2 root root     4096 Nov  3 17:09 \u001b[01;34mcheckpoint-205500\u001b[0m/\n",
            "drwxr-xr-x   2 root root     4096 Nov  3 17:10 \u001b[01;34mcheckpoint-206000\u001b[0m/\n",
            "-rw-r--r--   1 root root     1011 Nov  3 17:10 config.json\n",
            "-rw-r--r--   1 root root 54222228 Nov  3 17:10 model.safetensors\n",
            "-rw-r--r--   1 root root     1193 Nov  3 17:10 tokenizer_config.json\n",
            "-rw-r--r--   1 root root      125 Nov  3 17:10 special_tokens_map.json\n",
            "-rw-r--r--   1 root root   231508 Nov  3 17:10 vocab.txt\n",
            "-rw-r--r--   1 root root   711396 Nov  3 17:10 tokenizer.json\n",
            "-rw-r--r--   1 root root     4600 Nov  3 17:10 training_args.bin\n",
            "drwxr-xr-x 415 root root    20480 Nov  3 17:10 \u001b[01;34m.\u001b[0m/\n",
            "drwxr-xr-x   6 root root     4096 Nov  3 17:38 \u001b[01;34m..\u001b[0m/\n"
          ]
        }
      ]
    },
    {
      "cell_type": "code",
      "source": [
        "!zip -r checkpoint-99500.zip fp-dataset-artifacts/trained_model/checkpoint-99500"
      ],
      "metadata": {
        "colab": {
          "base_uri": "https://localhost:8080/"
        },
        "id": "aDVe9qpGXJfs",
        "outputId": "d17e889d-420e-4531-cafb-368424303f52"
      },
      "execution_count": null,
      "outputs": [
        {
          "output_type": "stream",
          "name": "stdout",
          "text": [
            "  adding: fp-dataset-artifacts/trained_model/checkpoint-99500/ (stored 0%)\n",
            "  adding: fp-dataset-artifacts/trained_model/checkpoint-99500/special_tokens_map.json (deflated 42%)\n",
            "  adding: fp-dataset-artifacts/trained_model/checkpoint-99500/model.safetensors (deflated 7%)\n",
            "  adding: fp-dataset-artifacts/trained_model/checkpoint-99500/trainer_state.json (deflated 83%)\n",
            "  adding: fp-dataset-artifacts/trained_model/checkpoint-99500/rng_state.pth (deflated 25%)\n",
            "  adding: fp-dataset-artifacts/trained_model/checkpoint-99500/training_args.bin (deflated 51%)\n",
            "  adding: fp-dataset-artifacts/trained_model/checkpoint-99500/config.json (deflated 54%)\n",
            "  adding: fp-dataset-artifacts/trained_model/checkpoint-99500/scheduler.pt (deflated 55%)\n",
            "  adding: fp-dataset-artifacts/trained_model/checkpoint-99500/optimizer.pt (deflated 23%)\n",
            "  adding: fp-dataset-artifacts/trained_model/checkpoint-99500/vocab.txt (deflated 53%)\n",
            "  adding: fp-dataset-artifacts/trained_model/checkpoint-99500/tokenizer.json (deflated 71%)\n",
            "  adding: fp-dataset-artifacts/trained_model/checkpoint-99500/tokenizer_config.json (deflated 76%)\n"
          ]
        }
      ]
    },
    {
      "cell_type": "code",
      "source": [
        "!zip -r trained_model_no_ckpt.zip trained_model_no_ckpt"
      ],
      "metadata": {
        "colab": {
          "base_uri": "https://localhost:8080/"
        },
        "id": "MuDTkNQhX7qL",
        "outputId": "ca581d0a-bb1f-4962-a766-b5952c656d55"
      },
      "execution_count": null,
      "outputs": [
        {
          "output_type": "stream",
          "name": "stdout",
          "text": [
            "  adding: trained_model_no_ckpt/ (stored 0%)\n",
            "  adding: trained_model_no_ckpt/special_tokens_map.json (deflated 42%)\n",
            "  adding: trained_model_no_ckpt/model.safetensors (deflated 7%)\n",
            "  adding: trained_model_no_ckpt/runs/ (stored 0%)\n",
            "  adding: trained_model_no_ckpt/runs/Nov03_14-44-09_4801c043d0cb/ (stored 0%)\n",
            "  adding: trained_model_no_ckpt/runs/Nov03_14-44-09_4801c043d0cb/events.out.tfevents.1699022715.4801c043d0cb.1179.0 (deflated 69%)\n",
            "  adding: trained_model_no_ckpt/training_args.bin (deflated 51%)\n",
            "  adding: trained_model_no_ckpt/config.json (deflated 54%)\n",
            "  adding: trained_model_no_ckpt/vocab.txt (deflated 53%)\n",
            "  adding: trained_model_no_ckpt/tokenizer.json (deflated 71%)\n",
            "  adding: trained_model_no_ckpt/tokenizer_config.json (deflated 76%)\n"
          ]
        }
      ]
    },
    {
      "cell_type": "code",
      "source": [
        "!python run.py --do_eval --task nli --dataset breakNLIdata.jsonl --model ./trained_model/ --output_dir ./eval_output_break"
      ],
      "metadata": {
        "colab": {
          "base_uri": "https://localhost:8080/"
        },
        "id": "sLIaq75e4P5I",
        "outputId": "e69d9f1f-ddeb-43d9-fa68-ff66b9c91036"
      },
      "execution_count": null,
      "outputs": [
        {
          "output_type": "stream",
          "name": "stdout",
          "text": [
            "2023-11-03 20:32:41.064388: E tensorflow/compiler/xla/stream_executor/cuda/cuda_dnn.cc:9342] Unable to register cuDNN factory: Attempting to register factory for plugin cuDNN when one has already been registered\n",
            "2023-11-03 20:32:41.064445: E tensorflow/compiler/xla/stream_executor/cuda/cuda_fft.cc:609] Unable to register cuFFT factory: Attempting to register factory for plugin cuFFT when one has already been registered\n",
            "2023-11-03 20:32:41.064475: E tensorflow/compiler/xla/stream_executor/cuda/cuda_blas.cc:1518] Unable to register cuBLAS factory: Attempting to register factory for plugin cuBLAS when one has already been registered\n",
            "2023-11-03 20:32:42.244096: W tensorflow/compiler/tf2tensorrt/utils/py_utils.cc:38] TF-TRT Warning: Could not find TensorRT\n",
            "Preprocessing data... (this takes a little bit, should only happen once per dataset)\n",
            "Map (num_proc=2): 100% 8193/8193 [00:01<00:00, 6711.30 examples/s]\n",
            "You're using a ElectraTokenizerFast tokenizer. Please note that with a fast tokenizer, using the `__call__` method is faster than using a method to encode the text followed by a call to the `pad` method to get a padded encoding.\n",
            "100% 1025/1025 [00:15<00:00, 65.50it/s]\n",
            "Evaluation results:\n",
            "{'eval_loss': 0.30533358454704285, 'eval_accuracy': 0.9256682395935059, 'eval_runtime': 18.395, 'eval_samples_per_second': 445.393, 'eval_steps_per_second': 55.722}\n"
          ]
        }
      ]
    },
    {
      "cell_type": "code",
      "source": [
        "!zip -r eval_output_breaking.zip eval_output_break"
      ],
      "metadata": {
        "colab": {
          "base_uri": "https://localhost:8080/"
        },
        "id": "CPEDjnim7l8z",
        "outputId": "599fd319-0150-487c-f4c5-fb3bec336bbe"
      },
      "execution_count": null,
      "outputs": [
        {
          "output_type": "stream",
          "name": "stdout",
          "text": [
            "  adding: eval_output_break/ (stored 0%)\n",
            "  adding: eval_output_break/runs/ (stored 0%)\n",
            "  adding: eval_output_break/runs/Nov03_20-32-42_cc8498293f4e/ (stored 0%)\n",
            "  adding: eval_output_break/runs/Nov03_20-32-42_cc8498293f4e/events.out.tfevents.1699043588.cc8498293f4e.2464.0 (deflated 23%)\n",
            "  adding: eval_output_break/eval_metrics.json (deflated 30%)\n",
            "  adding: eval_output_break/eval_predictions.jsonl (deflated 82%)\n"
          ]
        }
      ]
    },
    {
      "cell_type": "code",
      "source": [
        "!python run.py --do_eval --task nli --dataset mccoyData.jsonl --model ./trained_model/ --output_dir ./eval_output_break"
      ],
      "metadata": {
        "colab": {
          "base_uri": "https://localhost:8080/"
        },
        "id": "hEJ5FSgzB8OE",
        "outputId": "a62a30a6-1e91-4429-eda2-a607c93ede39"
      },
      "execution_count": null,
      "outputs": [
        {
          "output_type": "stream",
          "name": "stdout",
          "text": [
            "2023-11-03 21:13:14.397824: E tensorflow/compiler/xla/stream_executor/cuda/cuda_dnn.cc:9342] Unable to register cuDNN factory: Attempting to register factory for plugin cuDNN when one has already been registered\n",
            "2023-11-03 21:13:14.397877: E tensorflow/compiler/xla/stream_executor/cuda/cuda_fft.cc:609] Unable to register cuFFT factory: Attempting to register factory for plugin cuFFT when one has already been registered\n",
            "2023-11-03 21:13:14.397929: E tensorflow/compiler/xla/stream_executor/cuda/cuda_blas.cc:1518] Unable to register cuBLAS factory: Attempting to register factory for plugin cuBLAS when one has already been registered\n",
            "2023-11-03 21:13:15.596397: W tensorflow/compiler/tf2tensorrt/utils/py_utils.cc:38] TF-TRT Warning: Could not find TensorRT\n",
            "Downloading data files: 100% 1/1 [00:00<00:00, 11155.06it/s]\n",
            "Extracting data files: 100% 1/1 [00:00<00:00, 1401.37it/s]\n",
            "Generating train split: 30000 examples [00:00, 946012.48 examples/s]\n",
            "Preprocessing data... (this takes a little bit, should only happen once per dataset)\n",
            "Map (num_proc=2): 100% 30000/30000 [00:02<00:00, 11281.65 examples/s]\n",
            "You're using a ElectraTokenizerFast tokenizer. Please note that with a fast tokenizer, using the `__call__` method is faster than using a method to encode the text followed by a call to the `pad` method to get a padded encoding.\n",
            "100% 3750/3750 [00:57<00:00, 64.79it/s]\n",
            "Evaluation results:\n",
            "{'eval_loss': 2.4341650009155273, 'eval_accuracy': 0.5147666931152344, 'eval_runtime': 60.815, 'eval_samples_per_second': 493.299, 'eval_steps_per_second': 61.662}\n"
          ]
        }
      ]
    },
    {
      "cell_type": "code",
      "source": [
        "# zipped and downloaded"
      ],
      "metadata": {
        "colab": {
          "base_uri": "https://localhost:8080/"
        },
        "id": "geV7umyBCclr",
        "outputId": "cf64ee3d-b720-48ef-d6e2-1bae3e355824"
      },
      "execution_count": null,
      "outputs": [
        {
          "output_type": "stream",
          "name": "stdout",
          "text": [
            "  adding: eval_output_break/ (stored 0%)\n",
            "  adding: eval_output_break/runs/ (stored 0%)\n",
            "  adding: eval_output_break/runs/Nov03_21-13-16_0c879d732c14/ (stored 0%)\n",
            "  adding: eval_output_break/runs/Nov03_21-13-16_0c879d732c14/events.out.tfevents.1699046066.0c879d732c14.1167.0 (deflated 23%)\n",
            "  adding: eval_output_break/eval_metrics.json (deflated 29%)\n",
            "  adding: eval_output_break/eval_predictions.jsonl (deflated 81%)\n"
          ]
        }
      ]
    },
    {
      "cell_type": "markdown",
      "source": [
        "TextAttack 11/6/23"
      ],
      "metadata": {
        "id": "Zt0vbhQ3TKPa"
      }
    },
    {
      "cell_type": "code",
      "source": [
        "!git clone https://github.com/QData/TextAttack.git"
      ],
      "metadata": {
        "colab": {
          "base_uri": "https://localhost:8080/"
        },
        "id": "WHeD5pCnTFlh",
        "outputId": "519a4ebe-1393-4621-c937-522a16de967f"
      },
      "execution_count": null,
      "outputs": [
        {
          "output_type": "stream",
          "name": "stdout",
          "text": [
            "Cloning into 'TextAttack'...\n",
            "remote: Enumerating objects: 21169, done.\u001b[K\n",
            "remote: Counting objects: 100% (634/634), done.\u001b[K\n",
            "remote: Compressing objects: 100% (332/332), done.\u001b[K\n",
            "remote: Total 21169 (delta 367), reused 472 (delta 299), pack-reused 20535\u001b[K\n",
            "Receiving objects: 100% (21169/21169), 25.87 MiB | 18.92 MiB/s, done.\n",
            "Resolving deltas: 100% (15676/15676), done.\n"
          ]
        }
      ]
    },
    {
      "cell_type": "code",
      "source": [
        "pip install textattack"
      ],
      "metadata": {
        "colab": {
          "base_uri": "https://localhost:8080/"
        },
        "id": "gKiMnx-xTNPx",
        "outputId": "00a57a64-7758-422f-bbe4-55d94561ac2d"
      },
      "execution_count": null,
      "outputs": [
        {
          "output_type": "stream",
          "name": "stdout",
          "text": [
            "Requirement already satisfied: textattack in /usr/local/lib/python3.10/dist-packages (0.3.9)\n",
            "Requirement already satisfied: bert-score>=0.3.5 in /usr/local/lib/python3.10/dist-packages (from textattack) (0.3.13)\n",
            "Requirement already satisfied: editdistance in /usr/local/lib/python3.10/dist-packages (from textattack) (0.6.2)\n",
            "Requirement already satisfied: flair in /usr/local/lib/python3.10/dist-packages (from textattack) (0.13.0)\n",
            "Requirement already satisfied: filelock in /usr/local/lib/python3.10/dist-packages (from textattack) (3.12.4)\n",
            "Requirement already satisfied: language-tool-python in /usr/local/lib/python3.10/dist-packages (from textattack) (2.7.1)\n",
            "Requirement already satisfied: lemminflect in /usr/local/lib/python3.10/dist-packages (from textattack) (0.2.3)\n",
            "Requirement already satisfied: lru-dict in /usr/local/lib/python3.10/dist-packages (from textattack) (1.3.0)\n",
            "Requirement already satisfied: datasets>=2.4.0 in /usr/local/lib/python3.10/dist-packages (from textattack) (2.14.6)\n",
            "Requirement already satisfied: nltk in /usr/local/lib/python3.10/dist-packages (from textattack) (3.8.1)\n",
            "Requirement already satisfied: numpy>=1.21.0 in /usr/local/lib/python3.10/dist-packages (from textattack) (1.23.5)\n",
            "Requirement already satisfied: pandas>=1.0.1 in /usr/local/lib/python3.10/dist-packages (from textattack) (1.5.3)\n",
            "Requirement already satisfied: scipy>=1.4.1 in /usr/local/lib/python3.10/dist-packages (from textattack) (1.11.3)\n",
            "Requirement already satisfied: torch!=1.8,>=1.7.0 in /usr/local/lib/python3.10/dist-packages (from textattack) (2.1.0+cu118)\n",
            "Requirement already satisfied: transformers>=4.30.0 in /usr/local/lib/python3.10/dist-packages (from textattack) (4.35.0)\n",
            "Requirement already satisfied: terminaltables in /usr/local/lib/python3.10/dist-packages (from textattack) (3.1.10)\n",
            "Requirement already satisfied: tqdm in /usr/local/lib/python3.10/dist-packages (from textattack) (4.66.1)\n",
            "Requirement already satisfied: word2number in /usr/local/lib/python3.10/dist-packages (from textattack) (1.1)\n",
            "Requirement already satisfied: num2words in /usr/local/lib/python3.10/dist-packages (from textattack) (0.5.13)\n",
            "Requirement already satisfied: more-itertools in /usr/local/lib/python3.10/dist-packages (from textattack) (10.1.0)\n",
            "Requirement already satisfied: PySocks!=1.5.7,>=1.5.6 in /usr/local/lib/python3.10/dist-packages (from textattack) (1.7.1)\n",
            "Requirement already satisfied: pinyin>=0.4.0 in /usr/local/lib/python3.10/dist-packages (from textattack) (0.4.0)\n",
            "Requirement already satisfied: jieba in /usr/local/lib/python3.10/dist-packages (from textattack) (0.42.1)\n",
            "Requirement already satisfied: OpenHowNet in /usr/local/lib/python3.10/dist-packages (from textattack) (2.0)\n",
            "Requirement already satisfied: pycld2 in /usr/local/lib/python3.10/dist-packages (from textattack) (0.41)\n",
            "Requirement already satisfied: click<8.1.0 in /usr/local/lib/python3.10/dist-packages (from textattack) (8.0.4)\n",
            "Requirement already satisfied: requests in /usr/local/lib/python3.10/dist-packages (from bert-score>=0.3.5->textattack) (2.31.0)\n",
            "Requirement already satisfied: matplotlib in /usr/local/lib/python3.10/dist-packages (from bert-score>=0.3.5->textattack) (3.7.1)\n",
            "Requirement already satisfied: packaging>=20.9 in /usr/local/lib/python3.10/dist-packages (from bert-score>=0.3.5->textattack) (23.2)\n",
            "Requirement already satisfied: pyarrow>=8.0.0 in /usr/local/lib/python3.10/dist-packages (from datasets>=2.4.0->textattack) (9.0.0)\n",
            "Requirement already satisfied: dill<0.3.8,>=0.3.0 in /usr/local/lib/python3.10/dist-packages (from datasets>=2.4.0->textattack) (0.3.7)\n",
            "Requirement already satisfied: xxhash in /usr/local/lib/python3.10/dist-packages (from datasets>=2.4.0->textattack) (3.4.1)\n",
            "Requirement already satisfied: multiprocess in /usr/local/lib/python3.10/dist-packages (from datasets>=2.4.0->textattack) (0.70.15)\n",
            "Requirement already satisfied: fsspec[http]<=2023.10.0,>=2023.1.0 in /usr/local/lib/python3.10/dist-packages (from datasets>=2.4.0->textattack) (2023.6.0)\n",
            "Requirement already satisfied: aiohttp in /usr/local/lib/python3.10/dist-packages (from datasets>=2.4.0->textattack) (3.8.6)\n",
            "Requirement already satisfied: huggingface-hub<1.0.0,>=0.14.0 in /usr/local/lib/python3.10/dist-packages (from datasets>=2.4.0->textattack) (0.17.3)\n",
            "Requirement already satisfied: pyyaml>=5.1 in /usr/local/lib/python3.10/dist-packages (from datasets>=2.4.0->textattack) (6.0.1)\n",
            "Requirement already satisfied: python-dateutil>=2.8.1 in /usr/local/lib/python3.10/dist-packages (from pandas>=1.0.1->textattack) (2.8.2)\n",
            "Requirement already satisfied: pytz>=2020.1 in /usr/local/lib/python3.10/dist-packages (from pandas>=1.0.1->textattack) (2023.3.post1)\n",
            "Requirement already satisfied: typing-extensions in /usr/local/lib/python3.10/dist-packages (from torch!=1.8,>=1.7.0->textattack) (4.5.0)\n",
            "Requirement already satisfied: sympy in /usr/local/lib/python3.10/dist-packages (from torch!=1.8,>=1.7.0->textattack) (1.12)\n",
            "Requirement already satisfied: networkx in /usr/local/lib/python3.10/dist-packages (from torch!=1.8,>=1.7.0->textattack) (3.2)\n",
            "Requirement already satisfied: jinja2 in /usr/local/lib/python3.10/dist-packages (from torch!=1.8,>=1.7.0->textattack) (3.1.2)\n",
            "Requirement already satisfied: triton==2.1.0 in /usr/local/lib/python3.10/dist-packages (from torch!=1.8,>=1.7.0->textattack) (2.1.0)\n",
            "Requirement already satisfied: regex!=2019.12.17 in /usr/local/lib/python3.10/dist-packages (from transformers>=4.30.0->textattack) (2023.6.3)\n",
            "Requirement already satisfied: tokenizers<0.15,>=0.14 in /usr/local/lib/python3.10/dist-packages (from transformers>=4.30.0->textattack) (0.14.1)\n",
            "Requirement already satisfied: safetensors>=0.3.1 in /usr/local/lib/python3.10/dist-packages (from transformers>=4.30.0->textattack) (0.4.0)\n",
            "Requirement already satisfied: boto3>=1.20.27 in /usr/local/lib/python3.10/dist-packages (from flair->textattack) (1.28.79)\n",
            "Requirement already satisfied: bpemb>=0.3.2 in /usr/local/lib/python3.10/dist-packages (from flair->textattack) (0.3.4)\n",
            "Requirement already satisfied: conllu>=4.0 in /usr/local/lib/python3.10/dist-packages (from flair->textattack) (4.5.3)\n",
            "Requirement already satisfied: deprecated>=1.2.13 in /usr/local/lib/python3.10/dist-packages (from flair->textattack) (1.2.14)\n",
            "Requirement already satisfied: ftfy>=6.1.0 in /usr/local/lib/python3.10/dist-packages (from flair->textattack) (6.1.1)\n",
            "Requirement already satisfied: gdown>=4.4.0 in /usr/local/lib/python3.10/dist-packages (from flair->textattack) (4.6.6)\n",
            "Requirement already satisfied: gensim>=4.2.0 in /usr/local/lib/python3.10/dist-packages (from flair->textattack) (4.3.2)\n",
            "Requirement already satisfied: janome>=0.4.2 in /usr/local/lib/python3.10/dist-packages (from flair->textattack) (0.5.0)\n",
            "Requirement already satisfied: langdetect>=1.0.9 in /usr/local/lib/python3.10/dist-packages (from flair->textattack) (1.0.9)\n",
            "Requirement already satisfied: lxml>=4.8.0 in /usr/local/lib/python3.10/dist-packages (from flair->textattack) (4.9.3)\n",
            "Requirement already satisfied: mpld3>=0.3 in /usr/local/lib/python3.10/dist-packages (from flair->textattack) (0.5.9)\n",
            "Requirement already satisfied: pptree>=3.1 in /usr/local/lib/python3.10/dist-packages (from flair->textattack) (3.1)\n",
            "Requirement already satisfied: pytorch-revgrad>=0.2.0 in /usr/local/lib/python3.10/dist-packages (from flair->textattack) (0.2.0)\n",
            "Requirement already satisfied: scikit-learn>=1.0.2 in /usr/local/lib/python3.10/dist-packages (from flair->textattack) (1.2.2)\n",
            "Requirement already satisfied: segtok>=1.5.11 in /usr/local/lib/python3.10/dist-packages (from flair->textattack) (1.5.11)\n",
            "Requirement already satisfied: sqlitedict>=2.0.0 in /usr/local/lib/python3.10/dist-packages (from flair->textattack) (2.1.0)\n",
            "Requirement already satisfied: tabulate>=0.8.10 in /usr/local/lib/python3.10/dist-packages (from flair->textattack) (0.9.0)\n",
            "Requirement already satisfied: transformer-smaller-training-vocab>=0.2.3 in /usr/local/lib/python3.10/dist-packages (from flair->textattack) (0.3.2)\n",
            "Requirement already satisfied: urllib3<2.0.0,>=1.0.0 in /usr/local/lib/python3.10/dist-packages (from flair->textattack) (1.26.18)\n",
            "Requirement already satisfied: wikipedia-api>=0.5.7 in /usr/local/lib/python3.10/dist-packages (from flair->textattack) (0.6.0)\n",
            "Requirement already satisfied: semver<4.0.0,>=3.0.0 in /usr/local/lib/python3.10/dist-packages (from flair->textattack) (3.0.2)\n",
            "Requirement already satisfied: joblib in /usr/local/lib/python3.10/dist-packages (from nltk->textattack) (1.3.2)\n",
            "Requirement already satisfied: docopt>=0.6.2 in /usr/local/lib/python3.10/dist-packages (from num2words->textattack) (0.6.2)\n",
            "Requirement already satisfied: anytree in /usr/local/lib/python3.10/dist-packages (from OpenHowNet->textattack) (2.12.0)\n",
            "Requirement already satisfied: setuptools in /usr/local/lib/python3.10/dist-packages (from OpenHowNet->textattack) (67.7.2)\n",
            "Requirement already satisfied: botocore<1.32.0,>=1.31.79 in /usr/local/lib/python3.10/dist-packages (from boto3>=1.20.27->flair->textattack) (1.31.79)\n",
            "Requirement already satisfied: jmespath<2.0.0,>=0.7.1 in /usr/local/lib/python3.10/dist-packages (from boto3>=1.20.27->flair->textattack) (1.0.1)\n",
            "Requirement already satisfied: s3transfer<0.8.0,>=0.7.0 in /usr/local/lib/python3.10/dist-packages (from boto3>=1.20.27->flair->textattack) (0.7.0)\n",
            "Requirement already satisfied: sentencepiece in /usr/local/lib/python3.10/dist-packages (from bpemb>=0.3.2->flair->textattack) (0.1.99)\n",
            "Requirement already satisfied: wrapt<2,>=1.10 in /usr/local/lib/python3.10/dist-packages (from deprecated>=1.2.13->flair->textattack) (1.14.1)\n",
            "Requirement already satisfied: attrs>=17.3.0 in /usr/local/lib/python3.10/dist-packages (from aiohttp->datasets>=2.4.0->textattack) (23.1.0)\n",
            "Requirement already satisfied: charset-normalizer<4.0,>=2.0 in /usr/local/lib/python3.10/dist-packages (from aiohttp->datasets>=2.4.0->textattack) (3.3.1)\n",
            "Requirement already satisfied: multidict<7.0,>=4.5 in /usr/local/lib/python3.10/dist-packages (from aiohttp->datasets>=2.4.0->textattack) (6.0.4)\n",
            "Requirement already satisfied: async-timeout<5.0,>=4.0.0a3 in /usr/local/lib/python3.10/dist-packages (from aiohttp->datasets>=2.4.0->textattack) (4.0.3)\n",
            "Requirement already satisfied: yarl<2.0,>=1.0 in /usr/local/lib/python3.10/dist-packages (from aiohttp->datasets>=2.4.0->textattack) (1.9.2)\n",
            "Requirement already satisfied: frozenlist>=1.1.1 in /usr/local/lib/python3.10/dist-packages (from aiohttp->datasets>=2.4.0->textattack) (1.4.0)\n",
            "Requirement already satisfied: aiosignal>=1.1.2 in /usr/local/lib/python3.10/dist-packages (from aiohttp->datasets>=2.4.0->textattack) (1.3.1)\n",
            "Requirement already satisfied: wcwidth>=0.2.5 in /usr/local/lib/python3.10/dist-packages (from ftfy>=6.1.0->flair->textattack) (0.2.8)\n",
            "Requirement already satisfied: six in /usr/local/lib/python3.10/dist-packages (from gdown>=4.4.0->flair->textattack) (1.16.0)\n",
            "Requirement already satisfied: beautifulsoup4 in /usr/local/lib/python3.10/dist-packages (from gdown>=4.4.0->flair->textattack) (4.11.2)\n",
            "Requirement already satisfied: smart-open>=1.8.1 in /usr/local/lib/python3.10/dist-packages (from gensim>=4.2.0->flair->textattack) (6.4.0)\n",
            "Requirement already satisfied: contourpy>=1.0.1 in /usr/local/lib/python3.10/dist-packages (from matplotlib->bert-score>=0.3.5->textattack) (1.1.1)\n",
            "Requirement already satisfied: cycler>=0.10 in /usr/local/lib/python3.10/dist-packages (from matplotlib->bert-score>=0.3.5->textattack) (0.12.1)\n",
            "Requirement already satisfied: fonttools>=4.22.0 in /usr/local/lib/python3.10/dist-packages (from matplotlib->bert-score>=0.3.5->textattack) (4.43.1)\n",
            "Requirement already satisfied: kiwisolver>=1.0.1 in /usr/local/lib/python3.10/dist-packages (from matplotlib->bert-score>=0.3.5->textattack) (1.4.5)\n",
            "Requirement already satisfied: pillow>=6.2.0 in /usr/local/lib/python3.10/dist-packages (from matplotlib->bert-score>=0.3.5->textattack) (9.4.0)\n",
            "Requirement already satisfied: pyparsing>=2.3.1 in /usr/local/lib/python3.10/dist-packages (from matplotlib->bert-score>=0.3.5->textattack) (3.1.1)\n",
            "Requirement already satisfied: idna<4,>=2.5 in /usr/local/lib/python3.10/dist-packages (from requests->bert-score>=0.3.5->textattack) (3.4)\n",
            "Requirement already satisfied: certifi>=2017.4.17 in /usr/local/lib/python3.10/dist-packages (from requests->bert-score>=0.3.5->textattack) (2023.7.22)\n",
            "Requirement already satisfied: threadpoolctl>=2.0.0 in /usr/local/lib/python3.10/dist-packages (from scikit-learn>=1.0.2->flair->textattack) (3.2.0)\n",
            "Requirement already satisfied: protobuf in /usr/local/lib/python3.10/dist-packages (from transformers>=4.30.0->textattack) (3.20.3)\n",
            "Requirement already satisfied: MarkupSafe>=2.0 in /usr/local/lib/python3.10/dist-packages (from jinja2->torch!=1.8,>=1.7.0->textattack) (2.1.3)\n",
            "Requirement already satisfied: mpmath>=0.19 in /usr/local/lib/python3.10/dist-packages (from sympy->torch!=1.8,>=1.7.0->textattack) (1.3.0)\n",
            "Requirement already satisfied: accelerate>=0.20.3 in /usr/local/lib/python3.10/dist-packages (from transformers>=4.30.0->textattack) (0.24.1)\n",
            "Requirement already satisfied: soupsieve>1.2 in /usr/local/lib/python3.10/dist-packages (from beautifulsoup4->gdown>=4.4.0->flair->textattack) (2.5)\n",
            "Requirement already satisfied: psutil in /usr/local/lib/python3.10/dist-packages (from accelerate>=0.20.3->transformers>=4.30.0->textattack) (5.9.5)\n"
          ]
        }
      ]
    },
    {
      "cell_type": "code",
      "source": [
        "!textattack train --model google/electra-small-discriminator  --dataset snli  --epochs 3 --learning-rate 1e-5 --model-num-labels 3 --filter-train-by-labels 0 1 2 --filter-eval-by-labels 0 1 2 --output-dir ./trained_model_textattack/"
      ],
      "metadata": {
        "colab": {
          "base_uri": "https://localhost:8080/"
        },
        "id": "JDZGePMqT1zf",
        "outputId": "0ec4b311-df80-427b-f24e-1dba0e7b9b57"
      },
      "execution_count": null,
      "outputs": [
        {
          "output_type": "stream",
          "name": "stdout",
          "text": [
            "\u001b[34;1mtextattack\u001b[0m: Updating TextAttack package dependencies.\n",
            "\u001b[34;1mtextattack\u001b[0m: Downloading NLTK required packages.\n",
            "[nltk_data] Downloading package averaged_perceptron_tagger to\n",
            "[nltk_data]     /root/nltk_data...\n",
            "[nltk_data]   Unzipping taggers/averaged_perceptron_tagger.zip.\n",
            "[nltk_data] Downloading package stopwords to /root/nltk_data...\n",
            "[nltk_data]   Unzipping corpora/stopwords.zip.\n",
            "[nltk_data] Downloading package omw to /root/nltk_data...\n",
            "[nltk_data] Downloading package universal_tagset to /root/nltk_data...\n",
            "[nltk_data]   Unzipping taggers/universal_tagset.zip.\n",
            "[nltk_data] Downloading package wordnet to /root/nltk_data...\n",
            "[nltk_data] Downloading package punkt to /root/nltk_data...\n",
            "[nltk_data]   Unzipping tokenizers/punkt.zip.\n",
            "2023-11-07 01:08:59.648247: E tensorflow/compiler/xla/stream_executor/cuda/cuda_dnn.cc:9342] Unable to register cuDNN factory: Attempting to register factory for plugin cuDNN when one has already been registered\n",
            "2023-11-07 01:08:59.648304: E tensorflow/compiler/xla/stream_executor/cuda/cuda_fft.cc:609] Unable to register cuFFT factory: Attempting to register factory for plugin cuFFT when one has already been registered\n",
            "2023-11-07 01:08:59.648338: E tensorflow/compiler/xla/stream_executor/cuda/cuda_blas.cc:1518] Unable to register cuBLAS factory: Attempting to register factory for plugin cuBLAS when one has already been registered\n",
            "2023-11-07 01:09:00.881827: W tensorflow/compiler/tf2tensorrt/utils/py_utils.cc:38] TF-TRT Warning: Could not find TensorRT\n",
            "\u001b[34;1mtextattack\u001b[0m: Loading transformers AutoModelForSequenceClassification: google/electra-small-discriminator\n",
            "Downloading (…)lve/main/config.json: 100% 665/665 [00:00<00:00, 3.06MB/s]\n",
            "Downloading pytorch_model.bin: 100% 54.2M/54.2M [00:00<00:00, 216MB/s]\n",
            "Some weights of ElectraForSequenceClassification were not initialized from the model checkpoint at google/electra-small-discriminator and are newly initialized: ['classifier.dense.bias', 'classifier.dense.weight', 'classifier.out_proj.bias', 'classifier.out_proj.weight']\n",
            "You should probably TRAIN this model on a down-stream task to be able to use it for predictions and inference.\n",
            "Downloading (…)okenizer_config.json: 100% 29.0/29.0 [00:00<00:00, 188kB/s]\n",
            "Downloading (…)solve/main/vocab.txt: 100% 232k/232k [00:00<00:00, 1.41MB/s]\n",
            "Downloading (…)/main/tokenizer.json: 100% 466k/466k [00:00<00:00, 1.88MB/s]\n",
            "Downloading builder script: 100% 3.82k/3.82k [00:00<00:00, 25.6MB/s]\n",
            "Downloading metadata: 100% 1.90k/1.90k [00:00<00:00, 14.5MB/s]\n",
            "Downloading readme: 100% 14.1k/14.1k [00:00<00:00, 47.0MB/s]\n",
            "Downloading: 100% 1.93k/1.93k [00:00<00:00, 10.7MB/s]\n",
            "Downloading: 100% 1.26M/1.26M [00:00<00:00, 3.00MB/s]\n",
            "Downloading: 100% 65.9M/65.9M [00:02<00:00, 30.3MB/s]\n",
            "Downloading: 100% 1.26M/1.26M [00:00<00:00, 3.00MB/s]\n",
            "\u001b[34;1mtextattack\u001b[0m: Loading \u001b[94mdatasets\u001b[0m dataset \u001b[94msnli\u001b[0m, split \u001b[94mtrain\u001b[0m.\n",
            "\u001b[34;1mtextattack\u001b[0m: Loading \u001b[94mdatasets\u001b[0m dataset \u001b[94msnli\u001b[0m, split \u001b[94mvalidation\u001b[0m.\n",
            "Filter: 100% 550152/550152 [00:02<00:00, 239653.31 examples/s]\n",
            "Filter: 100% 10000/10000 [00:00<00:00, 235705.24 examples/s]\n",
            "\u001b[34;1mtextattack\u001b[0m: Writing logs to ./trained_model_textattack/train_log.txt.\n",
            "\u001b[34;1mtextattack\u001b[0m: Wrote original training args to ./trained_model_textattack/training_args.json.\n",
            "/usr/local/lib/python3.10/dist-packages/transformers/optimization.py:411: FutureWarning: This implementation of AdamW is deprecated and will be removed in a future version. Use the PyTorch implementation torch.optim.AdamW instead, or set `no_deprecation_warning=True` to disable this warning\n",
            "  warnings.warn(\n",
            "\u001b[34;1mtextattack\u001b[0m: ***** Running training *****\n",
            "\u001b[34;1mtextattack\u001b[0m:   Num examples = 549367\n",
            "\u001b[34;1mtextattack\u001b[0m:   Num epochs = 3\n",
            "\u001b[34;1mtextattack\u001b[0m:   Num clean epochs = 3\n",
            "\u001b[34;1mtextattack\u001b[0m:   Instantaneous batch size per device = 8\n",
            "\u001b[34;1mtextattack\u001b[0m:   Total train batch size (w. parallel, distributed & accumulation) = 8\n",
            "\u001b[34;1mtextattack\u001b[0m:   Gradient accumulation steps = 1\n",
            "\u001b[34;1mtextattack\u001b[0m:   Total optimization steps = 206013\n",
            "\u001b[34;1mtextattack\u001b[0m: ==========================================================\n",
            "\u001b[34;1mtextattack\u001b[0m: Epoch 1\n",
            "\u001b[34;1mtextattack\u001b[0m: Running clean epoch 1/3\n",
            "Loss 0.46525: 100% 68671/68671 [1:19:25<00:00, 14.41it/s]\n",
            "\u001b[34;1mtextattack\u001b[0m: Train accuracy: 81.83%\n",
            "\u001b[34;1mtextattack\u001b[0m: Eval accuracy: 87.49%\n",
            "\u001b[34;1mtextattack\u001b[0m: Best score found. Saved model to ./trained_model_textattack//best_model/\n",
            "\u001b[34;1mtextattack\u001b[0m: ==========================================================\n",
            "\u001b[34;1mtextattack\u001b[0m: Epoch 2\n",
            "\u001b[34;1mtextattack\u001b[0m: Running clean epoch 2/3\n",
            "Loss 0.41453: 100% 68671/68671 [1:20:54<00:00, 14.15it/s]\n",
            "\u001b[34;1mtextattack\u001b[0m: Train accuracy: 86.31%\n",
            "\u001b[34;1mtextattack\u001b[0m: Eval accuracy: 88.56%\n",
            "\u001b[34;1mtextattack\u001b[0m: Best score found. Saved model to ./trained_model_textattack//best_model/\n",
            "\u001b[34;1mtextattack\u001b[0m: ==========================================================\n",
            "\u001b[34;1mtextattack\u001b[0m: Epoch 3\n",
            "\u001b[34;1mtextattack\u001b[0m: Running clean epoch 3/3\n",
            "Loss 0.38585: 100% 68671/68671 [1:19:55<00:00, 14.32it/s]\n",
            "\u001b[34;1mtextattack\u001b[0m: Train accuracy: 87.75%\n",
            "\u001b[34;1mtextattack\u001b[0m: Eval accuracy: 89.01%\n",
            "\u001b[34;1mtextattack\u001b[0m: Best score found. Saved model to ./trained_model_textattack//best_model/\n",
            "\u001b[34;1mtextattack\u001b[0m: Wrote README to ./trained_model_textattack/README.md.\n"
          ]
        }
      ]
    },
    {
      "cell_type": "code",
      "source": [
        "!zip -r trained_model_textattack.zip trained_model_textattack"
      ],
      "metadata": {
        "colab": {
          "base_uri": "https://localhost:8080/"
        },
        "id": "_sToTVlRQJQY",
        "outputId": "5bc4e740-1fd0-4505-b85c-5774d33f6aa0"
      },
      "execution_count": null,
      "outputs": [
        {
          "output_type": "stream",
          "name": "stdout",
          "text": [
            "  adding: trained_model_textattack/ (stored 0%)\n",
            "  adding: trained_model_textattack/training_args.json (deflated 54%)\n",
            "  adding: trained_model_textattack/last_model/ (stored 0%)\n",
            "  adding: trained_model_textattack/last_model/tokenizer_config.json (deflated 76%)\n",
            "  adding: trained_model_textattack/last_model/model.safetensors (deflated 7%)\n",
            "  adding: trained_model_textattack/last_model/special_tokens_map.json (deflated 42%)\n",
            "  adding: trained_model_textattack/last_model/config.json (deflated 53%)\n",
            "  adding: trained_model_textattack/last_model/vocab.txt (deflated 53%)\n",
            "  adding: trained_model_textattack/last_model/tokenizer.json (deflated 71%)\n",
            "  adding: trained_model_textattack/README.md (deflated 44%)\n",
            "  adding: trained_model_textattack/best_model/ (stored 0%)\n",
            "  adding: trained_model_textattack/best_model/tokenizer_config.json (deflated 76%)\n",
            "  adding: trained_model_textattack/best_model/model.safetensors (deflated 7%)\n",
            "  adding: trained_model_textattack/best_model/special_tokens_map.json (deflated 42%)\n",
            "  adding: trained_model_textattack/best_model/config.json (deflated 53%)\n",
            "  adding: trained_model_textattack/best_model/vocab.txt (deflated 53%)\n",
            "  adding: trained_model_textattack/best_model/tokenizer.json (deflated 71%)\n",
            "  adding: trained_model_textattack/train_log.txt (deflated 67%)\n"
          ]
        }
      ]
    },
    {
      "cell_type": "markdown",
      "source": [
        "Using new textattack model on other data"
      ],
      "metadata": {
        "id": "EN-_O04MwmRo"
      }
    },
    {
      "cell_type": "code",
      "source": [
        "!git clone https://github.com/gregdurrett/fp-dataset-artifacts.git"
      ],
      "metadata": {
        "colab": {
          "base_uri": "https://localhost:8080/"
        },
        "id": "rMwKvEeDwuj1",
        "outputId": "2666e55c-646b-41ef-eb81-5a56305f6add"
      },
      "execution_count": null,
      "outputs": [
        {
          "output_type": "stream",
          "name": "stdout",
          "text": [
            "Cloning into 'fp-dataset-artifacts'...\n",
            "remote: Enumerating objects: 36, done.\u001b[K\n",
            "remote: Counting objects: 100% (11/11), done.\u001b[K\n",
            "remote: Compressing objects: 100% (7/7), done.\u001b[K\n",
            "remote: Total 36 (delta 2), reused 8 (delta 2), pack-reused 25\u001b[K\n",
            "Receiving objects: 100% (36/36), 17.16 KiB | 17.16 MiB/s, done.\n",
            "Resolving deltas: 100% (10/10), done.\n"
          ]
        }
      ]
    },
    {
      "cell_type": "code",
      "source": [
        "cd fp-dataset-artifacts/"
      ],
      "metadata": {
        "colab": {
          "base_uri": "https://localhost:8080/"
        },
        "id": "rN8abS1wwy1x",
        "outputId": "ea376aa7-5492-4aec-c63d-531564bb61ee"
      },
      "execution_count": null,
      "outputs": [
        {
          "output_type": "stream",
          "name": "stdout",
          "text": [
            "/content/fp-dataset-artifacts\n"
          ]
        }
      ]
    },
    {
      "cell_type": "code",
      "source": [
        "pip install --upgrade pip"
      ],
      "metadata": {
        "colab": {
          "base_uri": "https://localhost:8080/"
        },
        "id": "Sah-zXwRw16Y",
        "outputId": "3cf00007-8dac-49a7-e405-c46e33cd92b5"
      },
      "execution_count": null,
      "outputs": [
        {
          "output_type": "stream",
          "name": "stdout",
          "text": [
            "Requirement already satisfied: pip in /usr/local/lib/python3.10/dist-packages (23.1.2)\n",
            "Collecting pip\n",
            "  Downloading pip-23.3.1-py3-none-any.whl (2.1 MB)\n",
            "\u001b[2K     \u001b[90m━━━━━━━━━━━━━━━━━━━━━━━━━━━━━━━━━━━━━━━━\u001b[0m \u001b[32m2.1/2.1 MB\u001b[0m \u001b[31m14.8 MB/s\u001b[0m eta \u001b[36m0:00:00\u001b[0m\n",
            "\u001b[?25hInstalling collected packages: pip\n",
            "  Attempting uninstall: pip\n",
            "    Found existing installation: pip 23.1.2\n",
            "    Uninstalling pip-23.1.2:\n",
            "      Successfully uninstalled pip-23.1.2\n",
            "Successfully installed pip-23.3.1\n"
          ]
        }
      ]
    },
    {
      "cell_type": "code",
      "source": [
        "pip install -r requirements.txt"
      ],
      "metadata": {
        "colab": {
          "base_uri": "https://localhost:8080/"
        },
        "id": "g9-aobBvxABP",
        "outputId": "9de10dea-fe8d-4074-ef0d-17187095c639"
      },
      "execution_count": null,
      "outputs": [
        {
          "output_type": "stream",
          "name": "stdout",
          "text": [
            "Requirement already satisfied: accelerate in /usr/local/lib/python3.10/dist-packages (from -r requirements.txt (line 1)) (0.24.1)\n",
            "Requirement already satisfied: datasets in /usr/local/lib/python3.10/dist-packages (from -r requirements.txt (line 2)) (2.14.6)\n",
            "Requirement already satisfied: torch in /usr/local/lib/python3.10/dist-packages (from -r requirements.txt (line 3)) (2.1.0+cu118)\n",
            "Requirement already satisfied: tqdm in /usr/local/lib/python3.10/dist-packages (from -r requirements.txt (line 4)) (4.66.1)\n",
            "Requirement already satisfied: transformers in /usr/local/lib/python3.10/dist-packages (from -r requirements.txt (line 5)) (4.35.0)\n",
            "Requirement already satisfied: numpy>=1.17 in /usr/local/lib/python3.10/dist-packages (from accelerate->-r requirements.txt (line 1)) (1.23.5)\n",
            "Requirement already satisfied: packaging>=20.0 in /usr/local/lib/python3.10/dist-packages (from accelerate->-r requirements.txt (line 1)) (23.2)\n",
            "Requirement already satisfied: psutil in /usr/local/lib/python3.10/dist-packages (from accelerate->-r requirements.txt (line 1)) (5.9.5)\n",
            "Requirement already satisfied: pyyaml in /usr/local/lib/python3.10/dist-packages (from accelerate->-r requirements.txt (line 1)) (6.0.1)\n",
            "Requirement already satisfied: huggingface-hub in /usr/local/lib/python3.10/dist-packages (from accelerate->-r requirements.txt (line 1)) (0.17.3)\n",
            "Requirement already satisfied: pyarrow>=8.0.0 in /usr/local/lib/python3.10/dist-packages (from datasets->-r requirements.txt (line 2)) (9.0.0)\n",
            "Requirement already satisfied: dill<0.3.8,>=0.3.0 in /usr/local/lib/python3.10/dist-packages (from datasets->-r requirements.txt (line 2)) (0.3.7)\n",
            "Requirement already satisfied: pandas in /usr/local/lib/python3.10/dist-packages (from datasets->-r requirements.txt (line 2)) (1.5.3)\n",
            "Requirement already satisfied: requests>=2.19.0 in /usr/local/lib/python3.10/dist-packages (from datasets->-r requirements.txt (line 2)) (2.31.0)\n",
            "Requirement already satisfied: xxhash in /usr/local/lib/python3.10/dist-packages (from datasets->-r requirements.txt (line 2)) (3.4.1)\n",
            "Requirement already satisfied: multiprocess in /usr/local/lib/python3.10/dist-packages (from datasets->-r requirements.txt (line 2)) (0.70.15)\n",
            "Requirement already satisfied: fsspec<=2023.10.0,>=2023.1.0 in /usr/local/lib/python3.10/dist-packages (from fsspec[http]<=2023.10.0,>=2023.1.0->datasets->-r requirements.txt (line 2)) (2023.6.0)\n",
            "Requirement already satisfied: aiohttp in /usr/local/lib/python3.10/dist-packages (from datasets->-r requirements.txt (line 2)) (3.8.6)\n",
            "Requirement already satisfied: filelock in /usr/local/lib/python3.10/dist-packages (from torch->-r requirements.txt (line 3)) (3.13.1)\n",
            "Requirement already satisfied: typing-extensions in /usr/local/lib/python3.10/dist-packages (from torch->-r requirements.txt (line 3)) (4.5.0)\n",
            "Requirement already satisfied: sympy in /usr/local/lib/python3.10/dist-packages (from torch->-r requirements.txt (line 3)) (1.12)\n",
            "Requirement already satisfied: networkx in /usr/local/lib/python3.10/dist-packages (from torch->-r requirements.txt (line 3)) (3.2.1)\n",
            "Requirement already satisfied: jinja2 in /usr/local/lib/python3.10/dist-packages (from torch->-r requirements.txt (line 3)) (3.1.2)\n",
            "Requirement already satisfied: triton==2.1.0 in /usr/local/lib/python3.10/dist-packages (from torch->-r requirements.txt (line 3)) (2.1.0)\n",
            "Requirement already satisfied: regex!=2019.12.17 in /usr/local/lib/python3.10/dist-packages (from transformers->-r requirements.txt (line 5)) (2023.6.3)\n",
            "Requirement already satisfied: tokenizers<0.15,>=0.14 in /usr/local/lib/python3.10/dist-packages (from transformers->-r requirements.txt (line 5)) (0.14.1)\n",
            "Requirement already satisfied: safetensors>=0.3.1 in /usr/local/lib/python3.10/dist-packages (from transformers->-r requirements.txt (line 5)) (0.4.0)\n",
            "Requirement already satisfied: attrs>=17.3.0 in /usr/local/lib/python3.10/dist-packages (from aiohttp->datasets->-r requirements.txt (line 2)) (23.1.0)\n",
            "Requirement already satisfied: charset-normalizer<4.0,>=2.0 in /usr/local/lib/python3.10/dist-packages (from aiohttp->datasets->-r requirements.txt (line 2)) (3.3.2)\n",
            "Requirement already satisfied: multidict<7.0,>=4.5 in /usr/local/lib/python3.10/dist-packages (from aiohttp->datasets->-r requirements.txt (line 2)) (6.0.4)\n",
            "Requirement already satisfied: async-timeout<5.0,>=4.0.0a3 in /usr/local/lib/python3.10/dist-packages (from aiohttp->datasets->-r requirements.txt (line 2)) (4.0.3)\n",
            "Requirement already satisfied: yarl<2.0,>=1.0 in /usr/local/lib/python3.10/dist-packages (from aiohttp->datasets->-r requirements.txt (line 2)) (1.9.2)\n",
            "Requirement already satisfied: frozenlist>=1.1.1 in /usr/local/lib/python3.10/dist-packages (from aiohttp->datasets->-r requirements.txt (line 2)) (1.4.0)\n",
            "Requirement already satisfied: aiosignal>=1.1.2 in /usr/local/lib/python3.10/dist-packages (from aiohttp->datasets->-r requirements.txt (line 2)) (1.3.1)\n",
            "Requirement already satisfied: idna<4,>=2.5 in /usr/local/lib/python3.10/dist-packages (from requests>=2.19.0->datasets->-r requirements.txt (line 2)) (3.4)\n",
            "Requirement already satisfied: urllib3<3,>=1.21.1 in /usr/local/lib/python3.10/dist-packages (from requests>=2.19.0->datasets->-r requirements.txt (line 2)) (2.0.7)\n",
            "Requirement already satisfied: certifi>=2017.4.17 in /usr/local/lib/python3.10/dist-packages (from requests>=2.19.0->datasets->-r requirements.txt (line 2)) (2023.7.22)\n",
            "Requirement already satisfied: MarkupSafe>=2.0 in /usr/local/lib/python3.10/dist-packages (from jinja2->torch->-r requirements.txt (line 3)) (2.1.3)\n",
            "Requirement already satisfied: python-dateutil>=2.8.1 in /usr/local/lib/python3.10/dist-packages (from pandas->datasets->-r requirements.txt (line 2)) (2.8.2)\n",
            "Requirement already satisfied: pytz>=2020.1 in /usr/local/lib/python3.10/dist-packages (from pandas->datasets->-r requirements.txt (line 2)) (2023.3.post1)\n",
            "Requirement already satisfied: mpmath>=0.19 in /usr/local/lib/python3.10/dist-packages (from sympy->torch->-r requirements.txt (line 3)) (1.3.0)\n",
            "Requirement already satisfied: six>=1.5 in /usr/local/lib/python3.10/dist-packages (from python-dateutil>=2.8.1->pandas->datasets->-r requirements.txt (line 2)) (1.16.0)\n",
            "\u001b[33mWARNING: Running pip as the 'root' user can result in broken permissions and conflicting behaviour with the system package manager. It is recommended to use a virtual environment instead: https://pip.pypa.io/warnings/venv\u001b[0m\u001b[33m\n",
            "\u001b[0m"
          ]
        }
      ]
    },
    {
      "cell_type": "code",
      "source": [
        "mkdir trained_model_ta"
      ],
      "metadata": {
        "id": "teIIw2payFFd"
      },
      "execution_count": null,
      "outputs": []
    },
    {
      "cell_type": "code",
      "source": [
        "cd trained_model_ta/"
      ],
      "metadata": {
        "colab": {
          "base_uri": "https://localhost:8080/"
        },
        "id": "e7NmM0q9yIg9",
        "outputId": "58a0bb3f-b3c3-429e-f2c1-dbed07c180dc"
      },
      "execution_count": null,
      "outputs": [
        {
          "output_type": "stream",
          "name": "stdout",
          "text": [
            "/content/fp-dataset-artifacts/trained_model_ta\n"
          ]
        }
      ]
    },
    {
      "cell_type": "code",
      "source": [
        "cd .."
      ],
      "metadata": {
        "colab": {
          "base_uri": "https://localhost:8080/"
        },
        "id": "c_BBVH9HyLBn",
        "outputId": "d2b6ea1d-52b7-4fd2-ae3d-24aec945eb6c"
      },
      "execution_count": null,
      "outputs": [
        {
          "output_type": "stream",
          "name": "stdout",
          "text": [
            "/content/fp-dataset-artifacts\n"
          ]
        }
      ]
    },
    {
      "cell_type": "code",
      "source": [
        "mkdir custom_datasets"
      ],
      "metadata": {
        "id": "oSih1UA-yex4"
      },
      "execution_count": null,
      "outputs": []
    },
    {
      "cell_type": "code",
      "source": [
        "!python run.py --do_eval --task nli --dataset snli --model ./trained_model_ta/ --output_dir ./eval_output_snli_ta"
      ],
      "metadata": {
        "colab": {
          "base_uri": "https://localhost:8080/"
        },
        "id": "up55hPmxzn89",
        "outputId": "36021b85-d39f-4eca-9bbc-247d7693f80e"
      },
      "execution_count": null,
      "outputs": [
        {
          "output_type": "stream",
          "name": "stdout",
          "text": [
            "2023-11-07 22:02:48.909183: E tensorflow/compiler/xla/stream_executor/cuda/cuda_dnn.cc:9342] Unable to register cuDNN factory: Attempting to register factory for plugin cuDNN when one has already been registered\n",
            "2023-11-07 22:02:48.909238: E tensorflow/compiler/xla/stream_executor/cuda/cuda_fft.cc:609] Unable to register cuFFT factory: Attempting to register factory for plugin cuFFT when one has already been registered\n",
            "2023-11-07 22:02:48.909287: E tensorflow/compiler/xla/stream_executor/cuda/cuda_blas.cc:1518] Unable to register cuBLAS factory: Attempting to register factory for plugin cuBLAS when one has already been registered\n",
            "2023-11-07 22:02:50.214422: W tensorflow/compiler/tf2tensorrt/utils/py_utils.cc:38] TF-TRT Warning: Could not find TensorRT\n",
            "Downloading builder script: 100% 3.82k/3.82k [00:00<00:00, 19.0MB/s]\n",
            "Downloading metadata: 100% 1.90k/1.90k [00:00<00:00, 11.8MB/s]\n",
            "Downloading readme: 100% 14.1k/14.1k [00:00<00:00, 36.2MB/s]\n",
            "Downloading: 100% 1.93k/1.93k [00:00<00:00, 6.52MB/s]\n",
            "Downloading: 100% 1.26M/1.26M [00:00<00:00, 3.01MB/s]\n",
            "Downloading: 100% 65.9M/65.9M [00:02<00:00, 30.4MB/s]\n",
            "Downloading: 100% 1.26M/1.26M [00:00<00:00, 3.04MB/s]\n",
            "Preprocessing data... (this takes a little bit, should only happen once per dataset)\n",
            "Filter: 100% 10000/10000 [00:00<00:00, 108664.95 examples/s]\n",
            "Filter: 100% 550152/550152 [00:02<00:00, 251646.91 examples/s]\n",
            "Filter: 100% 10000/10000 [00:00<00:00, 244645.72 examples/s]\n",
            "Map (num_proc=2): 100% 9842/9842 [00:01<00:00, 9518.57 examples/s] \n",
            "You're using a ElectraTokenizerFast tokenizer. Please note that with a fast tokenizer, using the `__call__` method is faster than using a method to encode the text followed by a call to the `pad` method to get a padded encoding.\n",
            "100% 1231/1231 [00:20<00:00, 60.25it/s]\n",
            "Evaluation results:\n",
            "{'eval_loss': 0.38627293705940247, 'eval_accuracy': 0.8922983407974243, 'eval_runtime': 23.4365, 'eval_samples_per_second': 419.943, 'eval_steps_per_second': 52.525}\n"
          ]
        }
      ]
    },
    {
      "cell_type": "code",
      "source": [
        "!python run.py --do_eval --task nli --dataset breakNLIdata.jsonl --model ./trained_model_ta/ --output_dir ./eval_output_break_ta"
      ],
      "metadata": {
        "colab": {
          "base_uri": "https://localhost:8080/"
        },
        "id": "qYxCcuDm0H29",
        "outputId": "cc0822cf-2d7b-4c59-c143-1bdfb0187e59"
      },
      "execution_count": null,
      "outputs": [
        {
          "output_type": "stream",
          "name": "stdout",
          "text": [
            "2023-11-07 22:04:43.256017: E tensorflow/compiler/xla/stream_executor/cuda/cuda_dnn.cc:9342] Unable to register cuDNN factory: Attempting to register factory for plugin cuDNN when one has already been registered\n",
            "2023-11-07 22:04:43.256070: E tensorflow/compiler/xla/stream_executor/cuda/cuda_fft.cc:609] Unable to register cuFFT factory: Attempting to register factory for plugin cuFFT when one has already been registered\n",
            "2023-11-07 22:04:43.256099: E tensorflow/compiler/xla/stream_executor/cuda/cuda_blas.cc:1518] Unable to register cuBLAS factory: Attempting to register factory for plugin cuBLAS when one has already been registered\n",
            "2023-11-07 22:04:44.538054: W tensorflow/compiler/tf2tensorrt/utils/py_utils.cc:38] TF-TRT Warning: Could not find TensorRT\n",
            "Downloading data files: 100% 1/1 [00:00<00:00, 10565.00it/s]\n",
            "Extracting data files: 100% 1/1 [00:00<00:00, 1392.53it/s]\n",
            "Generating train split: 8193 examples [00:00, 733974.08 examples/s]\n",
            "Preprocessing data... (this takes a little bit, should only happen once per dataset)\n",
            "Map (num_proc=2): 100% 8193/8193 [00:00<00:00, 9653.12 examples/s] \n",
            "You're using a ElectraTokenizerFast tokenizer. Please note that with a fast tokenizer, using the `__call__` method is faster than using a method to encode the text followed by a call to the `pad` method to get a padded encoding.\n",
            "100% 1025/1025 [00:16<00:00, 60.70it/s]\n",
            "Evaluation results:\n",
            "{'eval_loss': 0.30533358454704285, 'eval_accuracy': 0.9256682395935059, 'eval_runtime': 17.3539, 'eval_samples_per_second': 472.114, 'eval_steps_per_second': 59.065}\n"
          ]
        }
      ]
    },
    {
      "cell_type": "code",
      "source": [
        "!python run.py --do_eval --task nli --dataset mccoyData.jsonl --model ./trained_model_ta/ --output_dir ./eval_output_mccoy_ta"
      ],
      "metadata": {
        "colab": {
          "base_uri": "https://localhost:8080/"
        },
        "id": "3sV0Ijpu0Yvu",
        "outputId": "ba442335-826c-4652-dbb9-71dd64b43dcb"
      },
      "execution_count": null,
      "outputs": [
        {
          "output_type": "stream",
          "name": "stdout",
          "text": [
            "2023-11-07 22:05:43.194415: E tensorflow/compiler/xla/stream_executor/cuda/cuda_dnn.cc:9342] Unable to register cuDNN factory: Attempting to register factory for plugin cuDNN when one has already been registered\n",
            "2023-11-07 22:05:43.194492: E tensorflow/compiler/xla/stream_executor/cuda/cuda_fft.cc:609] Unable to register cuFFT factory: Attempting to register factory for plugin cuFFT when one has already been registered\n",
            "2023-11-07 22:05:43.194522: E tensorflow/compiler/xla/stream_executor/cuda/cuda_blas.cc:1518] Unable to register cuBLAS factory: Attempting to register factory for plugin cuBLAS when one has already been registered\n",
            "2023-11-07 22:05:44.456601: W tensorflow/compiler/tf2tensorrt/utils/py_utils.cc:38] TF-TRT Warning: Could not find TensorRT\n",
            "Downloading data files: 100% 1/1 [00:00<00:00, 9362.29it/s]\n",
            "Extracting data files: 100% 1/1 [00:00<00:00, 1224.97it/s]\n",
            "Generating train split: 30000 examples [00:00, 1415098.24 examples/s]\n",
            "Preprocessing data... (this takes a little bit, should only happen once per dataset)\n",
            "Map (num_proc=2): 100% 30000/30000 [00:02<00:00, 11728.79 examples/s]\n",
            "You're using a ElectraTokenizerFast tokenizer. Please note that with a fast tokenizer, using the `__call__` method is faster than using a method to encode the text followed by a call to the `pad` method to get a padded encoding.\n",
            "100% 3750/3750 [00:58<00:00, 63.72it/s]\n",
            "Evaluation results:\n",
            "{'eval_loss': 2.4341650009155273, 'eval_accuracy': 0.5147666931152344, 'eval_runtime': 59.314, 'eval_samples_per_second': 505.783, 'eval_steps_per_second': 63.223}\n"
          ]
        }
      ]
    },
    {
      "cell_type": "code",
      "source": [
        "!zip eval_output_break_ta.zip eval_output_break_ta"
      ],
      "metadata": {
        "colab": {
          "base_uri": "https://localhost:8080/"
        },
        "id": "2_3NkSb_05ZH",
        "outputId": "582186fe-d91d-4a1c-e3e3-c84706353605"
      },
      "execution_count": null,
      "outputs": [
        {
          "output_type": "stream",
          "name": "stdout",
          "text": [
            "  adding: eval_output_break_ta/ (stored 0%)\n"
          ]
        }
      ]
    },
    {
      "cell_type": "code",
      "source": [
        "!zip eval_output_snli_ta.zip eval_output_snli_ta"
      ],
      "metadata": {
        "colab": {
          "base_uri": "https://localhost:8080/"
        },
        "id": "yVRqw6YQ1Dt1",
        "outputId": "e67c65b9-fcac-4bb6-b742-af2e26fe7ed8"
      },
      "execution_count": null,
      "outputs": [
        {
          "output_type": "stream",
          "name": "stdout",
          "text": [
            "  adding: eval_output_snli_ta/ (stored 0%)\n"
          ]
        }
      ]
    },
    {
      "cell_type": "code",
      "source": [
        "!zip eval_output_mccoy_ta.zip eval_output_mccoy_ta"
      ],
      "metadata": {
        "colab": {
          "base_uri": "https://localhost:8080/"
        },
        "id": "Bw8TLYF_1L4f",
        "outputId": "47b0464f-1065-429f-c08f-3e6e24092e64"
      },
      "execution_count": null,
      "outputs": [
        {
          "output_type": "stream",
          "name": "stdout",
          "text": [
            "  adding: eval_output_mccoy_ta/ (stored 0%)\n"
          ]
        }
      ]
    },
    {
      "cell_type": "markdown",
      "source": [
        "--attack"
      ],
      "metadata": {
        "id": "ZKQOMMMfAWsK"
      }
    },
    {
      "cell_type": "code",
      "source": [
        "pip install textattack"
      ],
      "metadata": {
        "colab": {
          "base_uri": "https://localhost:8080/"
        },
        "id": "VEDF7DxbAVUr",
        "outputId": "1020c807-0d49-4faf-c23c-a7489a8be3fb"
      },
      "execution_count": null,
      "outputs": [
        {
          "output_type": "stream",
          "name": "stdout",
          "text": [
            "Requirement already satisfied: textattack in /usr/local/lib/python3.10/dist-packages (0.3.9)\n",
            "Requirement already satisfied: bert-score>=0.3.5 in /usr/local/lib/python3.10/dist-packages (from textattack) (0.3.13)\n",
            "Requirement already satisfied: editdistance in /usr/local/lib/python3.10/dist-packages (from textattack) (0.6.2)\n",
            "Requirement already satisfied: flair in /usr/local/lib/python3.10/dist-packages (from textattack) (0.13.0)\n",
            "Requirement already satisfied: filelock in /usr/local/lib/python3.10/dist-packages (from textattack) (3.13.1)\n",
            "Requirement already satisfied: language-tool-python in /usr/local/lib/python3.10/dist-packages (from textattack) (2.7.1)\n",
            "Requirement already satisfied: lemminflect in /usr/local/lib/python3.10/dist-packages (from textattack) (0.2.3)\n",
            "Requirement already satisfied: lru-dict in /usr/local/lib/python3.10/dist-packages (from textattack) (1.3.0)\n",
            "Requirement already satisfied: datasets>=2.4.0 in /usr/local/lib/python3.10/dist-packages (from textattack) (2.14.6)\n",
            "Requirement already satisfied: nltk in /usr/local/lib/python3.10/dist-packages (from textattack) (3.8.1)\n",
            "Requirement already satisfied: numpy>=1.21.0 in /usr/local/lib/python3.10/dist-packages (from textattack) (1.23.5)\n",
            "Requirement already satisfied: pandas>=1.0.1 in /usr/local/lib/python3.10/dist-packages (from textattack) (1.5.3)\n",
            "Requirement already satisfied: scipy>=1.4.1 in /usr/local/lib/python3.10/dist-packages (from textattack) (1.11.3)\n",
            "Requirement already satisfied: torch!=1.8,>=1.7.0 in /usr/local/lib/python3.10/dist-packages (from textattack) (2.1.0+cu118)\n",
            "Requirement already satisfied: transformers>=4.30.0 in /usr/local/lib/python3.10/dist-packages (from textattack) (4.35.0)\n",
            "Requirement already satisfied: terminaltables in /usr/local/lib/python3.10/dist-packages (from textattack) (3.1.10)\n",
            "Requirement already satisfied: tqdm in /usr/local/lib/python3.10/dist-packages (from textattack) (4.66.1)\n",
            "Requirement already satisfied: word2number in /usr/local/lib/python3.10/dist-packages (from textattack) (1.1)\n",
            "Requirement already satisfied: num2words in /usr/local/lib/python3.10/dist-packages (from textattack) (0.5.13)\n",
            "Requirement already satisfied: more-itertools in /usr/local/lib/python3.10/dist-packages (from textattack) (10.1.0)\n",
            "Requirement already satisfied: PySocks!=1.5.7,>=1.5.6 in /usr/local/lib/python3.10/dist-packages (from textattack) (1.7.1)\n",
            "Requirement already satisfied: pinyin>=0.4.0 in /usr/local/lib/python3.10/dist-packages (from textattack) (0.4.0)\n",
            "Requirement already satisfied: jieba in /usr/local/lib/python3.10/dist-packages (from textattack) (0.42.1)\n",
            "Requirement already satisfied: OpenHowNet in /usr/local/lib/python3.10/dist-packages (from textattack) (2.0)\n",
            "Requirement already satisfied: pycld2 in /usr/local/lib/python3.10/dist-packages (from textattack) (0.41)\n",
            "Requirement already satisfied: click<8.1.0 in /usr/local/lib/python3.10/dist-packages (from textattack) (8.0.4)\n",
            "Requirement already satisfied: requests in /usr/local/lib/python3.10/dist-packages (from bert-score>=0.3.5->textattack) (2.31.0)\n",
            "Requirement already satisfied: matplotlib in /usr/local/lib/python3.10/dist-packages (from bert-score>=0.3.5->textattack) (3.7.1)\n",
            "Requirement already satisfied: packaging>=20.9 in /usr/local/lib/python3.10/dist-packages (from bert-score>=0.3.5->textattack) (23.2)\n",
            "Requirement already satisfied: pyarrow>=8.0.0 in /usr/local/lib/python3.10/dist-packages (from datasets>=2.4.0->textattack) (9.0.0)\n",
            "Requirement already satisfied: dill<0.3.8,>=0.3.0 in /usr/local/lib/python3.10/dist-packages (from datasets>=2.4.0->textattack) (0.3.7)\n",
            "Requirement already satisfied: xxhash in /usr/local/lib/python3.10/dist-packages (from datasets>=2.4.0->textattack) (3.4.1)\n",
            "Requirement already satisfied: multiprocess in /usr/local/lib/python3.10/dist-packages (from datasets>=2.4.0->textattack) (0.70.15)\n",
            "Requirement already satisfied: fsspec[http]<=2023.10.0,>=2023.1.0 in /usr/local/lib/python3.10/dist-packages (from datasets>=2.4.0->textattack) (2023.6.0)\n",
            "Requirement already satisfied: aiohttp in /usr/local/lib/python3.10/dist-packages (from datasets>=2.4.0->textattack) (3.8.6)\n",
            "Requirement already satisfied: huggingface-hub<1.0.0,>=0.14.0 in /usr/local/lib/python3.10/dist-packages (from datasets>=2.4.0->textattack) (0.17.3)\n",
            "Requirement already satisfied: pyyaml>=5.1 in /usr/local/lib/python3.10/dist-packages (from datasets>=2.4.0->textattack) (6.0.1)\n",
            "Requirement already satisfied: python-dateutil>=2.8.1 in /usr/local/lib/python3.10/dist-packages (from pandas>=1.0.1->textattack) (2.8.2)\n",
            "Requirement already satisfied: pytz>=2020.1 in /usr/local/lib/python3.10/dist-packages (from pandas>=1.0.1->textattack) (2023.3.post1)\n",
            "Requirement already satisfied: typing-extensions in /usr/local/lib/python3.10/dist-packages (from torch!=1.8,>=1.7.0->textattack) (4.5.0)\n",
            "Requirement already satisfied: sympy in /usr/local/lib/python3.10/dist-packages (from torch!=1.8,>=1.7.0->textattack) (1.12)\n",
            "Requirement already satisfied: networkx in /usr/local/lib/python3.10/dist-packages (from torch!=1.8,>=1.7.0->textattack) (3.2.1)\n",
            "Requirement already satisfied: jinja2 in /usr/local/lib/python3.10/dist-packages (from torch!=1.8,>=1.7.0->textattack) (3.1.2)\n",
            "Requirement already satisfied: triton==2.1.0 in /usr/local/lib/python3.10/dist-packages (from torch!=1.8,>=1.7.0->textattack) (2.1.0)\n",
            "Requirement already satisfied: regex!=2019.12.17 in /usr/local/lib/python3.10/dist-packages (from transformers>=4.30.0->textattack) (2023.6.3)\n",
            "Requirement already satisfied: tokenizers<0.15,>=0.14 in /usr/local/lib/python3.10/dist-packages (from transformers>=4.30.0->textattack) (0.14.1)\n",
            "Requirement already satisfied: safetensors>=0.3.1 in /usr/local/lib/python3.10/dist-packages (from transformers>=4.30.0->textattack) (0.4.0)\n",
            "Requirement already satisfied: boto3>=1.20.27 in /usr/local/lib/python3.10/dist-packages (from flair->textattack) (1.28.80)\n",
            "Requirement already satisfied: bpemb>=0.3.2 in /usr/local/lib/python3.10/dist-packages (from flair->textattack) (0.3.4)\n",
            "Requirement already satisfied: conllu>=4.0 in /usr/local/lib/python3.10/dist-packages (from flair->textattack) (4.5.3)\n",
            "Requirement already satisfied: deprecated>=1.2.13 in /usr/local/lib/python3.10/dist-packages (from flair->textattack) (1.2.14)\n",
            "Requirement already satisfied: ftfy>=6.1.0 in /usr/local/lib/python3.10/dist-packages (from flair->textattack) (6.1.1)\n",
            "Requirement already satisfied: gdown>=4.4.0 in /usr/local/lib/python3.10/dist-packages (from flair->textattack) (4.6.6)\n",
            "Requirement already satisfied: gensim>=4.2.0 in /usr/local/lib/python3.10/dist-packages (from flair->textattack) (4.3.2)\n",
            "Requirement already satisfied: janome>=0.4.2 in /usr/local/lib/python3.10/dist-packages (from flair->textattack) (0.5.0)\n",
            "Requirement already satisfied: langdetect>=1.0.9 in /usr/local/lib/python3.10/dist-packages (from flair->textattack) (1.0.9)\n",
            "Requirement already satisfied: lxml>=4.8.0 in /usr/local/lib/python3.10/dist-packages (from flair->textattack) (4.9.3)\n",
            "Requirement already satisfied: mpld3>=0.3 in /usr/local/lib/python3.10/dist-packages (from flair->textattack) (0.5.9)\n",
            "Requirement already satisfied: pptree>=3.1 in /usr/local/lib/python3.10/dist-packages (from flair->textattack) (3.1)\n",
            "Requirement already satisfied: pytorch-revgrad>=0.2.0 in /usr/local/lib/python3.10/dist-packages (from flair->textattack) (0.2.0)\n",
            "Requirement already satisfied: scikit-learn>=1.0.2 in /usr/local/lib/python3.10/dist-packages (from flair->textattack) (1.2.2)\n",
            "Requirement already satisfied: segtok>=1.5.11 in /usr/local/lib/python3.10/dist-packages (from flair->textattack) (1.5.11)\n",
            "Requirement already satisfied: sqlitedict>=2.0.0 in /usr/local/lib/python3.10/dist-packages (from flair->textattack) (2.1.0)\n",
            "Requirement already satisfied: tabulate>=0.8.10 in /usr/local/lib/python3.10/dist-packages (from flair->textattack) (0.9.0)\n",
            "Requirement already satisfied: transformer-smaller-training-vocab>=0.2.3 in /usr/local/lib/python3.10/dist-packages (from flair->textattack) (0.3.2)\n",
            "Requirement already satisfied: urllib3<2.0.0,>=1.0.0 in /usr/local/lib/python3.10/dist-packages (from flair->textattack) (1.26.18)\n",
            "Requirement already satisfied: wikipedia-api>=0.5.7 in /usr/local/lib/python3.10/dist-packages (from flair->textattack) (0.6.0)\n",
            "Requirement already satisfied: semver<4.0.0,>=3.0.0 in /usr/local/lib/python3.10/dist-packages (from flair->textattack) (3.0.2)\n",
            "Requirement already satisfied: joblib in /usr/local/lib/python3.10/dist-packages (from nltk->textattack) (1.3.2)\n",
            "Requirement already satisfied: docopt>=0.6.2 in /usr/local/lib/python3.10/dist-packages (from num2words->textattack) (0.6.2)\n",
            "Requirement already satisfied: anytree in /usr/local/lib/python3.10/dist-packages (from OpenHowNet->textattack) (2.12.0)\n",
            "Requirement already satisfied: setuptools in /usr/local/lib/python3.10/dist-packages (from OpenHowNet->textattack) (67.7.2)\n",
            "Requirement already satisfied: botocore<1.32.0,>=1.31.80 in /usr/local/lib/python3.10/dist-packages (from boto3>=1.20.27->flair->textattack) (1.31.80)\n",
            "Requirement already satisfied: jmespath<2.0.0,>=0.7.1 in /usr/local/lib/python3.10/dist-packages (from boto3>=1.20.27->flair->textattack) (1.0.1)\n",
            "Requirement already satisfied: s3transfer<0.8.0,>=0.7.0 in /usr/local/lib/python3.10/dist-packages (from boto3>=1.20.27->flair->textattack) (0.7.0)\n",
            "Requirement already satisfied: sentencepiece in /usr/local/lib/python3.10/dist-packages (from bpemb>=0.3.2->flair->textattack) (0.1.99)\n",
            "Requirement already satisfied: wrapt<2,>=1.10 in /usr/local/lib/python3.10/dist-packages (from deprecated>=1.2.13->flair->textattack) (1.14.1)\n",
            "Requirement already satisfied: attrs>=17.3.0 in /usr/local/lib/python3.10/dist-packages (from aiohttp->datasets>=2.4.0->textattack) (23.1.0)\n",
            "Requirement already satisfied: charset-normalizer<4.0,>=2.0 in /usr/local/lib/python3.10/dist-packages (from aiohttp->datasets>=2.4.0->textattack) (3.3.2)\n",
            "Requirement already satisfied: multidict<7.0,>=4.5 in /usr/local/lib/python3.10/dist-packages (from aiohttp->datasets>=2.4.0->textattack) (6.0.4)\n",
            "Requirement already satisfied: async-timeout<5.0,>=4.0.0a3 in /usr/local/lib/python3.10/dist-packages (from aiohttp->datasets>=2.4.0->textattack) (4.0.3)\n",
            "Requirement already satisfied: yarl<2.0,>=1.0 in /usr/local/lib/python3.10/dist-packages (from aiohttp->datasets>=2.4.0->textattack) (1.9.2)\n",
            "Requirement already satisfied: frozenlist>=1.1.1 in /usr/local/lib/python3.10/dist-packages (from aiohttp->datasets>=2.4.0->textattack) (1.4.0)\n",
            "Requirement already satisfied: aiosignal>=1.1.2 in /usr/local/lib/python3.10/dist-packages (from aiohttp->datasets>=2.4.0->textattack) (1.3.1)\n",
            "Requirement already satisfied: wcwidth>=0.2.5 in /usr/local/lib/python3.10/dist-packages (from ftfy>=6.1.0->flair->textattack) (0.2.9)\n",
            "Requirement already satisfied: six in /usr/local/lib/python3.10/dist-packages (from gdown>=4.4.0->flair->textattack) (1.16.0)\n",
            "Requirement already satisfied: beautifulsoup4 in /usr/local/lib/python3.10/dist-packages (from gdown>=4.4.0->flair->textattack) (4.11.2)\n",
            "Requirement already satisfied: smart-open>=1.8.1 in /usr/local/lib/python3.10/dist-packages (from gensim>=4.2.0->flair->textattack) (6.4.0)\n",
            "Requirement already satisfied: contourpy>=1.0.1 in /usr/local/lib/python3.10/dist-packages (from matplotlib->bert-score>=0.3.5->textattack) (1.2.0)\n",
            "Requirement already satisfied: cycler>=0.10 in /usr/local/lib/python3.10/dist-packages (from matplotlib->bert-score>=0.3.5->textattack) (0.12.1)\n",
            "Requirement already satisfied: fonttools>=4.22.0 in /usr/local/lib/python3.10/dist-packages (from matplotlib->bert-score>=0.3.5->textattack) (4.44.0)\n",
            "Requirement already satisfied: kiwisolver>=1.0.1 in /usr/local/lib/python3.10/dist-packages (from matplotlib->bert-score>=0.3.5->textattack) (1.4.5)\n",
            "Requirement already satisfied: pillow>=6.2.0 in /usr/local/lib/python3.10/dist-packages (from matplotlib->bert-score>=0.3.5->textattack) (9.4.0)\n",
            "Requirement already satisfied: pyparsing>=2.3.1 in /usr/local/lib/python3.10/dist-packages (from matplotlib->bert-score>=0.3.5->textattack) (3.1.1)\n",
            "Requirement already satisfied: idna<4,>=2.5 in /usr/local/lib/python3.10/dist-packages (from requests->bert-score>=0.3.5->textattack) (3.4)\n",
            "Requirement already satisfied: certifi>=2017.4.17 in /usr/local/lib/python3.10/dist-packages (from requests->bert-score>=0.3.5->textattack) (2023.7.22)\n",
            "Requirement already satisfied: threadpoolctl>=2.0.0 in /usr/local/lib/python3.10/dist-packages (from scikit-learn>=1.0.2->flair->textattack) (3.2.0)\n",
            "Requirement already satisfied: protobuf in /usr/local/lib/python3.10/dist-packages (from transformers>=4.30.0->textattack) (3.20.3)\n",
            "Requirement already satisfied: MarkupSafe>=2.0 in /usr/local/lib/python3.10/dist-packages (from jinja2->torch!=1.8,>=1.7.0->textattack) (2.1.3)\n",
            "Requirement already satisfied: mpmath>=0.19 in /usr/local/lib/python3.10/dist-packages (from sympy->torch!=1.8,>=1.7.0->textattack) (1.3.0)\n",
            "Requirement already satisfied: accelerate>=0.20.3 in /usr/local/lib/python3.10/dist-packages (from transformers>=4.30.0->textattack) (0.24.1)\n",
            "Requirement already satisfied: soupsieve>1.2 in /usr/local/lib/python3.10/dist-packages (from beautifulsoup4->gdown>=4.4.0->flair->textattack) (2.5)\n",
            "Requirement already satisfied: psutil in /usr/local/lib/python3.10/dist-packages (from accelerate>=0.20.3->transformers>=4.30.0->textattack) (5.9.5)\n"
          ]
        }
      ]
    },
    {
      "cell_type": "code",
      "source": [
        "!textattack train --model google/electra-small-discriminator  --dataset snli  --epochs 3 --learning-rate 1e-5 --attack textfooler --checkpoint-interval-epochs 1 --model-num-labels 3 --filter-train-by-labels 0 1 2 --filter-eval-by-labels 0 1 2 --output-dir ./trained_model_ta_tf/"
      ],
      "metadata": {
        "colab": {
          "base_uri": "https://localhost:8080/"
        },
        "id": "v42QbiExBJjg",
        "outputId": "37ab41a1-22cf-4f8d-a2d3-699ef5a9fce5"
      },
      "execution_count": null,
      "outputs": [
        {
          "output_type": "stream",
          "name": "stdout",
          "text": [
            "\u001b[34;1mtextattack\u001b[0m: Updating TextAttack package dependencies.\n",
            "\u001b[34;1mtextattack\u001b[0m: Downloading NLTK required packages.\n",
            "[nltk_data] Downloading package averaged_perceptron_tagger to\n",
            "[nltk_data]     /root/nltk_data...\n",
            "[nltk_data]   Unzipping taggers/averaged_perceptron_tagger.zip.\n",
            "[nltk_data] Downloading package stopwords to /root/nltk_data...\n",
            "[nltk_data]   Unzipping corpora/stopwords.zip.\n",
            "[nltk_data] Downloading package omw to /root/nltk_data...\n",
            "[nltk_data] Downloading package universal_tagset to /root/nltk_data...\n",
            "[nltk_data]   Unzipping taggers/universal_tagset.zip.\n",
            "[nltk_data] Downloading package wordnet to /root/nltk_data...\n",
            "[nltk_data] Downloading package punkt to /root/nltk_data...\n",
            "[nltk_data]   Unzipping tokenizers/punkt.zip.\n",
            "2023-11-07 23:02:54.124496: E tensorflow/compiler/xla/stream_executor/cuda/cuda_dnn.cc:9342] Unable to register cuDNN factory: Attempting to register factory for plugin cuDNN when one has already been registered\n",
            "2023-11-07 23:02:54.124548: E tensorflow/compiler/xla/stream_executor/cuda/cuda_fft.cc:609] Unable to register cuFFT factory: Attempting to register factory for plugin cuFFT when one has already been registered\n",
            "2023-11-07 23:02:54.124580: E tensorflow/compiler/xla/stream_executor/cuda/cuda_blas.cc:1518] Unable to register cuBLAS factory: Attempting to register factory for plugin cuBLAS when one has already been registered\n",
            "2023-11-07 23:02:55.309424: W tensorflow/compiler/tf2tensorrt/utils/py_utils.cc:38] TF-TRT Warning: Could not find TensorRT\n",
            "\u001b[34;1mtextattack\u001b[0m: Loading transformers AutoModelForSequenceClassification: google/electra-small-discriminator\n",
            "Downloading (…)lve/main/config.json: 100% 665/665 [00:00<00:00, 4.28MB/s]\n",
            "Downloading pytorch_model.bin: 100% 54.2M/54.2M [00:00<00:00, 401MB/s]\n",
            "Some weights of ElectraForSequenceClassification were not initialized from the model checkpoint at google/electra-small-discriminator and are newly initialized: ['classifier.out_proj.bias', 'classifier.dense.weight', 'classifier.dense.bias', 'classifier.out_proj.weight']\n",
            "You should probably TRAIN this model on a down-stream task to be able to use it for predictions and inference.\n",
            "Downloading (…)okenizer_config.json: 100% 29.0/29.0 [00:00<00:00, 209kB/s]\n",
            "Downloading (…)solve/main/vocab.txt: 100% 232k/232k [00:00<00:00, 44.9MB/s]\n",
            "Downloading (…)/main/tokenizer.json: 100% 466k/466k [00:00<00:00, 34.1MB/s]\n",
            "Downloading builder script: 100% 3.82k/3.82k [00:00<00:00, 23.5MB/s]\n",
            "Downloading metadata: 100% 1.90k/1.90k [00:00<00:00, 12.3MB/s]\n",
            "Downloading readme: 100% 14.1k/14.1k [00:00<00:00, 37.0MB/s]\n",
            "Downloading: 100% 1.93k/1.93k [00:00<00:00, 12.0MB/s]\n",
            "Downloading: 100% 1.26M/1.26M [00:00<00:00, 1.31MB/s]\n",
            "Downloading: 100% 65.9M/65.9M [00:04<00:00, 13.5MB/s]\n",
            "Downloading: 100% 1.26M/1.26M [00:00<00:00, 1.30MB/s]\n",
            "\u001b[34;1mtextattack\u001b[0m: Loading \u001b[94mdatasets\u001b[0m dataset \u001b[94msnli\u001b[0m, split \u001b[94mtrain\u001b[0m.\n",
            "\u001b[34;1mtextattack\u001b[0m: Loading \u001b[94mdatasets\u001b[0m dataset \u001b[94msnli\u001b[0m, split \u001b[94mvalidation\u001b[0m.\n",
            "Filter: 100% 550152/550152 [00:02<00:00, 248225.95 examples/s]\n",
            "Filter: 100% 10000/10000 [00:00<00:00, 237846.49 examples/s]\n",
            "\u001b[34;1mtextattack\u001b[0m: Downloading https://textattack.s3.amazonaws.com/word_embeddings/paragramcf.\n",
            "100% 481M/481M [00:42<00:00, 11.4MB/s]\n",
            "\u001b[34;1mtextattack\u001b[0m: Unzipping file /root/.cache/textattack/tmpsw5lpbr3.zip to /root/.cache/textattack/word_embeddings/paragramcf.\n",
            "\u001b[34;1mtextattack\u001b[0m: Successfully saved word_embeddings/paragramcf to cache.\n",
            "\u001b[34;1mtextattack\u001b[0m: Unknown if model of class <class 'transformers.models.electra.modeling_electra.ElectraForSequenceClassification'> compatible with goal function <class 'textattack.goal_functions.classification.untargeted_classification.UntargetedClassification'>.\n",
            "\u001b[34;1mtextattack\u001b[0m: Writing logs to ./trained_model_ta_tf/train_log.txt.\n",
            "\u001b[34;1mtextattack\u001b[0m: Wrote original training args to ./trained_model_ta_tf/training_args.json.\n",
            "/usr/local/lib/python3.10/dist-packages/transformers/optimization.py:411: FutureWarning: This implementation of AdamW is deprecated and will be removed in a future version. Use the PyTorch implementation torch.optim.AdamW instead, or set `no_deprecation_warning=True` to disable this warning\n",
            "  warnings.warn(\n",
            "\u001b[34;1mtextattack\u001b[0m: ***** Running training *****\n",
            "\u001b[34;1mtextattack\u001b[0m:   Num examples = 549367\n",
            "\u001b[34;1mtextattack\u001b[0m:   Num epochs = 3\n",
            "\u001b[34;1mtextattack\u001b[0m:   Num clean epochs = 1\n",
            "\u001b[34;1mtextattack\u001b[0m:   Instantaneous batch size per device = 8\n",
            "\u001b[34;1mtextattack\u001b[0m:   Total train batch size (w. parallel, distributed & accumulation) = 8\n",
            "\u001b[34;1mtextattack\u001b[0m:   Gradient accumulation steps = 1\n",
            "\u001b[34;1mtextattack\u001b[0m:   Total optimization steps = 343355\n",
            "\u001b[34;1mtextattack\u001b[0m: ==========================================================\n",
            "\u001b[34;1mtextattack\u001b[0m: Epoch 1\n",
            "\u001b[34;1mtextattack\u001b[0m: Running clean epoch 1/1\n",
            "Loss 1.09933:   0% 235/68671 [00:18<1:14:15, 15.36it/s]Exception ignored in: <generator object tqdm.__iter__ at 0x7cf7293db220>\n",
            "Traceback (most recent call last):\n",
            "  File \"/usr/local/lib/python3.10/dist-packages/tqdm/std.py\", line 1183, in __iter__\n",
            "    yield obj\n",
            "KeyboardInterrupt: \n",
            "Traceback (most recent call last):\n",
            "  File \"/usr/local/bin/textattack\", line 8, in <module>\n",
            "    sys.exit(main())\n",
            "  File \"/usr/local/lib/python3.10/dist-packages/textattack/commands/textattack_cli.py\", line 50, in main\n",
            "    func.run(args)\n",
            "  File \"/usr/local/lib/python3.10/dist-packages/textattack/commands/train_model_command.py\", line 38, in run\n",
            "    trainer.train()\n",
            "  File \"/usr/local/lib/python3.10/dist-packages/textattack/trainer.py\", line 748, in train\n",
            "    optimizer.step()\n",
            "  File \"/usr/local/lib/python3.10/dist-packages/torch/optim/lr_scheduler.py\", line 68, in wrapper\n",
            "    return wrapped(*args, **kwargs)\n",
            "  File \"/usr/local/lib/python3.10/dist-packages/torch/optim/optimizer.py\", line 373, in wrapper\n",
            "    out = func(*args, **kwargs)\n",
            "  File \"/usr/local/lib/python3.10/dist-packages/torch/utils/_contextlib.py\", line 115, in decorate_context\n",
            "    return func(*args, **kwargs)\n",
            "  File \"/usr/local/lib/python3.10/dist-packages/transformers/optimization.py\", line 467, in step\n",
            "    exp_avg_sq.mul_(beta2).addcmul_(grad, grad, value=1.0 - beta2)\n",
            "KeyboardInterrupt\n",
            "Loss 1.09933:   0% 235/68671 [00:19<1:32:30, 12.33it/s]\n"
          ]
        }
      ]
    },
    {
      "cell_type": "code",
      "source": [
        "pip install textattack"
      ],
      "metadata": {
        "colab": {
          "base_uri": "https://localhost:8080/"
        },
        "id": "48voPx2tCIQp",
        "outputId": "49881a3e-03a3-488f-9d6f-3ab7426c33b2"
      },
      "execution_count": null,
      "outputs": [
        {
          "output_type": "stream",
          "name": "stdout",
          "text": [
            "Requirement already satisfied: textattack in /usr/local/lib/python3.10/dist-packages (0.3.9)\n",
            "Requirement already satisfied: bert-score>=0.3.5 in /usr/local/lib/python3.10/dist-packages (from textattack) (0.3.13)\n",
            "Requirement already satisfied: editdistance in /usr/local/lib/python3.10/dist-packages (from textattack) (0.6.2)\n",
            "Requirement already satisfied: flair in /usr/local/lib/python3.10/dist-packages (from textattack) (0.13.0)\n",
            "Requirement already satisfied: filelock in /usr/local/lib/python3.10/dist-packages (from textattack) (3.13.1)\n",
            "Requirement already satisfied: language-tool-python in /usr/local/lib/python3.10/dist-packages (from textattack) (2.7.1)\n",
            "Requirement already satisfied: lemminflect in /usr/local/lib/python3.10/dist-packages (from textattack) (0.2.3)\n",
            "Requirement already satisfied: lru-dict in /usr/local/lib/python3.10/dist-packages (from textattack) (1.3.0)\n",
            "Requirement already satisfied: datasets>=2.4.0 in /usr/local/lib/python3.10/dist-packages (from textattack) (2.14.6)\n",
            "Requirement already satisfied: nltk in /usr/local/lib/python3.10/dist-packages (from textattack) (3.8.1)\n",
            "Requirement already satisfied: numpy>=1.21.0 in /usr/local/lib/python3.10/dist-packages (from textattack) (1.23.5)\n",
            "Requirement already satisfied: pandas>=1.0.1 in /usr/local/lib/python3.10/dist-packages (from textattack) (1.5.3)\n",
            "Requirement already satisfied: scipy>=1.4.1 in /usr/local/lib/python3.10/dist-packages (from textattack) (1.11.3)\n",
            "Requirement already satisfied: torch!=1.8,>=1.7.0 in /usr/local/lib/python3.10/dist-packages (from textattack) (2.1.0+cu118)\n",
            "Requirement already satisfied: transformers>=4.30.0 in /usr/local/lib/python3.10/dist-packages (from textattack) (4.35.0)\n",
            "Requirement already satisfied: terminaltables in /usr/local/lib/python3.10/dist-packages (from textattack) (3.1.10)\n",
            "Requirement already satisfied: tqdm in /usr/local/lib/python3.10/dist-packages (from textattack) (4.66.1)\n",
            "Requirement already satisfied: word2number in /usr/local/lib/python3.10/dist-packages (from textattack) (1.1)\n",
            "Requirement already satisfied: num2words in /usr/local/lib/python3.10/dist-packages (from textattack) (0.5.13)\n",
            "Requirement already satisfied: more-itertools in /usr/local/lib/python3.10/dist-packages (from textattack) (10.1.0)\n",
            "Requirement already satisfied: PySocks!=1.5.7,>=1.5.6 in /usr/local/lib/python3.10/dist-packages (from textattack) (1.7.1)\n",
            "Requirement already satisfied: pinyin>=0.4.0 in /usr/local/lib/python3.10/dist-packages (from textattack) (0.4.0)\n",
            "Requirement already satisfied: jieba in /usr/local/lib/python3.10/dist-packages (from textattack) (0.42.1)\n",
            "Requirement already satisfied: OpenHowNet in /usr/local/lib/python3.10/dist-packages (from textattack) (2.0)\n",
            "Requirement already satisfied: pycld2 in /usr/local/lib/python3.10/dist-packages (from textattack) (0.41)\n",
            "Requirement already satisfied: click<8.1.0 in /usr/local/lib/python3.10/dist-packages (from textattack) (8.0.4)\n",
            "Requirement already satisfied: requests in /usr/local/lib/python3.10/dist-packages (from bert-score>=0.3.5->textattack) (2.31.0)\n",
            "Requirement already satisfied: matplotlib in /usr/local/lib/python3.10/dist-packages (from bert-score>=0.3.5->textattack) (3.7.1)\n",
            "Requirement already satisfied: packaging>=20.9 in /usr/local/lib/python3.10/dist-packages (from bert-score>=0.3.5->textattack) (23.2)\n",
            "Requirement already satisfied: pyarrow>=8.0.0 in /usr/local/lib/python3.10/dist-packages (from datasets>=2.4.0->textattack) (9.0.0)\n",
            "Requirement already satisfied: dill<0.3.8,>=0.3.0 in /usr/local/lib/python3.10/dist-packages (from datasets>=2.4.0->textattack) (0.3.7)\n",
            "Requirement already satisfied: xxhash in /usr/local/lib/python3.10/dist-packages (from datasets>=2.4.0->textattack) (3.4.1)\n",
            "Requirement already satisfied: multiprocess in /usr/local/lib/python3.10/dist-packages (from datasets>=2.4.0->textattack) (0.70.15)\n",
            "Requirement already satisfied: fsspec[http]<=2023.10.0,>=2023.1.0 in /usr/local/lib/python3.10/dist-packages (from datasets>=2.4.0->textattack) (2023.6.0)\n",
            "Requirement already satisfied: aiohttp in /usr/local/lib/python3.10/dist-packages (from datasets>=2.4.0->textattack) (3.8.6)\n",
            "Requirement already satisfied: huggingface-hub<1.0.0,>=0.14.0 in /usr/local/lib/python3.10/dist-packages (from datasets>=2.4.0->textattack) (0.17.3)\n",
            "Requirement already satisfied: pyyaml>=5.1 in /usr/local/lib/python3.10/dist-packages (from datasets>=2.4.0->textattack) (6.0.1)\n",
            "Requirement already satisfied: python-dateutil>=2.8.1 in /usr/local/lib/python3.10/dist-packages (from pandas>=1.0.1->textattack) (2.8.2)\n",
            "Requirement already satisfied: pytz>=2020.1 in /usr/local/lib/python3.10/dist-packages (from pandas>=1.0.1->textattack) (2023.3.post1)\n",
            "Requirement already satisfied: typing-extensions in /usr/local/lib/python3.10/dist-packages (from torch!=1.8,>=1.7.0->textattack) (4.5.0)\n",
            "Requirement already satisfied: sympy in /usr/local/lib/python3.10/dist-packages (from torch!=1.8,>=1.7.0->textattack) (1.12)\n",
            "Requirement already satisfied: networkx in /usr/local/lib/python3.10/dist-packages (from torch!=1.8,>=1.7.0->textattack) (3.2.1)\n",
            "Requirement already satisfied: jinja2 in /usr/local/lib/python3.10/dist-packages (from torch!=1.8,>=1.7.0->textattack) (3.1.2)\n",
            "Requirement already satisfied: triton==2.1.0 in /usr/local/lib/python3.10/dist-packages (from torch!=1.8,>=1.7.0->textattack) (2.1.0)\n",
            "Requirement already satisfied: regex!=2019.12.17 in /usr/local/lib/python3.10/dist-packages (from transformers>=4.30.0->textattack) (2023.6.3)\n",
            "Requirement already satisfied: tokenizers<0.15,>=0.14 in /usr/local/lib/python3.10/dist-packages (from transformers>=4.30.0->textattack) (0.14.1)\n",
            "Requirement already satisfied: safetensors>=0.3.1 in /usr/local/lib/python3.10/dist-packages (from transformers>=4.30.0->textattack) (0.4.0)\n",
            "Requirement already satisfied: boto3>=1.20.27 in /usr/local/lib/python3.10/dist-packages (from flair->textattack) (1.28.80)\n",
            "Requirement already satisfied: bpemb>=0.3.2 in /usr/local/lib/python3.10/dist-packages (from flair->textattack) (0.3.4)\n",
            "Requirement already satisfied: conllu>=4.0 in /usr/local/lib/python3.10/dist-packages (from flair->textattack) (4.5.3)\n",
            "Requirement already satisfied: deprecated>=1.2.13 in /usr/local/lib/python3.10/dist-packages (from flair->textattack) (1.2.14)\n",
            "Requirement already satisfied: ftfy>=6.1.0 in /usr/local/lib/python3.10/dist-packages (from flair->textattack) (6.1.1)\n",
            "Requirement already satisfied: gdown>=4.4.0 in /usr/local/lib/python3.10/dist-packages (from flair->textattack) (4.6.6)\n",
            "Requirement already satisfied: gensim>=4.2.0 in /usr/local/lib/python3.10/dist-packages (from flair->textattack) (4.3.2)\n",
            "Requirement already satisfied: janome>=0.4.2 in /usr/local/lib/python3.10/dist-packages (from flair->textattack) (0.5.0)\n",
            "Requirement already satisfied: langdetect>=1.0.9 in /usr/local/lib/python3.10/dist-packages (from flair->textattack) (1.0.9)\n",
            "Requirement already satisfied: lxml>=4.8.0 in /usr/local/lib/python3.10/dist-packages (from flair->textattack) (4.9.3)\n",
            "Requirement already satisfied: mpld3>=0.3 in /usr/local/lib/python3.10/dist-packages (from flair->textattack) (0.5.9)\n",
            "Requirement already satisfied: pptree>=3.1 in /usr/local/lib/python3.10/dist-packages (from flair->textattack) (3.1)\n",
            "Requirement already satisfied: pytorch-revgrad>=0.2.0 in /usr/local/lib/python3.10/dist-packages (from flair->textattack) (0.2.0)\n",
            "Requirement already satisfied: scikit-learn>=1.0.2 in /usr/local/lib/python3.10/dist-packages (from flair->textattack) (1.2.2)\n",
            "Requirement already satisfied: segtok>=1.5.11 in /usr/local/lib/python3.10/dist-packages (from flair->textattack) (1.5.11)\n",
            "Requirement already satisfied: sqlitedict>=2.0.0 in /usr/local/lib/python3.10/dist-packages (from flair->textattack) (2.1.0)\n",
            "Requirement already satisfied: tabulate>=0.8.10 in /usr/local/lib/python3.10/dist-packages (from flair->textattack) (0.9.0)\n",
            "Requirement already satisfied: transformer-smaller-training-vocab>=0.2.3 in /usr/local/lib/python3.10/dist-packages (from flair->textattack) (0.3.2)\n",
            "Requirement already satisfied: urllib3<2.0.0,>=1.0.0 in /usr/local/lib/python3.10/dist-packages (from flair->textattack) (1.26.18)\n",
            "Requirement already satisfied: wikipedia-api>=0.5.7 in /usr/local/lib/python3.10/dist-packages (from flair->textattack) (0.6.0)\n",
            "Requirement already satisfied: semver<4.0.0,>=3.0.0 in /usr/local/lib/python3.10/dist-packages (from flair->textattack) (3.0.2)\n",
            "Requirement already satisfied: joblib in /usr/local/lib/python3.10/dist-packages (from nltk->textattack) (1.3.2)\n",
            "Requirement already satisfied: docopt>=0.6.2 in /usr/local/lib/python3.10/dist-packages (from num2words->textattack) (0.6.2)\n",
            "Requirement already satisfied: anytree in /usr/local/lib/python3.10/dist-packages (from OpenHowNet->textattack) (2.12.0)\n",
            "Requirement already satisfied: setuptools in /usr/local/lib/python3.10/dist-packages (from OpenHowNet->textattack) (67.7.2)\n",
            "Requirement already satisfied: botocore<1.32.0,>=1.31.80 in /usr/local/lib/python3.10/dist-packages (from boto3>=1.20.27->flair->textattack) (1.31.80)\n",
            "Requirement already satisfied: jmespath<2.0.0,>=0.7.1 in /usr/local/lib/python3.10/dist-packages (from boto3>=1.20.27->flair->textattack) (1.0.1)\n",
            "Requirement already satisfied: s3transfer<0.8.0,>=0.7.0 in /usr/local/lib/python3.10/dist-packages (from boto3>=1.20.27->flair->textattack) (0.7.0)\n",
            "Requirement already satisfied: sentencepiece in /usr/local/lib/python3.10/dist-packages (from bpemb>=0.3.2->flair->textattack) (0.1.99)\n",
            "Requirement already satisfied: wrapt<2,>=1.10 in /usr/local/lib/python3.10/dist-packages (from deprecated>=1.2.13->flair->textattack) (1.14.1)\n",
            "Requirement already satisfied: attrs>=17.3.0 in /usr/local/lib/python3.10/dist-packages (from aiohttp->datasets>=2.4.0->textattack) (23.1.0)\n",
            "Requirement already satisfied: charset-normalizer<4.0,>=2.0 in /usr/local/lib/python3.10/dist-packages (from aiohttp->datasets>=2.4.0->textattack) (3.3.2)\n",
            "Requirement already satisfied: multidict<7.0,>=4.5 in /usr/local/lib/python3.10/dist-packages (from aiohttp->datasets>=2.4.0->textattack) (6.0.4)\n",
            "Requirement already satisfied: async-timeout<5.0,>=4.0.0a3 in /usr/local/lib/python3.10/dist-packages (from aiohttp->datasets>=2.4.0->textattack) (4.0.3)\n",
            "Requirement already satisfied: yarl<2.0,>=1.0 in /usr/local/lib/python3.10/dist-packages (from aiohttp->datasets>=2.4.0->textattack) (1.9.2)\n",
            "Requirement already satisfied: frozenlist>=1.1.1 in /usr/local/lib/python3.10/dist-packages (from aiohttp->datasets>=2.4.0->textattack) (1.4.0)\n",
            "Requirement already satisfied: aiosignal>=1.1.2 in /usr/local/lib/python3.10/dist-packages (from aiohttp->datasets>=2.4.0->textattack) (1.3.1)\n",
            "Requirement already satisfied: wcwidth>=0.2.5 in /usr/local/lib/python3.10/dist-packages (from ftfy>=6.1.0->flair->textattack) (0.2.9)\n",
            "Requirement already satisfied: six in /usr/local/lib/python3.10/dist-packages (from gdown>=4.4.0->flair->textattack) (1.16.0)\n",
            "Requirement already satisfied: beautifulsoup4 in /usr/local/lib/python3.10/dist-packages (from gdown>=4.4.0->flair->textattack) (4.11.2)\n",
            "Requirement already satisfied: smart-open>=1.8.1 in /usr/local/lib/python3.10/dist-packages (from gensim>=4.2.0->flair->textattack) (6.4.0)\n",
            "Requirement already satisfied: contourpy>=1.0.1 in /usr/local/lib/python3.10/dist-packages (from matplotlib->bert-score>=0.3.5->textattack) (1.2.0)\n",
            "Requirement already satisfied: cycler>=0.10 in /usr/local/lib/python3.10/dist-packages (from matplotlib->bert-score>=0.3.5->textattack) (0.12.1)\n",
            "Requirement already satisfied: fonttools>=4.22.0 in /usr/local/lib/python3.10/dist-packages (from matplotlib->bert-score>=0.3.5->textattack) (4.44.0)\n",
            "Requirement already satisfied: kiwisolver>=1.0.1 in /usr/local/lib/python3.10/dist-packages (from matplotlib->bert-score>=0.3.5->textattack) (1.4.5)\n",
            "Requirement already satisfied: pillow>=6.2.0 in /usr/local/lib/python3.10/dist-packages (from matplotlib->bert-score>=0.3.5->textattack) (9.4.0)\n",
            "Requirement already satisfied: pyparsing>=2.3.1 in /usr/local/lib/python3.10/dist-packages (from matplotlib->bert-score>=0.3.5->textattack) (3.1.1)\n",
            "Requirement already satisfied: idna<4,>=2.5 in /usr/local/lib/python3.10/dist-packages (from requests->bert-score>=0.3.5->textattack) (3.4)\n",
            "Requirement already satisfied: certifi>=2017.4.17 in /usr/local/lib/python3.10/dist-packages (from requests->bert-score>=0.3.5->textattack) (2023.7.22)\n",
            "Requirement already satisfied: threadpoolctl>=2.0.0 in /usr/local/lib/python3.10/dist-packages (from scikit-learn>=1.0.2->flair->textattack) (3.2.0)\n",
            "Requirement already satisfied: protobuf in /usr/local/lib/python3.10/dist-packages (from transformers>=4.30.0->textattack) (3.20.3)\n",
            "Requirement already satisfied: MarkupSafe>=2.0 in /usr/local/lib/python3.10/dist-packages (from jinja2->torch!=1.8,>=1.7.0->textattack) (2.1.3)\n",
            "Requirement already satisfied: mpmath>=0.19 in /usr/local/lib/python3.10/dist-packages (from sympy->torch!=1.8,>=1.7.0->textattack) (1.3.0)\n",
            "Requirement already satisfied: accelerate>=0.20.3 in /usr/local/lib/python3.10/dist-packages (from transformers>=4.30.0->textattack) (0.24.1)\n",
            "Requirement already satisfied: soupsieve>1.2 in /usr/local/lib/python3.10/dist-packages (from beautifulsoup4->gdown>=4.4.0->flair->textattack) (2.5)\n",
            "Requirement already satisfied: psutil in /usr/local/lib/python3.10/dist-packages (from accelerate>=0.20.3->transformers>=4.30.0->textattack) (5.9.5)\n"
          ]
        }
      ]
    },
    {
      "cell_type": "code",
      "source": [
        "!textattack train --model google/electra-small-discriminator  --dataset snli  --epochs 3 --learning-rate 1e-5 --attack textfooler --checkpoint-interval-steps 5000 --checkpoint-interval-epochs 1 --model-num-labels 3 --filter-train-by-labels 0 1 2 --filter-eval-by-labels 0 1 2 --output-dir ./trained_model_ta_tf/"
      ],
      "metadata": {
        "colab": {
          "base_uri": "https://localhost:8080/"
        },
        "id": "Bx1cZH_UCU0S",
        "outputId": "3fe75265-3836-4a57-9b4c-db8d28ce0e32"
      },
      "execution_count": null,
      "outputs": [
        {
          "output_type": "stream",
          "name": "stdout",
          "text": [
            "\u001b[34;1mtextattack\u001b[0m: Updating TextAttack package dependencies.\n",
            "\u001b[34;1mtextattack\u001b[0m: Downloading NLTK required packages.\n",
            "[nltk_data] Downloading package averaged_perceptron_tagger to\n",
            "[nltk_data]     /root/nltk_data...\n",
            "[nltk_data]   Unzipping taggers/averaged_perceptron_tagger.zip.\n",
            "[nltk_data] Downloading package stopwords to /root/nltk_data...\n",
            "[nltk_data]   Unzipping corpora/stopwords.zip.\n",
            "[nltk_data] Downloading package omw to /root/nltk_data...\n",
            "[nltk_data] Downloading package universal_tagset to /root/nltk_data...\n",
            "[nltk_data]   Unzipping taggers/universal_tagset.zip.\n",
            "[nltk_data] Downloading package wordnet to /root/nltk_data...\n",
            "[nltk_data] Downloading package punkt to /root/nltk_data...\n",
            "[nltk_data]   Unzipping tokenizers/punkt.zip.\n",
            "2023-11-08 11:21:41.005705: E tensorflow/compiler/xla/stream_executor/cuda/cuda_dnn.cc:9342] Unable to register cuDNN factory: Attempting to register factory for plugin cuDNN when one has already been registered\n",
            "2023-11-08 11:21:41.005752: E tensorflow/compiler/xla/stream_executor/cuda/cuda_fft.cc:609] Unable to register cuFFT factory: Attempting to register factory for plugin cuFFT when one has already been registered\n",
            "2023-11-08 11:21:41.005777: E tensorflow/compiler/xla/stream_executor/cuda/cuda_blas.cc:1518] Unable to register cuBLAS factory: Attempting to register factory for plugin cuBLAS when one has already been registered\n",
            "2023-11-08 11:21:42.134059: W tensorflow/compiler/tf2tensorrt/utils/py_utils.cc:38] TF-TRT Warning: Could not find TensorRT\n",
            "\u001b[34;1mtextattack\u001b[0m: Loading transformers AutoModelForSequenceClassification: google/electra-small-discriminator\n",
            "Downloading (…)lve/main/config.json: 100% 665/665 [00:00<00:00, 4.28MB/s]\n",
            "Downloading pytorch_model.bin: 100% 54.2M/54.2M [00:07<00:00, 7.35MB/s]\n",
            "Some weights of ElectraForSequenceClassification were not initialized from the model checkpoint at google/electra-small-discriminator and are newly initialized: ['classifier.dense.weight', 'classifier.out_proj.weight', 'classifier.dense.bias', 'classifier.out_proj.bias']\n",
            "You should probably TRAIN this model on a down-stream task to be able to use it for predictions and inference.\n",
            "Downloading (…)okenizer_config.json: 100% 29.0/29.0 [00:00<00:00, 166kB/s]\n",
            "Downloading (…)solve/main/vocab.txt: 100% 232k/232k [00:00<00:00, 1.40MB/s]\n",
            "Downloading (…)/main/tokenizer.json: 100% 466k/466k [00:00<00:00, 1.87MB/s]\n",
            "Downloading builder script: 100% 3.82k/3.82k [00:00<00:00, 28.0MB/s]\n",
            "Downloading metadata: 100% 1.90k/1.90k [00:00<00:00, 16.5MB/s]\n",
            "Downloading readme: 100% 14.1k/14.1k [00:00<00:00, 43.4MB/s]\n",
            "Downloading: 100% 1.93k/1.93k [00:00<00:00, 13.5MB/s]\n",
            "Downloading: 100% 1.26M/1.26M [00:00<00:00, 3.05MB/s]\n",
            "Downloading: 100% 65.9M/65.9M [00:02<00:00, 31.1MB/s]\n",
            "Downloading: 100% 1.26M/1.26M [00:00<00:00, 3.04MB/s]\n",
            "\u001b[34;1mtextattack\u001b[0m: Loading \u001b[94mdatasets\u001b[0m dataset \u001b[94msnli\u001b[0m, split \u001b[94mtrain\u001b[0m.\n",
            "\u001b[34;1mtextattack\u001b[0m: Loading \u001b[94mdatasets\u001b[0m dataset \u001b[94msnli\u001b[0m, split \u001b[94mvalidation\u001b[0m.\n",
            "Filter: 100% 550152/550152 [00:02<00:00, 246134.42 examples/s]\n",
            "Filter: 100% 10000/10000 [00:00<00:00, 240659.15 examples/s]\n",
            "\u001b[34;1mtextattack\u001b[0m: Downloading https://textattack.s3.amazonaws.com/word_embeddings/paragramcf.\n",
            "100% 481M/481M [00:18<00:00, 26.2MB/s]\n",
            "\u001b[34;1mtextattack\u001b[0m: Unzipping file /root/.cache/textattack/tmptil4_eun.zip to /root/.cache/textattack/word_embeddings/paragramcf.\n",
            "\u001b[34;1mtextattack\u001b[0m: Successfully saved word_embeddings/paragramcf to cache.\n",
            "\u001b[34;1mtextattack\u001b[0m: Unknown if model of class <class 'transformers.models.electra.modeling_electra.ElectraForSequenceClassification'> compatible with goal function <class 'textattack.goal_functions.classification.untargeted_classification.UntargetedClassification'>.\n",
            "\u001b[34;1mtextattack\u001b[0m: Writing logs to ./trained_model_ta_tf/train_log.txt.\n",
            "\u001b[34;1mtextattack\u001b[0m: Wrote original training args to ./trained_model_ta_tf/training_args.json.\n",
            "/usr/local/lib/python3.10/dist-packages/transformers/optimization.py:411: FutureWarning: This implementation of AdamW is deprecated and will be removed in a future version. Use the PyTorch implementation torch.optim.AdamW instead, or set `no_deprecation_warning=True` to disable this warning\n",
            "  warnings.warn(\n",
            "\u001b[34;1mtextattack\u001b[0m: ***** Running training *****\n",
            "\u001b[34;1mtextattack\u001b[0m:   Num examples = 549367\n",
            "\u001b[34;1mtextattack\u001b[0m:   Num epochs = 3\n",
            "\u001b[34;1mtextattack\u001b[0m:   Num clean epochs = 1\n",
            "\u001b[34;1mtextattack\u001b[0m:   Instantaneous batch size per device = 8\n",
            "\u001b[34;1mtextattack\u001b[0m:   Total train batch size (w. parallel, distributed & accumulation) = 8\n",
            "\u001b[34;1mtextattack\u001b[0m:   Gradient accumulation steps = 1\n",
            "\u001b[34;1mtextattack\u001b[0m:   Total optimization steps = 343355\n",
            "\u001b[34;1mtextattack\u001b[0m: ==========================================================\n",
            "\u001b[34;1mtextattack\u001b[0m: Epoch 1\n",
            "\u001b[34;1mtextattack\u001b[0m: Running clean epoch 1/1\n",
            "Loss 0.46146: 100% 68671/68671 [1:20:31<00:00, 14.21it/s]\n",
            "\u001b[34;1mtextattack\u001b[0m: Train accuracy: 81.94%\n",
            "\u001b[34;1mtextattack\u001b[0m: Eval accuracy: 87.55%\n",
            "\u001b[34;1mtextattack\u001b[0m: Best score found. Saved model to ./trained_model_ta_tf//best_model/\n",
            "\u001b[34;1mtextattack\u001b[0m: ==========================================================\n",
            "\u001b[34;1mtextattack\u001b[0m: Epoch 2\n",
            "\u001b[34;1mtextattack\u001b[0m: Attacking model to generate new adversarial training set...\n",
            "  0% 0/549367 [00:00<?, ?it/s]2023-11-08 12:44:11.623976: W tensorflow/core/common_runtime/gpu/gpu_bfc_allocator.cc:47] Overriding orig_value setting because the TF_FORCE_GPU_ALLOW_GROWTH environment variable is set. Original config value was 0.\n",
            "[Succeeded / Failed / Skipped / Total] 23478 / 1015 / 3641 / 28134:   5% 28134/549367 [1:45:15<32:30:08,  4.45it/s]Traceback (most recent call last):\n",
            "  File \"/usr/local/bin/textattack\", line 8, in <module>\n",
            "    sys.exit(main())\n",
            "  File \"/usr/local/lib/python3.10/dist-packages/textattack/commands/textattack_cli.py\", line 50, in main\n",
            "    func.run(args)\n",
            "  File \"/usr/local/lib/python3.10/dist-packages/textattack/commands/train_model_command.py\", line 38, in run\n",
            "    trainer.train()\n",
            "  File \"/usr/local/lib/python3.10/dist-packages/textattack/trainer.py\", line 709, in train\n",
            "    adv_dataset = self._generate_adversarial_examples(epoch)\n",
            "  File \"/usr/local/lib/python3.10/dist-packages/textattack/trainer.py\", line 216, in _generate_adversarial_examples\n",
            "    results = attacker.attack_dataset()\n",
            "  File \"/usr/local/lib/python3.10/dist-packages/textattack/attacker.py\", line 441, in attack_dataset\n",
            "    self._attack()\n",
            "  File \"/usr/local/lib/python3.10/dist-packages/textattack/attacker.py\", line 168, in _attack\n",
            "    result = self.attack.attack(example, ground_truth_output)\n",
            "  File \"/usr/local/lib/python3.10/dist-packages/textattack/attack.py\", line 450, in attack\n",
            "    result = self._attack(goal_function_result)\n",
            "  File \"/usr/local/lib/python3.10/dist-packages/textattack/attack.py\", line 398, in _attack\n",
            "    final_result = self.search_method(initial_result)\n",
            "  File \"/usr/local/lib/python3.10/dist-packages/textattack/search_methods/search_method.py\", line 36, in __call__\n",
            "    result = self.perform_search(initial_result)\n",
            "  File \"/usr/local/lib/python3.10/dist-packages/textattack/search_methods/greedy_word_swap_wir.py\", line 149, in perform_search\n",
            "    results, search_over = self.get_goal_results(transformed_text_candidates)\n",
            "  File \"/usr/local/lib/python3.10/dist-packages/textattack/goal_functions/goal_function.py\", line 96, in get_results\n",
            "    model_outputs = self._call_model(attacked_text_list)\n",
            "  File \"/usr/local/lib/python3.10/dist-packages/textattack/goal_functions/goal_function.py\", line 219, in _call_model\n",
            "    outputs = self._call_model_uncached(uncached_list)\n",
            "  File \"/usr/local/lib/python3.10/dist-packages/textattack/goal_functions/goal_function.py\", line 174, in _call_model_uncached\n",
            "    batch_preds = batch_preds.cpu()\n",
            "KeyboardInterrupt\n",
            "[Succeeded / Failed / Skipped / Total] 23478 / 1015 / 3641 / 28134:   5% 28134/549367 [1:45:16<32:30:30,  4.45it/s]\n"
          ]
        }
      ]
    }
  ]
}